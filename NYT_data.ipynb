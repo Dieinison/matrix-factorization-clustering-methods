{
 "cells": [
  {
   "cell_type": "code",
   "execution_count": 7,
   "metadata": {},
   "outputs": [],
   "source": [
    "from sklearn import datasets\n",
    "from sklearn.cluster import KMeans\n",
    "from sklearn import decomposition\n",
    "from matplotlib import pyplot as plt\n",
    "import numpy as np\n",
    "import pandas as pd\n",
    "from sklearn import preprocessing\n",
    "from sklearn import model_selection\n",
    "from sklearn.metrics.cluster import homogeneity_score\n",
    "from sklearn.metrics.cluster import completeness_score\n",
    "from sklearn.manifold.t_sne import TSNE\n",
    "from NMF import simple_nmf\n",
    "from NMF import nmf_kl"
   ]
  },
  {
   "cell_type": "code",
   "execution_count": 2,
   "metadata": {},
   "outputs": [],
   "source": [
    "with open('data/nyt_data.txt') as f:\n",
    "    documents = f.readlines()\n",
    "documents = [x.strip().strip('\\n').strip(\"'\") for x in documents] "
   ]
  },
  {
   "cell_type": "code",
   "execution_count": 3,
   "metadata": {},
   "outputs": [],
   "source": [
    "# contains vocabs with rows as index\n",
    "with open('data/nyt_vocab.dat') as f:\n",
    "    vocabs = f.readlines()\n",
    "vocabs = [x.strip().strip('\\n').strip(\"'\") for x in vocabs]\n",
    "numDoc = 8447\n",
    "numWord = 3012 \n",
    "X = np.zeros([numWord,numDoc])\n",
    "\n",
    "for col in range(len(documents)):\n",
    "    for row in documents[col].split(','):\n",
    "        X[int(row.split(':')[0])-1,col] = int(row.split(':')[1])"
   ]
  },
  {
   "cell_type": "code",
   "execution_count": 11,
   "metadata": {},
   "outputs": [
    {
     "name": "stdout",
     "output_type": "stream",
     "text": [
      "Applying multiplicative updates on the input matrix...\n"
     ]
    }
   ],
   "source": [
    "W,H = simple_nmf(X,25,100)"
   ]
  },
  {
   "cell_type": "code",
   "execution_count": 12,
   "metadata": {},
   "outputs": [],
   "source": [
    "'''normalize each column to sum to zero'''\n",
    "W_normed = W / np.sum(W,axis=0)"
   ]
  },
  {
   "cell_type": "code",
   "execution_count": 13,
   "metadata": {},
   "outputs": [
    {
     "name": "stdout",
     "output_type": "stream",
     "text": [
      "\n",
      "    Topic 1    Weight      Topic 2    Weight    Topic 3    Weight    Topic 4    Weight   Topic 5    Weight\n",
      "0  percent  0.030607         area  0.015981      house  0.030405     school  0.051224       pay  0.022382\n",
      "1    price  0.018941        build  0.015739       home  0.029084    student  0.041678     money  0.017193\n",
      "2   market  0.018892     building  0.015713       live  0.024596  education  0.018601       cut  0.016634\n",
      "3     rise  0.016105      project  0.012144     family  0.018741    program  0.017561      cost  0.015495\n",
      "4     rate  0.014529         foot  0.010373       room  0.015975    teacher  0.016782       tax  0.015175\n",
      "5     fall  0.012957         site  0.009944        buy  0.010939    college  0.016689      plan  0.015056\n",
      "6   report  0.011550         plan  0.009275       sell  0.008104      class  0.014703    budget  0.014058\n",
      "7    stock  0.011459  development  0.008960      floor  0.007926     parent  0.010674  increase  0.012394\n",
      "8      low  0.010338        space  0.008716       town  0.007868      child  0.009535   percent  0.012192\n",
      "9    point  0.009550        place  0.008578  apartment  0.007786      teach  0.009356   program  0.011840 \n",
      "\n",
      "\n",
      "      Topic 6    Weight     Topic 7    Weight    Topic 8    Weight    Topic 9    Weight Topic 10    Weight\n",
      "0     father  0.060340    campaign  0.018302    company  0.045888      write  0.015972     game  0.022355\n",
      "1   graduate  0.047056   political  0.018054   business  0.019921        man  0.015123     play  0.018688\n",
      "2        son  0.041998       party  0.016374       sell  0.016221       book  0.014245     team  0.018055\n",
      "3        mrs  0.038481  republican  0.015873  executive  0.014360       life  0.014220   season  0.015337\n",
      "4   daughter  0.036850        vote  0.015638   industry  0.012914      story  0.009857      win  0.015268\n",
      "5     mother  0.034265    election  0.015252       sale  0.011064      world  0.008303   second  0.014489\n",
      "6      marry  0.029471   candidate  0.015106        buy  0.010997  character  0.007652   player  0.013436\n",
      "7    receive  0.026950  democratic  0.013647      share  0.010779       tell  0.007356  victory  0.010915\n",
      "8     degree  0.022145      leader  0.012419     market  0.009656      woman  0.007313    point  0.010405\n",
      "9  president  0.019348       voter  0.012157    product  0.009463       love  0.007268    score  0.010270 \n",
      "\n",
      "\n",
      "   Topic 11    Weight      Topic 12    Weight     Topic 13    Weight Topic 14    Weight       Topic 15    Weight\n",
      "0    child  0.037403          city  0.109840      service  0.013597    thing  0.019601         states  0.038828\n",
      "1    woman  0.034263        street  0.019084       system  0.010665      ask  0.012756        country  0.038826\n",
      "2   family  0.022380        public  0.014775        offer  0.009429     feel  0.012580       american  0.031611\n",
      "3    young  0.019009  neighborhood  0.014045  information  0.009104     tell  0.011842          world  0.020645\n",
      "4    group  0.018734      official  0.012638     computer  0.008901      lot  0.011529     government  0.013398\n",
      "5     life  0.014921       problem  0.011732       number  0.007971      put  0.009914        foreign  0.012012\n",
      "6      man  0.013767         mayor  0.009812         hour  0.007771    start  0.009725         nation  0.011815\n",
      "7   parent  0.011957        office  0.009338          car  0.007281   really  0.009465       economic  0.010753\n",
      "8   member  0.010782          move  0.008532       travel  0.006884      big  0.008837  international  0.010427\n",
      "9    black  0.010115         local  0.008051    available  0.006677   little  0.008636      americans  0.008604 \n",
      "\n",
      "\n",
      "     Topic 16    Weight    Topic 17    Weight  Topic 18    Weight Topic 19    Weight  Topic 20    Weight\n",
      "0     police  0.041034         art  0.014186     state  0.052560    serve  0.010051  question  0.008682\n",
      "1    officer  0.021741      artist  0.010889       law  0.030851      add  0.009416     issue  0.007550\n",
      "2        man  0.021086  exhibition  0.008910   require  0.015345   minute  0.009219     point  0.006312\n",
      "3     arrest  0.014488    painting  0.007856     allow  0.013418   pepper  0.008453    public  0.005567\n",
      "4  yesterday  0.014432      museum  0.007674      bill  0.012771      oil  0.008318      view  0.004818\n",
      "5       kill  0.012549  collection  0.006648      pass  0.012130     food  0.008232   believe  0.004794\n",
      "6        car  0.012533     gallery  0.006166  official  0.011827     cook  0.008022    matter  0.004785\n",
      "7     charge  0.010520      design  0.005987      rule  0.011799      cup  0.008014      mean  0.004613\n",
      "8      shoot  0.010159       image  0.005718    public  0.011772    small  0.007622      fact  0.004531\n",
      "9      night  0.009722       color  0.005703     issue  0.010748    sauce  0.007579   problem  0.004470 \n",
      "\n",
      "\n",
      "     Topic 21    Weight    Topic 22    Weight Topic 23    Weight     Topic 24    Weight    Topic 25    Weight\n",
      "0  president  0.023705        case  0.025005     drug  0.013578        music  0.019751    official  0.016344\n",
      "1     member  0.018084      lawyer  0.019820  patient  0.013264         play  0.017454    military  0.013502\n",
      "2  executive  0.015806      charge  0.015557   health  0.012866  performance  0.012774       force  0.013213\n",
      "3   official  0.013028       court  0.015193    study  0.012223     audience  0.009576  government  0.010802\n",
      "4   director  0.012935       judge  0.011457   doctor  0.012000      perform  0.009197         war  0.010428\n",
      "5      group  0.012527       trial  0.011400  medical  0.009960   production  0.009048      leader  0.008856\n",
      "6      board  0.011271  prosecutor  0.009855   report  0.009916     director  0.008922       troop  0.008265\n",
      "7   chairman  0.010255        jury  0.008283    cause  0.008934         song  0.008835      attack  0.007858\n",
      "8      chief  0.010036        file  0.008263  percent  0.008424        stage  0.008553       peace  0.006840\n",
      "9       plan  0.009845       legal  0.007763  problem  0.008407        sound  0.007860    american  0.006651 \n",
      "\n"
     ]
    }
   ],
   "source": [
    "'''for each column of W, list the 10 words having the largest weight and show the weight'''\n",
    "pd.set_option('display.max_rows', 50)\n",
    "pd.set_option('display.max_columns', 50)\n",
    "pd.set_option('display.width', 120)    \n",
    "vList = []\n",
    "\n",
    "for topic in range(25):\n",
    "    v = pd.DataFrame(vocabs)\n",
    "    v[1] = W_normed[:,topic].round(6)\n",
    "    v = v.sort_values([1, 0], ascending=[0,1]).rename(index=int, columns={0: \"Topic {}\".format(topic+1), 1: \"Weight\"}).head(10)\n",
    "    v = v.reset_index(drop=True)\n",
    "    vList.append(v)\n",
    "    \n",
    "for num in [5,10,15,20,25]:\n",
    "    print('\\n',(pd.concat(vList[num-5:num], axis=1)),'\\n')"
   ]
  },
  {
   "cell_type": "code",
   "execution_count": 14,
   "metadata": {},
   "outputs": [],
   "source": [
    "W_2,H_2 = _nmf(X,25,100)"
   ]
  },
  {
   "cell_type": "code",
   "execution_count": 15,
   "metadata": {},
   "outputs": [],
   "source": [
    "labels_NMF = clustering_NMF(H)"
   ]
  },
  {
   "cell_type": "code",
   "execution_count": 18,
   "metadata": {},
   "outputs": [
    {
     "ename": "KeyboardInterrupt",
     "evalue": "",
     "output_type": "error",
     "traceback": [
      "\u001b[0;31m---------------------------------------------------------------------------\u001b[0m",
      "\u001b[0;31mKeyboardInterrupt\u001b[0m                         Traceback (most recent call last)",
      "\u001b[0;32m<ipython-input-18-3436c27f4073>\u001b[0m in \u001b[0;36m<module>\u001b[0;34m\u001b[0m\n\u001b[1;32m      1\u001b[0m \u001b[0mtsne\u001b[0m \u001b[0;34m=\u001b[0m \u001b[0mTSNE\u001b[0m\u001b[0;34m(\u001b[0m\u001b[0mn_components\u001b[0m\u001b[0;34m=\u001b[0m\u001b[0;36m2\u001b[0m\u001b[0;34m,\u001b[0m \u001b[0mperplexity\u001b[0m\u001b[0;34m=\u001b[0m\u001b[0;36m10.0\u001b[0m\u001b[0;34m,\u001b[0m \u001b[0mrandom_state\u001b[0m\u001b[0;34m=\u001b[0m\u001b[0;36m2\u001b[0m\u001b[0;34m)\u001b[0m\u001b[0;34m\u001b[0m\u001b[0m\n\u001b[0;32m----> 2\u001b[0;31m \u001b[0mproj_x\u001b[0m \u001b[0;34m=\u001b[0m \u001b[0mtsne\u001b[0m\u001b[0;34m.\u001b[0m\u001b[0mfit_transform\u001b[0m\u001b[0;34m(\u001b[0m\u001b[0mX\u001b[0m\u001b[0;34m.\u001b[0m\u001b[0mT\u001b[0m\u001b[0;34m)\u001b[0m\u001b[0;34m\u001b[0m\u001b[0m\n\u001b[0m\u001b[1;32m      3\u001b[0m \u001b[0mplt\u001b[0m\u001b[0;34m.\u001b[0m\u001b[0mscatter\u001b[0m\u001b[0;34m(\u001b[0m\u001b[0mproj_x\u001b[0m\u001b[0;34m[\u001b[0m\u001b[0;34m:\u001b[0m\u001b[0;34m,\u001b[0m \u001b[0;36m0\u001b[0m\u001b[0;34m]\u001b[0m\u001b[0;34m,\u001b[0m \u001b[0mproj_x\u001b[0m\u001b[0;34m[\u001b[0m\u001b[0;34m:\u001b[0m\u001b[0;34m,\u001b[0m \u001b[0;36m1\u001b[0m\u001b[0;34m]\u001b[0m\u001b[0;34m,\u001b[0m \u001b[0mc\u001b[0m\u001b[0;34m=\u001b[0m\u001b[0mlabels_NMF\u001b[0m\u001b[0;34m)\u001b[0m\u001b[0;34m\u001b[0m\u001b[0m\n",
      "\u001b[0;32m/Library/Frameworks/Python.framework/Versions/3.6/lib/python3.6/site-packages/sklearn/manifold/t_sne.py\u001b[0m in \u001b[0;36mfit_transform\u001b[0;34m(self, X, y)\u001b[0m\n\u001b[1;32m    892\u001b[0m             \u001b[0mEmbedding\u001b[0m \u001b[0mof\u001b[0m \u001b[0mthe\u001b[0m \u001b[0mtraining\u001b[0m \u001b[0mdata\u001b[0m \u001b[0;32min\u001b[0m \u001b[0mlow\u001b[0m\u001b[0;34m-\u001b[0m\u001b[0mdimensional\u001b[0m \u001b[0mspace\u001b[0m\u001b[0;34m.\u001b[0m\u001b[0;34m\u001b[0m\u001b[0m\n\u001b[1;32m    893\u001b[0m         \"\"\"\n\u001b[0;32m--> 894\u001b[0;31m         \u001b[0membedding\u001b[0m \u001b[0;34m=\u001b[0m \u001b[0mself\u001b[0m\u001b[0;34m.\u001b[0m\u001b[0m_fit\u001b[0m\u001b[0;34m(\u001b[0m\u001b[0mX\u001b[0m\u001b[0;34m)\u001b[0m\u001b[0;34m\u001b[0m\u001b[0m\n\u001b[0m\u001b[1;32m    895\u001b[0m         \u001b[0mself\u001b[0m\u001b[0;34m.\u001b[0m\u001b[0membedding_\u001b[0m \u001b[0;34m=\u001b[0m \u001b[0membedding\u001b[0m\u001b[0;34m\u001b[0m\u001b[0m\n\u001b[1;32m    896\u001b[0m         \u001b[0;32mreturn\u001b[0m \u001b[0mself\u001b[0m\u001b[0;34m.\u001b[0m\u001b[0membedding_\u001b[0m\u001b[0;34m\u001b[0m\u001b[0m\n",
      "\u001b[0;32m/Library/Frameworks/Python.framework/Versions/3.6/lib/python3.6/site-packages/sklearn/manifold/t_sne.py\u001b[0m in \u001b[0;36m_fit\u001b[0;34m(self, X, skip_num_points)\u001b[0m\n\u001b[1;32m    804\u001b[0m                           \u001b[0mX_embedded\u001b[0m\u001b[0;34m=\u001b[0m\u001b[0mX_embedded\u001b[0m\u001b[0;34m,\u001b[0m\u001b[0;34m\u001b[0m\u001b[0m\n\u001b[1;32m    805\u001b[0m                           \u001b[0mneighbors\u001b[0m\u001b[0;34m=\u001b[0m\u001b[0mneighbors_nn\u001b[0m\u001b[0;34m,\u001b[0m\u001b[0;34m\u001b[0m\u001b[0m\n\u001b[0;32m--> 806\u001b[0;31m                           skip_num_points=skip_num_points)\n\u001b[0m\u001b[1;32m    807\u001b[0m \u001b[0;34m\u001b[0m\u001b[0m\n\u001b[1;32m    808\u001b[0m     \u001b[0;34m@\u001b[0m\u001b[0mproperty\u001b[0m\u001b[0;34m\u001b[0m\u001b[0m\n",
      "\u001b[0;32m/Library/Frameworks/Python.framework/Versions/3.6/lib/python3.6/site-packages/sklearn/manifold/t_sne.py\u001b[0m in \u001b[0;36m_tsne\u001b[0;34m(self, P, degrees_of_freedom, n_samples, X_embedded, neighbors, skip_num_points)\u001b[0m\n\u001b[1;32m    846\u001b[0m         \u001b[0mP\u001b[0m \u001b[0;34m*=\u001b[0m \u001b[0mself\u001b[0m\u001b[0;34m.\u001b[0m\u001b[0mearly_exaggeration\u001b[0m\u001b[0;34m\u001b[0m\u001b[0m\n\u001b[1;32m    847\u001b[0m         params, kl_divergence, it = _gradient_descent(obj_func, params,\n\u001b[0;32m--> 848\u001b[0;31m                                                       **opt_args)\n\u001b[0m\u001b[1;32m    849\u001b[0m         \u001b[0;32mif\u001b[0m \u001b[0mself\u001b[0m\u001b[0;34m.\u001b[0m\u001b[0mverbose\u001b[0m\u001b[0;34m:\u001b[0m\u001b[0;34m\u001b[0m\u001b[0m\n\u001b[1;32m    850\u001b[0m             print(\"[t-SNE] KL divergence after %d iterations with early \"\n",
      "\u001b[0;32m/Library/Frameworks/Python.framework/Versions/3.6/lib/python3.6/site-packages/sklearn/manifold/t_sne.py\u001b[0m in \u001b[0;36m_gradient_descent\u001b[0;34m(objective, p0, it, n_iter, n_iter_check, n_iter_without_progress, momentum, learning_rate, min_gain, min_grad_norm, verbose, args, kwargs)\u001b[0m\n\u001b[1;32m    355\u001b[0m         \u001b[0mkwargs\u001b[0m\u001b[0;34m[\u001b[0m\u001b[0;34m'compute_error'\u001b[0m\u001b[0;34m]\u001b[0m \u001b[0;34m=\u001b[0m \u001b[0mcheck_convergence\u001b[0m \u001b[0;32mor\u001b[0m \u001b[0mi\u001b[0m \u001b[0;34m==\u001b[0m \u001b[0mn_iter\u001b[0m \u001b[0;34m-\u001b[0m \u001b[0;36m1\u001b[0m\u001b[0;34m\u001b[0m\u001b[0m\n\u001b[1;32m    356\u001b[0m \u001b[0;34m\u001b[0m\u001b[0m\n\u001b[0;32m--> 357\u001b[0;31m         \u001b[0merror\u001b[0m\u001b[0;34m,\u001b[0m \u001b[0mgrad\u001b[0m \u001b[0;34m=\u001b[0m \u001b[0mobjective\u001b[0m\u001b[0;34m(\u001b[0m\u001b[0mp\u001b[0m\u001b[0;34m,\u001b[0m \u001b[0;34m*\u001b[0m\u001b[0margs\u001b[0m\u001b[0;34m,\u001b[0m \u001b[0;34m**\u001b[0m\u001b[0mkwargs\u001b[0m\u001b[0;34m)\u001b[0m\u001b[0;34m\u001b[0m\u001b[0m\n\u001b[0m\u001b[1;32m    358\u001b[0m         \u001b[0mgrad_norm\u001b[0m \u001b[0;34m=\u001b[0m \u001b[0mlinalg\u001b[0m\u001b[0;34m.\u001b[0m\u001b[0mnorm\u001b[0m\u001b[0;34m(\u001b[0m\u001b[0mgrad\u001b[0m\u001b[0;34m)\u001b[0m\u001b[0;34m\u001b[0m\u001b[0m\n\u001b[1;32m    359\u001b[0m \u001b[0;34m\u001b[0m\u001b[0m\n",
      "\u001b[0;32m/Library/Frameworks/Python.framework/Versions/3.6/lib/python3.6/site-packages/sklearn/manifold/t_sne.py\u001b[0m in \u001b[0;36m_kl_divergence_bh\u001b[0;34m(params, P, degrees_of_freedom, n_samples, n_components, angle, skip_num_points, verbose, compute_error)\u001b[0m\n\u001b[1;32m    259\u001b[0m                                       \u001b[0mgrad\u001b[0m\u001b[0;34m,\u001b[0m \u001b[0mangle\u001b[0m\u001b[0;34m,\u001b[0m \u001b[0mn_components\u001b[0m\u001b[0;34m,\u001b[0m \u001b[0mverbose\u001b[0m\u001b[0;34m,\u001b[0m\u001b[0;34m\u001b[0m\u001b[0m\n\u001b[1;32m    260\u001b[0m                                       \u001b[0mdof\u001b[0m\u001b[0;34m=\u001b[0m\u001b[0mdegrees_of_freedom\u001b[0m\u001b[0;34m,\u001b[0m\u001b[0;34m\u001b[0m\u001b[0m\n\u001b[0;32m--> 261\u001b[0;31m                                       compute_error=compute_error)\n\u001b[0m\u001b[1;32m    262\u001b[0m     \u001b[0mc\u001b[0m \u001b[0;34m=\u001b[0m \u001b[0;36m2.0\u001b[0m \u001b[0;34m*\u001b[0m \u001b[0;34m(\u001b[0m\u001b[0mdegrees_of_freedom\u001b[0m \u001b[0;34m+\u001b[0m \u001b[0;36m1.0\u001b[0m\u001b[0;34m)\u001b[0m \u001b[0;34m/\u001b[0m \u001b[0mdegrees_of_freedom\u001b[0m\u001b[0;34m\u001b[0m\u001b[0m\n\u001b[1;32m    263\u001b[0m     \u001b[0mgrad\u001b[0m \u001b[0;34m=\u001b[0m \u001b[0mgrad\u001b[0m\u001b[0;34m.\u001b[0m\u001b[0mravel\u001b[0m\u001b[0;34m(\u001b[0m\u001b[0;34m)\u001b[0m\u001b[0;34m\u001b[0m\u001b[0m\n",
      "\u001b[0;31mKeyboardInterrupt\u001b[0m: "
     ]
    }
   ],
   "source": [
    "tsne = TSNE(n_components=2, perplexity=10.0, random_state=2)\n",
    "proj_x = tsne.fit_transform(X.T)\n",
    "plt.scatter(proj_x[:, 0], proj_x[:, 1], c=labels_NMF)"
   ]
  },
  {
   "cell_type": "code",
   "execution_count": null,
   "metadata": {},
   "outputs": [],
   "source": []
  }
 ],
 "metadata": {
  "kernelspec": {
   "display_name": "Python 3",
   "language": "python",
   "name": "python3"
  },
  "language_info": {
   "codemirror_mode": {
    "name": "ipython",
    "version": 3
   },
   "file_extension": ".py",
   "mimetype": "text/x-python",
   "name": "python",
   "nbconvert_exporter": "python",
   "pygments_lexer": "ipython3",
   "version": "3.6.5"
  }
 },
 "nbformat": 4,
 "nbformat_minor": 2
}
