{
 "cells": [
  {
   "cell_type": "code",
   "execution_count": 1,
   "metadata": {},
   "outputs": [
    {
     "name": "stderr",
     "output_type": "stream",
     "text": [
      "/usr/local/lib/python3.7/site-packages/sklearn/feature_extraction/text.py:17: DeprecationWarning: Using or importing the ABCs from 'collections' instead of from 'collections.abc' is deprecated, and in 3.8 it will stop working\n",
      "  from collections import Mapping, defaultdict\n"
     ]
    },
    {
     "data": {
      "text/html": [
       "        <script type=\"text/javascript\">\n",
       "        window.PlotlyConfig = {MathJaxConfig: 'local'};\n",
       "        if (window.MathJax) {MathJax.Hub.Config({SVG: {font: \"STIX-Web\"}});}\n",
       "        if (typeof require !== 'undefined') {\n",
       "        require.undef(\"plotly\");\n",
       "        requirejs.config({\n",
       "            paths: {\n",
       "                'plotly': ['https://cdn.plot.ly/plotly-latest.min']\n",
       "            }\n",
       "        });\n",
       "        require(['plotly'], function(Plotly) {\n",
       "            window._Plotly = Plotly;\n",
       "        });\n",
       "        }\n",
       "        </script>\n",
       "        "
      ]
     },
     "metadata": {},
     "output_type": "display_data"
    }
   ],
   "source": [
    "import pandas as pd\n",
    "import numpy as np\n",
    "import matplotlib.pyplot as plt\n",
    "from matplotlib import interactive\n",
    "interactive(True)\n",
    "from sklearn.feature_extraction.text import CountVectorizer\n",
    "from sklearn.manifold import TSNE\n",
    "import plotly.express as px\n",
    "from sklearn.cluster import KMeans\n",
    "import plotly.offline as pyo\n",
    "import plotly.graph_objs as go\n",
    "# Set notebook mode to work in offline\n",
    "pyo.init_notebook_mode(connected=True)\n",
    "from sklearn.metrics.cluster import homogeneity_score\n",
    "import nltk\n",
    "from nltk.corpus import stopwords\n",
    "from sklearn.decomposition import NMF\n",
    "from sklearn.datasets import fetch_20newsgroups\n",
    "import re\n",
    "np.random.seed(0)\n",
    "from NMF import simple_nmf\n",
    "from NMF import nmf2"
   ]
  },
  {
   "cell_type": "markdown",
   "metadata": {},
   "source": [
    "## Dataset"
   ]
  },
  {
   "cell_type": "markdown",
   "metadata": {},
   "source": [
    "The 20 newsgroups dataset comprises around 18000 newsgroups posts on 20 topics. Each corresponding to a different topic. Some of the newsgroups are very closely related to each other (e.g. comp.sys.ibm.pc.hardware / comp.sys.mac.hardware), while others are highly unrelated (e.g misc.forsale / soc.religion.christian)."
   ]
  },
  {
   "cell_type": "code",
   "execution_count": 2,
   "metadata": {
    "scrolled": true
   },
   "outputs": [],
   "source": [
    "categories = [\n",
    "    'comp.sys.ibm.pc.hardware',\n",
    "    'talk.religion.misc',\n",
    "    'rec.sport.baseball',\n",
    "    'sci.space',\n",
    "]\n",
    "\n",
    "data = fetch_20newsgroups(subset='train', shuffle=True, random_state=42,categories=categories)"
   ]
  },
  {
   "cell_type": "code",
   "execution_count": 3,
   "metadata": {},
   "outputs": [],
   "source": [
    "map_tags = {}\n",
    "map_tags[0] = \"hardware\"\n",
    "map_tags[1] = \"baseball\"\n",
    "map_tags[2] = \"space\"\n",
    "map_tags[3] = \"religion\""
   ]
  },
  {
   "cell_type": "code",
   "execution_count": 4,
   "metadata": {},
   "outputs": [],
   "source": [
    "data_class = data.target\n",
    "data_text  = data.data"
   ]
  },
  {
   "cell_type": "code",
   "execution_count": 5,
   "metadata": {},
   "outputs": [],
   "source": [
    "data_class = data_class[:100]\n",
    "data_text  = data_text[ :100]"
   ]
  },
  {
   "cell_type": "code",
   "execution_count": 6,
   "metadata": {},
   "outputs": [
    {
     "data": {
      "text/plain": [
       "<matplotlib.axes._subplots.AxesSubplot at 0x1020dfa90>"
      ]
     },
     "execution_count": 6,
     "metadata": {},
     "output_type": "execute_result"
    },
    {
     "data": {
      "image/png": "[encoded data removed]",
      "text/plain": [
       "<Figure size 720x576 with 1 Axes>"
      ]
     },
     "metadata": {
      "needs_background": "light"
     },
     "output_type": "display_data"
    }
   ],
   "source": [
    "d = {'text':data_text,'class':data_class}\n",
    "df_data_all = pd.DataFrame(d)\n",
    "\n",
    "df_data_all[\"class\"] = df_data_all[\"class\"].apply( lambda x: map_tags[int(x)])\n",
    "\n",
    "df_data_all[\"class\"].value_counts().plot.bar( figsize = (10, 8), rot=45 )"
   ]
  },
  {
   "cell_type": "code",
   "execution_count": 7,
   "metadata": {},
   "outputs": [],
   "source": [
    "def to_clean_text(text):\n",
    "    \n",
    "    text = re.sub(\"\\d+\",\"\",text)\n",
    "    text = re.sub(\"\\n+\",\" \",text)\n",
    "    text = re.sub(\" +\",\" \",text)\n",
    "    text = text.lower()\n",
    "    \n",
    "    return text"
   ]
  },
  {
   "cell_type": "code",
   "execution_count": 8,
   "metadata": {},
   "outputs": [],
   "source": [
    "data_text = [to_clean_text(text) for text in data_text]\n",
    "\n",
    "data_class = df_data_all[\"class\"].values"
   ]
  },
  {
   "cell_type": "code",
   "execution_count": 9,
   "metadata": {},
   "outputs": [],
   "source": [
    "count_vect = CountVectorizer(stop_words=\"english\")\n",
    "text_vectors = count_vect.fit_transform(data_text)\n",
    "X_transform = TSNE(n_components=3).fit_transform(text_vectors.toarray())"
   ]
  },
  {
   "cell_type": "code",
   "execution_count": 10,
   "metadata": {},
   "outputs": [
    {
     "data": {
      "text/plain": [
       "(100, 4597)"
      ]
     },
     "execution_count": 10,
     "metadata": {},
     "output_type": "execute_result"
    }
   ],
   "source": [
    "text_vectors.shape"
   ]
  },
  {
   "cell_type": "markdown",
   "metadata": {},
   "source": [
    "# Original data"
   ]
  },
  {
   "cell_type": "code",
   "execution_count": 11,
   "metadata": {},
   "outputs": [],
   "source": [
    "d = {'x':X_transform[:,0],'y':X_transform[:,1], 'z': X_transform[:,2],'Score':data_class}\n",
    "df = pd.DataFrame(d)"
   ]
  },
  {
   "cell_type": "code",
   "execution_count": 12,
   "metadata": {},
   "outputs": [
    {
     "data": {
      "application/vnd.plotly.v1+json": {
       "config": {
        "plotlyServerURL": "https://plot.ly"
       },
       "data": [
        {
         "hoverlabel": {
          "namelength": 0
         },
         "hovertemplate": "Score=space<br>x=%{x}<br>y=%{y}<br>z=%{z}",
         "legendgroup": "Score=space",
         "marker": {
          "color": "#636efa",
          "symbol": "circle"
         },
         "mode": "markers",
         "name": "Score=space",
         "scene": "scene",
         "showlegend": true,
         "type": "scatter3d",
         "x": [
          -211.18629455566406,
          -5.669851303100586,
          -172.87249755859375,
          36.425628662109375,
          115.2301025390625,
          91.12478637695312,
          -12.641326904296875,
          -13.257498741149902,
          61.590187072753906,
          5.654056549072266,
          -57.235408782958984,
          105.24098205566406,
          287.6274719238281,
          -2.7620737552642822,
          -99.64364624023438,
          -54.53240203857422,
          -76.7277603149414,
          129.80665588378906,
          -39.942867279052734,
          -67.8034896850586,
          -172.95484924316406,
          -72.184326171875,
          17.00324821472168
         ],
         "y": [
          -36.503456115722656,
          -79.23304748535156,
          143.86785888671875,
          -22.377511978149414,
          150.00343322753906,
          -49.41621780395508,
          174.3474578857422,
          2.1246681213378906,
          93.38432312011719,
          -5.67006254196167,
          60.94538879394531,
          6.54671573638916,
          27.157976150512695,
          16.376951217651367,
          56.6246452331543,
          68.5989990234375,
          -17.00618553161621,
          -97.17379760742188,
          82.1317138671875,
          -96.7105484008789,
          57.49303436279297,
          48.828617095947266,
          -192.77398681640625
         ],
         "z": [
          -57.14572525024414,
          -65.9995346069336,
          5.821041107177734,
          -123.76742553710938,
          -115.5044937133789,
          85.24334716796875,
          -82.70225524902344,
          209.59170532226562,
          -109.09081268310547,
          122.7402572631836,
          102.34228515625,
          -165.9141387939453,
          -90.3773193359375,
          -56.61621856689453,
          195.46510314941406,
          -205.9807586669922,
          144.61073303222656,
          23.216144561767578,
          -20.803627014160156,
          201.85528564453125,
          114.12225341796875,
          -84.88672637939453,
          127.91851043701172
         ]
        },
        {
         "hoverlabel": {
          "namelength": 0
         },
         "hovertemplate": "Score=hardware<br>x=%{x}<br>y=%{y}<br>z=%{z}",
         "legendgroup": "Score=hardware",
         "marker": {
          "color": "#EF553B",
          "symbol": "circle"
         },
         "mode": "markers",
         "name": "Score=hardware",
         "scene": "scene",
         "showlegend": true,
         "type": "scatter3d",
         "x": [
          211.3543243408203,
          115.1004638671875,
          104.7892837524414,
          45.84648513793945,
          18.856325149536133,
          -58.526309967041016,
          -5.797163009643555,
          57.2690544128418,
          46.501312255859375,
          168.26028442382812,
          210.42764282226562,
          87.03118896484375,
          90.65320587158203,
          143.1126251220703,
          74.23123931884766,
          40.65383529663086,
          145.42813110351562,
          129.3861541748047,
          93.96272277832031,
          189.91998291015625,
          155.20867919921875,
          65.20568084716797,
          125.6368637084961,
          -114.09988403320312,
          -173.95571899414062,
          150.5460662841797,
          -9.544903755187988,
          172.0355224609375,
          146.01858520507812,
          -88.53948211669922,
          -25.527591705322266,
          184.5294952392578
         ],
         "y": [
          66.46749877929688,
          121.72286224365234,
          1.2626932859420776,
          172.71591186523438,
          73.29215240478516,
          -16.017642974853516,
          64.33419799804688,
          -119.80317687988281,
          69.64769744873047,
          17.787899017333984,
          -97.7162094116211,
          -94.04501342773438,
          26.261920928955078,
          -169.2066650390625,
          45.35150909423828,
          -27.363426208496094,
          -103.8159408569336,
          93.27117919921875,
          202.4381866455078,
          -73.62332916259766,
          72.28487396240234,
          180.99119567871094,
          101.79720306396484,
          182.93931579589844,
          -39.75714874267578,
          -22.607995986938477,
          111.36300659179688,
          -15.286863327026367,
          29.6162052154541,
          151.40428161621094,
          168.14569091796875,
          154.7087860107422
         ],
         "z": [
          -58.61452102661133,
          73.9854965209961,
          -80.65238952636719,
          124.41844177246094,
          48.4498405456543,
          -24.00161361694336,
          -119.38156127929688,
          84.12176513671875,
          131.5654296875,
          76.3600845336914,
          -32.16305923461914,
          -70.50713348388672,
          84.39989471435547,
          -46.02469253540039,
          13.487051010131836,
          -30.15155792236328,
          -129.56234741210938,
          172.73622131347656,
          26.536827087402344,
          99.5535659790039,
          -137.27877807617188,
          -57.89923858642578,
          -44.11113739013672,
          -70.8231430053711,
          -142.59217834472656,
          10.985280990600586,
          179.34117126464844,
          -58.93461608886719,
          159.19068908691406,
          53.95323181152344,
          -165.65353393554688,
          -2.9091439247131348
         ]
        },
        {
         "hoverlabel": {
          "namelength": 0
         },
         "hovertemplate": "Score=baseball<br>x=%{x}<br>y=%{y}<br>z=%{z}",
         "legendgroup": "Score=baseball",
         "marker": {
          "color": "#00cc96",
          "symbol": "circle"
         },
         "mode": "markers",
         "name": "Score=baseball",
         "scene": "scene",
         "showlegend": true,
         "type": "scatter3d",
         "x": [
          -73.01152038574219,
          42.135292053222656,
          -81.437255859375,
          -33.88813400268555,
          -44.34512710571289,
          -14.804673194885254,
          -127.29474639892578,
          -83.3620834350586,
          59.71397018432617,
          -28.22417640686035,
          -108.36487579345703,
          -128.8480987548828,
          -125.5356674194336,
          66.42610931396484,
          102.83965301513672,
          52.44514465332031,
          -112.22187042236328,
          54.14984893798828,
          66.01126098632812,
          106.24523162841797,
          -15.44699764251709,
          -36.14993667602539,
          -174.0811004638672,
          153.87692260742188,
          190.13441467285156,
          -69.43107604980469,
          -142.65013122558594,
          -55.784820556640625,
          35.945892333984375,
          38.64990234375,
          -9.4734525680542
         ],
         "y": [
          -33.2686653137207,
          109.9831771850586,
          107.70092010498047,
          -187.7425537109375,
          153.9035186767578,
          -93.30252838134766,
          -105.69169616699219,
          -78.76490020751953,
          -84.36381530761719,
          19.507205963134766,
          -112.72904968261719,
          -150.76174926757812,
          -71.28944396972656,
          -174.29139709472656,
          -21.249122619628906,
          54.4898681640625,
          68.65065002441406,
          -158.0765380859375,
          -86.83314514160156,
          -400.1124572753906,
          -175.16830444335938,
          -89.37010955810547,
          -34.575443267822266,
          60.5906867980957,
          -31.134790420532227,
          -168.04678344726562,
          -154.231201171875,
          -141.84849548339844,
          -237.10067749023438,
          -105.14952087402344,
          -91.90179443359375
         ],
         "z": [
          -113.647216796875,
          -181.2642822265625,
          -114.86664581298828,
          -102.86780548095703,
          -15.048643112182617,
          -138.09478759765625,
          116.93952178955078,
          36.418025970458984,
          11.09903335571289,
          33.13766098022461,
          -163.54525756835938,
          -61.73273468017578,
          -42.85276412963867,
          10.073101997375488,
          2.4322571754455566,
          -52.411865234375,
          34.18685531616211,
          -115.18627166748047,
          -196.31626892089844,
          -345.3110656738281,
          33.056331634521484,
          111.92030334472656,
          158.10809326171875,
          17.17456817626953,
          -145.89894104003906,
          97.60969543457031,
          36.852169036865234,
          -28.55721092224121,
          -45.37283706665039,
          179.4573974609375,
          11.960443496704102
         ]
        },
        {
         "hoverlabel": {
          "namelength": 0
         },
         "hovertemplate": "Score=religion<br>x=%{x}<br>y=%{y}<br>z=%{z}",
         "legendgroup": "Score=religion",
         "marker": {
          "color": "#ab63fa",
          "symbol": "circle"
         },
         "mode": "markers",
         "name": "Score=religion",
         "scene": "scene",
         "showlegend": true,
         "type": "scatter3d",
         "x": [
          84.33438873291016,
          -105.13690185546875,
          -133.2787628173828,
          1.2288986444473267,
          -213.0950927734375,
          30.11127281188965,
          -137.8595733642578,
          -172.30809020996094,
          21.64377212524414,
          -142.0059814453125,
          -34.070865631103516,
          -128.4916229248047,
          43.8409538269043,
          -218.13580322265625
         ],
         "y": [
          -26.44825553894043,
          144.82302856445312,
          -8.21381950378418,
          162.09555053710938,
          -77.87092590332031,
          28.795873641967773,
          25.337432861328125,
          97.9723892211914,
          -31.966205596923828,
          -31.444196701049805,
          -33.25094985961914,
          34.100643157958984,
          123.24131774902344,
          46.79135513305664
         ],
         "z": [
          194.47299194335938,
          138.0160675048828,
          23.327239990234375,
          49.43086242675781,
          33.631465911865234,
          -204.7235565185547,
          -50.49159622192383,
          -90.66150665283203,
          55.73847961425781,
          91.42735290527344,
          -207.19143676757812,
          -166.99200439453125,
          -7.032626152038574,
          4.2115797996521
         ]
        }
       ],
       "layout": {
        "height": 600,
        "legend": {
         "tracegroupgap": 0
        },
        "margin": {
         "t": 60
        },
        "scene": {
         "domain": {
          "x": [
           0,
           0.98
          ],
          "y": [
           0,
           1
          ]
         },
         "xaxis": {
          "title": {
           "text": "x"
          }
         },
         "yaxis": {
          "title": {
           "text": "y"
          }
         },
         "zaxis": {
          "title": {
           "text": "z"
          }
         }
        },
        "template": {
         "data": {
          "bar": [
           {
            "error_x": {
             "color": "#2a3f5f"
            },
            "error_y": {
             "color": "#2a3f5f"
            },
            "marker": {
             "line": {
              "color": "#E5ECF6",
              "width": 0.5
             }
            },
            "type": "bar"
           }
          ],
          "barpolar": [
           {
            "marker": {
             "line": {
              "color": "#E5ECF6",
              "width": 0.5
             }
            },
            "type": "barpolar"
           }
          ],
          "carpet": [
           {
            "aaxis": {
             "endlinecolor": "#2a3f5f",
             "gridcolor": "white",
             "linecolor": "white",
             "minorgridcolor": "white",
             "startlinecolor": "#2a3f5f"
            },
            "baxis": {
             "endlinecolor": "#2a3f5f",
             "gridcolor": "white",
             "linecolor": "white",
             "minorgridcolor": "white",
             "startlinecolor": "#2a3f5f"
            },
            "type": "carpet"
           }
          ],
          "choropleth": [
           {
            "colorbar": {
             "outlinewidth": 0,
             "ticks": ""
            },
            "type": "choropleth"
           }
          ],
          "contour": [
           {
            "colorbar": {
             "outlinewidth": 0,
             "ticks": ""
            },
            "colorscale": [
             [
              0,
              "#0d0887"
             ],
             [
              0.1111111111111111,
              "#46039f"
             ],
             [
              0.2222222222222222,
              "#7201a8"
             ],
             [
              0.3333333333333333,
              "#9c179e"
             ],
             [
              0.4444444444444444,
              "#bd3786"
             ],
             [
              0.5555555555555556,
              "#d8576b"
             ],
             [
              0.6666666666666666,
              "#ed7953"
             ],
             [
              0.7777777777777778,
              "#fb9f3a"
             ],
             [
              0.8888888888888888,
              "#fdca26"
             ],
             [
              1,
              "#f0f921"
             ]
            ],
            "type": "contour"
           }
          ],
          "contourcarpet": [
           {
            "colorbar": {
             "outlinewidth": 0,
             "ticks": ""
            },
            "type": "contourcarpet"
           }
          ],
          "heatmap": [
           {
            "colorbar": {
             "outlinewidth": 0,
             "ticks": ""
            },
            "colorscale": [
             [
              0,
              "#0d0887"
             ],
             [
              0.1111111111111111,
              "#46039f"
             ],
             [
              0.2222222222222222,
              "#7201a8"
             ],
             [
              0.3333333333333333,
              "#9c179e"
             ],
             [
              0.4444444444444444,
              "#bd3786"
             ],
             [
              0.5555555555555556,
              "#d8576b"
             ],
             [
              0.6666666666666666,
              "#ed7953"
             ],
             [
              0.7777777777777778,
              "#fb9f3a"
             ],
             [
              0.8888888888888888,
              "#fdca26"
             ],
             [
              1,
              "#f0f921"
             ]
            ],
            "type": "heatmap"
           }
          ],
          "heatmapgl": [
           {
            "colorbar": {
             "outlinewidth": 0,
             "ticks": ""
            },
            "colorscale": [
             [
              0,
              "#0d0887"
             ],
             [
              0.1111111111111111,
              "#46039f"
             ],
             [
              0.2222222222222222,
              "#7201a8"
             ],
             [
              0.3333333333333333,
              "#9c179e"
             ],
             [
              0.4444444444444444,
              "#bd3786"
             ],
             [
              0.5555555555555556,
              "#d8576b"
             ],
             [
              0.6666666666666666,
              "#ed7953"
             ],
             [
              0.7777777777777778,
              "#fb9f3a"
             ],
             [
              0.8888888888888888,
              "#fdca26"
             ],
             [
              1,
              "#f0f921"
             ]
            ],
            "type": "heatmapgl"
           }
          ],
          "histogram": [
           {
            "marker": {
             "colorbar": {
              "outlinewidth": 0,
              "ticks": ""
             }
            },
            "type": "histogram"
           }
          ],
          "histogram2d": [
           {
            "colorbar": {
             "outlinewidth": 0,
             "ticks": ""
            },
            "colorscale": [
             [
              0,
              "#0d0887"
             ],
             [
              0.1111111111111111,
              "#46039f"
             ],
             [
              0.2222222222222222,
              "#7201a8"
             ],
             [
              0.3333333333333333,
              "#9c179e"
             ],
             [
              0.4444444444444444,
              "#bd3786"
             ],
             [
              0.5555555555555556,
              "#d8576b"
             ],
             [
              0.6666666666666666,
              "#ed7953"
             ],
             [
              0.7777777777777778,
              "#fb9f3a"
             ],
             [
              0.8888888888888888,
              "#fdca26"
             ],
             [
              1,
              "#f0f921"
             ]
            ],
            "type": "histogram2d"
           }
          ],
          "histogram2dcontour": [
           {
            "colorbar": {
             "outlinewidth": 0,
             "ticks": ""
            },
            "colorscale": [
             [
              0,
              "#0d0887"
             ],
             [
              0.1111111111111111,
              "#46039f"
             ],
             [
              0.2222222222222222,
              "#7201a8"
             ],
             [
              0.3333333333333333,
              "#9c179e"
             ],
             [
              0.4444444444444444,
              "#bd3786"
             ],
             [
              0.5555555555555556,
              "#d8576b"
             ],
             [
              0.6666666666666666,
              "#ed7953"
             ],
             [
              0.7777777777777778,
              "#fb9f3a"
             ],
             [
              0.8888888888888888,
              "#fdca26"
             ],
             [
              1,
              "#f0f921"
             ]
            ],
            "type": "histogram2dcontour"
           }
          ],
          "mesh3d": [
           {
            "colorbar": {
             "outlinewidth": 0,
             "ticks": ""
            },
            "type": "mesh3d"
           }
          ],
          "parcoords": [
           {
            "line": {
             "colorbar": {
              "outlinewidth": 0,
              "ticks": ""
             }
            },
            "type": "parcoords"
           }
          ],
          "scatter": [
           {
            "marker": {
             "colorbar": {
              "outlinewidth": 0,
              "ticks": ""
             }
            },
            "type": "scatter"
           }
          ],
          "scatter3d": [
           {
            "line": {
             "colorbar": {
              "outlinewidth": 0,
              "ticks": ""
             }
            },
            "marker": {
             "colorbar": {
              "outlinewidth": 0,
              "ticks": ""
             }
            },
            "type": "scatter3d"
           }
          ],
          "scattercarpet": [
           {
            "marker": {
             "colorbar": {
              "outlinewidth": 0,
              "ticks": ""
             }
            },
            "type": "scattercarpet"
           }
          ],
          "scattergeo": [
           {
            "marker": {
             "colorbar": {
              "outlinewidth": 0,
              "ticks": ""
             }
            },
            "type": "scattergeo"
           }
          ],
          "scattergl": [
           {
            "marker": {
             "colorbar": {
              "outlinewidth": 0,
              "ticks": ""
             }
            },
            "type": "scattergl"
           }
          ],
          "scattermapbox": [
           {
            "marker": {
             "colorbar": {
              "outlinewidth": 0,
              "ticks": ""
             }
            },
            "type": "scattermapbox"
           }
          ],
          "scatterpolar": [
           {
            "marker": {
             "colorbar": {
              "outlinewidth": 0,
              "ticks": ""
             }
            },
            "type": "scatterpolar"
           }
          ],
          "scatterpolargl": [
           {
            "marker": {
             "colorbar": {
              "outlinewidth": 0,
              "ticks": ""
             }
            },
            "type": "scatterpolargl"
           }
          ],
          "scatterternary": [
           {
            "marker": {
             "colorbar": {
              "outlinewidth": 0,
              "ticks": ""
             }
            },
            "type": "scatterternary"
           }
          ],
          "surface": [
           {
            "colorbar": {
             "outlinewidth": 0,
             "ticks": ""
            },
            "colorscale": [
             [
              0,
              "#0d0887"
             ],
             [
              0.1111111111111111,
              "#46039f"
             ],
             [
              0.2222222222222222,
              "#7201a8"
             ],
             [
              0.3333333333333333,
              "#9c179e"
             ],
             [
              0.4444444444444444,
              "#bd3786"
             ],
             [
              0.5555555555555556,
              "#d8576b"
             ],
             [
              0.6666666666666666,
              "#ed7953"
             ],
             [
              0.7777777777777778,
              "#fb9f3a"
             ],
             [
              0.8888888888888888,
              "#fdca26"
             ],
             [
              1,
              "#f0f921"
             ]
            ],
            "type": "surface"
           }
          ],
          "table": [
           {
            "cells": {
             "fill": {
              "color": "#EBF0F8"
             },
             "line": {
              "color": "white"
             }
            },
            "header": {
             "fill": {
              "color": "#C8D4E3"
             },
             "line": {
              "color": "white"
             }
            },
            "type": "table"
           }
          ]
         },
         "layout": {
          "annotationdefaults": {
           "arrowcolor": "#2a3f5f",
           "arrowhead": 0,
           "arrowwidth": 1
          },
          "colorscale": {
           "diverging": [
            [
             0,
             "#8e0152"
            ],
            [
             0.1,
             "#c51b7d"
            ],
            [
             0.2,
             "#de77ae"
            ],
            [
             0.3,
             "#f1b6da"
            ],
            [
             0.4,
             "#fde0ef"
            ],
            [
             0.5,
             "#f7f7f7"
            ],
            [
             0.6,
             "#e6f5d0"
            ],
            [
             0.7,
             "#b8e186"
            ],
            [
             0.8,
             "#7fbc41"
            ],
            [
             0.9,
             "#4d9221"
            ],
            [
             1,
             "#276419"
            ]
           ],
           "sequential": [
            [
             0,
             "#0d0887"
            ],
            [
             0.1111111111111111,
             "#46039f"
            ],
            [
             0.2222222222222222,
             "#7201a8"
            ],
            [
             0.3333333333333333,
             "#9c179e"
            ],
            [
             0.4444444444444444,
             "#bd3786"
            ],
            [
             0.5555555555555556,
             "#d8576b"
            ],
            [
             0.6666666666666666,
             "#ed7953"
            ],
            [
             0.7777777777777778,
             "#fb9f3a"
            ],
            [
             0.8888888888888888,
             "#fdca26"
            ],
            [
             1,
             "#f0f921"
            ]
           ],
           "sequentialminus": [
            [
             0,
             "#0d0887"
            ],
            [
             0.1111111111111111,
             "#46039f"
            ],
            [
             0.2222222222222222,
             "#7201a8"
            ],
            [
             0.3333333333333333,
             "#9c179e"
            ],
            [
             0.4444444444444444,
             "#bd3786"
            ],
            [
             0.5555555555555556,
             "#d8576b"
            ],
            [
             0.6666666666666666,
             "#ed7953"
            ],
            [
             0.7777777777777778,
             "#fb9f3a"
            ],
            [
             0.8888888888888888,
             "#fdca26"
            ],
            [
             1,
             "#f0f921"
            ]
           ]
          },
          "colorway": [
           "#636efa",
           "#EF553B",
           "#00cc96",
           "#ab63fa",
           "#FFA15A",
           "#19d3f3",
           "#FF6692",
           "#B6E880",
           "#FF97FF",
           "#FECB52"
          ],
          "font": {
           "color": "#2a3f5f"
          },
          "geo": {
           "bgcolor": "white",
           "lakecolor": "white",
           "landcolor": "#E5ECF6",
           "showlakes": true,
           "showland": true,
           "subunitcolor": "white"
          },
          "hoverlabel": {
           "align": "left"
          },
          "hovermode": "closest",
          "mapbox": {
           "style": "light"
          },
          "paper_bgcolor": "white",
          "plot_bgcolor": "#E5ECF6",
          "polar": {
           "angularaxis": {
            "gridcolor": "white",
            "linecolor": "white",
            "ticks": ""
           },
           "bgcolor": "#E5ECF6",
           "radialaxis": {
            "gridcolor": "white",
            "linecolor": "white",
            "ticks": ""
           }
          },
          "scene": {
           "xaxis": {
            "backgroundcolor": "#E5ECF6",
            "gridcolor": "white",
            "gridwidth": 2,
            "linecolor": "white",
            "showbackground": true,
            "ticks": "",
            "zerolinecolor": "white"
           },
           "yaxis": {
            "backgroundcolor": "#E5ECF6",
            "gridcolor": "white",
            "gridwidth": 2,
            "linecolor": "white",
            "showbackground": true,
            "ticks": "",
            "zerolinecolor": "white"
           },
           "zaxis": {
            "backgroundcolor": "#E5ECF6",
            "gridcolor": "white",
            "gridwidth": 2,
            "linecolor": "white",
            "showbackground": true,
            "ticks": "",
            "zerolinecolor": "white"
           }
          },
          "shapedefaults": {
           "line": {
            "color": "#2a3f5f"
           }
          },
          "ternary": {
           "aaxis": {
            "gridcolor": "white",
            "linecolor": "white",
            "ticks": ""
           },
           "baxis": {
            "gridcolor": "white",
            "linecolor": "white",
            "ticks": ""
           },
           "bgcolor": "#E5ECF6",
           "caxis": {
            "gridcolor": "white",
            "linecolor": "white",
            "ticks": ""
           }
          },
          "title": {
           "x": 0.05
          },
          "xaxis": {
           "automargin": true,
           "gridcolor": "white",
           "linecolor": "white",
           "ticks": "",
           "zerolinecolor": "white",
           "zerolinewidth": 2
          },
          "yaxis": {
           "automargin": true,
           "gridcolor": "white",
           "linecolor": "white",
           "ticks": "",
           "zerolinecolor": "white",
           "zerolinewidth": 2
          }
         }
        }
       }
      },
      "text/html": [
       "<div>\n",
       "        \n",
       "        \n",
       "            <div id=\"7962906b-7627-456f-acd1-bbd8463a1e26\" class=\"plotly-graph-div\" style=\"height:600px; width:100%;\"></div>\n",
       "            <script type=\"text/javascript\">\n",
       "                require([\"plotly\"], function(Plotly) {\n",
       "                    window.PLOTLYENV=window.PLOTLYENV || {};\n",
       "                    \n",
       "                if (document.getElementById(\"7962906b-7627-456f-acd1-bbd8463a1e26\")) {\n",
       "                    Plotly.newPlot(\n",
       "                        '7962906b-7627-456f-acd1-bbd8463a1e26',\n",
       "                        [{\"hoverlabel\": {\"namelength\": 0}, \"hovertemplate\": \"Score=space<br>x=%{x}<br>y=%{y}<br>z=%{z}\", \"legendgroup\": \"Score=space\", \"marker\": {\"color\": \"#636efa\", \"symbol\": \"circle\"}, \"mode\": \"markers\", \"name\": \"Score=space\", \"scene\": \"scene\", \"showlegend\": true, \"type\": \"scatter3d\", \"x\": [-211.18629455566406, -5.669851303100586, -172.87249755859375, 36.425628662109375, 115.2301025390625, 91.12478637695312, -12.641326904296875, -13.257498741149902, 61.590187072753906, 5.654056549072266, -57.235408782958984, 105.24098205566406, 287.6274719238281, -2.7620737552642822, -99.64364624023438, -54.53240203857422, -76.7277603149414, 129.80665588378906, -39.942867279052734, -67.8034896850586, -172.95484924316406, -72.184326171875, 17.00324821472168], \"y\": [-36.503456115722656, -79.23304748535156, 143.86785888671875, -22.377511978149414, 150.00343322753906, -49.41621780395508, 174.3474578857422, 2.1246681213378906, 93.38432312011719, -5.67006254196167, 60.94538879394531, 6.54671573638916, 27.157976150512695, 16.376951217651367, 56.6246452331543, 68.5989990234375, -17.00618553161621, -97.17379760742188, 82.1317138671875, -96.7105484008789, 57.49303436279297, 48.828617095947266, -192.77398681640625], \"z\": [-57.14572525024414, -65.9995346069336, 5.821041107177734, -123.76742553710938, -115.5044937133789, 85.24334716796875, -82.70225524902344, 209.59170532226562, -109.09081268310547, 122.7402572631836, 102.34228515625, -165.9141387939453, -90.3773193359375, -56.61621856689453, 195.46510314941406, -205.9807586669922, 144.61073303222656, 23.216144561767578, -20.803627014160156, 201.85528564453125, 114.12225341796875, -84.88672637939453, 127.91851043701172]}, {\"hoverlabel\": {\"namelength\": 0}, \"hovertemplate\": \"Score=hardware<br>x=%{x}<br>y=%{y}<br>z=%{z}\", \"legendgroup\": \"Score=hardware\", \"marker\": {\"color\": \"#EF553B\", \"symbol\": \"circle\"}, \"mode\": \"markers\", \"name\": \"Score=hardware\", \"scene\": \"scene\", \"showlegend\": true, \"type\": \"scatter3d\", \"x\": [211.3543243408203, 115.1004638671875, 104.7892837524414, 45.84648513793945, 18.856325149536133, -58.526309967041016, -5.797163009643555, 57.2690544128418, 46.501312255859375, 168.26028442382812, 210.42764282226562, 87.03118896484375, 90.65320587158203, 143.1126251220703, 74.23123931884766, 40.65383529663086, 145.42813110351562, 129.3861541748047, 93.96272277832031, 189.91998291015625, 155.20867919921875, 65.20568084716797, 125.6368637084961, -114.09988403320312, -173.95571899414062, 150.5460662841797, -9.544903755187988, 172.0355224609375, 146.01858520507812, -88.53948211669922, -25.527591705322266, 184.5294952392578], \"y\": [66.46749877929688, 121.72286224365234, 1.2626932859420776, 172.71591186523438, 73.29215240478516, -16.017642974853516, 64.33419799804688, -119.80317687988281, 69.64769744873047, 17.787899017333984, -97.7162094116211, -94.04501342773438, 26.261920928955078, -169.2066650390625, 45.35150909423828, -27.363426208496094, -103.8159408569336, 93.27117919921875, 202.4381866455078, -73.62332916259766, 72.28487396240234, 180.99119567871094, 101.79720306396484, 182.93931579589844, -39.75714874267578, -22.607995986938477, 111.36300659179688, -15.286863327026367, 29.6162052154541, 151.40428161621094, 168.14569091796875, 154.7087860107422], \"z\": [-58.61452102661133, 73.9854965209961, -80.65238952636719, 124.41844177246094, 48.4498405456543, -24.00161361694336, -119.38156127929688, 84.12176513671875, 131.5654296875, 76.3600845336914, -32.16305923461914, -70.50713348388672, 84.39989471435547, -46.02469253540039, 13.487051010131836, -30.15155792236328, -129.56234741210938, 172.73622131347656, 26.536827087402344, 99.5535659790039, -137.27877807617188, -57.89923858642578, -44.11113739013672, -70.8231430053711, -142.59217834472656, 10.985280990600586, 179.34117126464844, -58.93461608886719, 159.19068908691406, 53.95323181152344, -165.65353393554688, -2.9091439247131348]}, {\"hoverlabel\": {\"namelength\": 0}, \"hovertemplate\": \"Score=baseball<br>x=%{x}<br>y=%{y}<br>z=%{z}\", \"legendgroup\": \"Score=baseball\", \"marker\": {\"color\": \"#00cc96\", \"symbol\": \"circle\"}, \"mode\": \"markers\", \"name\": \"Score=baseball\", \"scene\": \"scene\", \"showlegend\": true, \"type\": \"scatter3d\", \"x\": [-73.01152038574219, 42.135292053222656, -81.437255859375, -33.88813400268555, -44.34512710571289, -14.804673194885254, -127.29474639892578, -83.3620834350586, 59.71397018432617, -28.22417640686035, -108.36487579345703, -128.8480987548828, -125.5356674194336, 66.42610931396484, 102.83965301513672, 52.44514465332031, -112.22187042236328, 54.14984893798828, 66.01126098632812, 106.24523162841797, -15.44699764251709, -36.14993667602539, -174.0811004638672, 153.87692260742188, 190.13441467285156, -69.43107604980469, -142.65013122558594, -55.784820556640625, 35.945892333984375, 38.64990234375, -9.4734525680542], \"y\": [-33.2686653137207, 109.9831771850586, 107.70092010498047, -187.7425537109375, 153.9035186767578, -93.30252838134766, -105.69169616699219, -78.76490020751953, -84.36381530761719, 19.507205963134766, -112.72904968261719, -150.76174926757812, -71.28944396972656, -174.29139709472656, -21.249122619628906, 54.4898681640625, 68.65065002441406, -158.0765380859375, -86.83314514160156, -400.1124572753906, -175.16830444335938, -89.37010955810547, -34.575443267822266, 60.5906867980957, -31.134790420532227, -168.04678344726562, -154.231201171875, -141.84849548339844, -237.10067749023438, -105.14952087402344, -91.90179443359375], \"z\": [-113.647216796875, -181.2642822265625, -114.86664581298828, -102.86780548095703, -15.048643112182617, -138.09478759765625, 116.93952178955078, 36.418025970458984, 11.09903335571289, 33.13766098022461, -163.54525756835938, -61.73273468017578, -42.85276412963867, 10.073101997375488, 2.4322571754455566, -52.411865234375, 34.18685531616211, -115.18627166748047, -196.31626892089844, -345.3110656738281, 33.056331634521484, 111.92030334472656, 158.10809326171875, 17.17456817626953, -145.89894104003906, 97.60969543457031, 36.852169036865234, -28.55721092224121, -45.37283706665039, 179.4573974609375, 11.960443496704102]}, {\"hoverlabel\": {\"namelength\": 0}, \"hovertemplate\": \"Score=religion<br>x=%{x}<br>y=%{y}<br>z=%{z}\", \"legendgroup\": \"Score=religion\", \"marker\": {\"color\": \"#ab63fa\", \"symbol\": \"circle\"}, \"mode\": \"markers\", \"name\": \"Score=religion\", \"scene\": \"scene\", \"showlegend\": true, \"type\": \"scatter3d\", \"x\": [84.33438873291016, -105.13690185546875, -133.2787628173828, 1.2288986444473267, -213.0950927734375, 30.11127281188965, -137.8595733642578, -172.30809020996094, 21.64377212524414, -142.0059814453125, -34.070865631103516, -128.4916229248047, 43.8409538269043, -218.13580322265625], \"y\": [-26.44825553894043, 144.82302856445312, -8.21381950378418, 162.09555053710938, -77.87092590332031, 28.795873641967773, 25.337432861328125, 97.9723892211914, -31.966205596923828, -31.444196701049805, -33.25094985961914, 34.100643157958984, 123.24131774902344, 46.79135513305664], \"z\": [194.47299194335938, 138.0160675048828, 23.327239990234375, 49.43086242675781, 33.631465911865234, -204.7235565185547, -50.49159622192383, -90.66150665283203, 55.73847961425781, 91.42735290527344, -207.19143676757812, -166.99200439453125, -7.032626152038574, 4.2115797996521]}],\n",
       "                        {\"height\": 600, \"legend\": {\"tracegroupgap\": 0}, \"margin\": {\"t\": 60}, \"scene\": {\"domain\": {\"x\": [0.0, 0.98], \"y\": [0.0, 1.0]}, \"xaxis\": {\"title\": {\"text\": \"x\"}}, \"yaxis\": {\"title\": {\"text\": \"y\"}}, \"zaxis\": {\"title\": {\"text\": \"z\"}}}, \"template\": {\"data\": {\"bar\": [{\"error_x\": {\"color\": \"#2a3f5f\"}, \"error_y\": {\"color\": \"#2a3f5f\"}, \"marker\": {\"line\": {\"color\": \"#E5ECF6\", \"width\": 0.5}}, \"type\": \"bar\"}], \"barpolar\": [{\"marker\": {\"line\": {\"color\": \"#E5ECF6\", \"width\": 0.5}}, \"type\": \"barpolar\"}], \"carpet\": [{\"aaxis\": {\"endlinecolor\": \"#2a3f5f\", \"gridcolor\": \"white\", \"linecolor\": \"white\", \"minorgridcolor\": \"white\", \"startlinecolor\": \"#2a3f5f\"}, \"baxis\": {\"endlinecolor\": \"#2a3f5f\", \"gridcolor\": \"white\", \"linecolor\": \"white\", \"minorgridcolor\": \"white\", \"startlinecolor\": \"#2a3f5f\"}, \"type\": \"carpet\"}], \"choropleth\": [{\"colorbar\": {\"outlinewidth\": 0, \"ticks\": \"\"}, \"type\": \"choropleth\"}], \"contour\": [{\"colorbar\": {\"outlinewidth\": 0, \"ticks\": \"\"}, \"colorscale\": [[0.0, \"#0d0887\"], [0.1111111111111111, \"#46039f\"], [0.2222222222222222, \"#7201a8\"], [0.3333333333333333, \"#9c179e\"], [0.4444444444444444, \"#bd3786\"], [0.5555555555555556, \"#d8576b\"], [0.6666666666666666, \"#ed7953\"], [0.7777777777777778, \"#fb9f3a\"], [0.8888888888888888, \"#fdca26\"], [1.0, \"#f0f921\"]], \"type\": \"contour\"}], \"contourcarpet\": [{\"colorbar\": {\"outlinewidth\": 0, \"ticks\": \"\"}, \"type\": \"contourcarpet\"}], \"heatmap\": [{\"colorbar\": {\"outlinewidth\": 0, \"ticks\": \"\"}, \"colorscale\": [[0.0, \"#0d0887\"], [0.1111111111111111, \"#46039f\"], [0.2222222222222222, \"#7201a8\"], [0.3333333333333333, \"#9c179e\"], [0.4444444444444444, \"#bd3786\"], [0.5555555555555556, \"#d8576b\"], [0.6666666666666666, \"#ed7953\"], [0.7777777777777778, \"#fb9f3a\"], [0.8888888888888888, \"#fdca26\"], [1.0, \"#f0f921\"]], \"type\": \"heatmap\"}], \"heatmapgl\": [{\"colorbar\": {\"outlinewidth\": 0, \"ticks\": \"\"}, \"colorscale\": [[0.0, \"#0d0887\"], [0.1111111111111111, \"#46039f\"], [0.2222222222222222, \"#7201a8\"], [0.3333333333333333, \"#9c179e\"], [0.4444444444444444, \"#bd3786\"], [0.5555555555555556, \"#d8576b\"], [0.6666666666666666, \"#ed7953\"], [0.7777777777777778, \"#fb9f3a\"], [0.8888888888888888, \"#fdca26\"], [1.0, \"#f0f921\"]], \"type\": \"heatmapgl\"}], \"histogram\": [{\"marker\": {\"colorbar\": {\"outlinewidth\": 0, \"ticks\": \"\"}}, \"type\": \"histogram\"}], \"histogram2d\": [{\"colorbar\": {\"outlinewidth\": 0, \"ticks\": \"\"}, \"colorscale\": [[0.0, \"#0d0887\"], [0.1111111111111111, \"#46039f\"], [0.2222222222222222, \"#7201a8\"], [0.3333333333333333, \"#9c179e\"], [0.4444444444444444, \"#bd3786\"], [0.5555555555555556, \"#d8576b\"], [0.6666666666666666, \"#ed7953\"], [0.7777777777777778, \"#fb9f3a\"], [0.8888888888888888, \"#fdca26\"], [1.0, \"#f0f921\"]], \"type\": \"histogram2d\"}], \"histogram2dcontour\": [{\"colorbar\": {\"outlinewidth\": 0, \"ticks\": \"\"}, \"colorscale\": [[0.0, \"#0d0887\"], [0.1111111111111111, \"#46039f\"], [0.2222222222222222, \"#7201a8\"], [0.3333333333333333, \"#9c179e\"], [0.4444444444444444, \"#bd3786\"], [0.5555555555555556, \"#d8576b\"], [0.6666666666666666, \"#ed7953\"], [0.7777777777777778, \"#fb9f3a\"], [0.8888888888888888, \"#fdca26\"], [1.0, \"#f0f921\"]], \"type\": \"histogram2dcontour\"}], \"mesh3d\": [{\"colorbar\": {\"outlinewidth\": 0, \"ticks\": \"\"}, \"type\": \"mesh3d\"}], \"parcoords\": [{\"line\": {\"colorbar\": {\"outlinewidth\": 0, \"ticks\": \"\"}}, \"type\": \"parcoords\"}], \"scatter\": [{\"marker\": {\"colorbar\": {\"outlinewidth\": 0, \"ticks\": \"\"}}, \"type\": \"scatter\"}], \"scatter3d\": [{\"line\": {\"colorbar\": {\"outlinewidth\": 0, \"ticks\": \"\"}}, \"marker\": {\"colorbar\": {\"outlinewidth\": 0, \"ticks\": \"\"}}, \"type\": \"scatter3d\"}], \"scattercarpet\": [{\"marker\": {\"colorbar\": {\"outlinewidth\": 0, \"ticks\": \"\"}}, \"type\": \"scattercarpet\"}], \"scattergeo\": [{\"marker\": {\"colorbar\": {\"outlinewidth\": 0, \"ticks\": \"\"}}, \"type\": \"scattergeo\"}], \"scattergl\": [{\"marker\": {\"colorbar\": {\"outlinewidth\": 0, \"ticks\": \"\"}}, \"type\": \"scattergl\"}], \"scattermapbox\": [{\"marker\": {\"colorbar\": {\"outlinewidth\": 0, \"ticks\": \"\"}}, \"type\": \"scattermapbox\"}], \"scatterpolar\": [{\"marker\": {\"colorbar\": {\"outlinewidth\": 0, \"ticks\": \"\"}}, \"type\": \"scatterpolar\"}], \"scatterpolargl\": [{\"marker\": {\"colorbar\": {\"outlinewidth\": 0, \"ticks\": \"\"}}, \"type\": \"scatterpolargl\"}], \"scatterternary\": [{\"marker\": {\"colorbar\": {\"outlinewidth\": 0, \"ticks\": \"\"}}, \"type\": \"scatterternary\"}], \"surface\": [{\"colorbar\": {\"outlinewidth\": 0, \"ticks\": \"\"}, \"colorscale\": [[0.0, \"#0d0887\"], [0.1111111111111111, \"#46039f\"], [0.2222222222222222, \"#7201a8\"], [0.3333333333333333, \"#9c179e\"], [0.4444444444444444, \"#bd3786\"], [0.5555555555555556, \"#d8576b\"], [0.6666666666666666, \"#ed7953\"], [0.7777777777777778, \"#fb9f3a\"], [0.8888888888888888, \"#fdca26\"], [1.0, \"#f0f921\"]], \"type\": \"surface\"}], \"table\": [{\"cells\": {\"fill\": {\"color\": \"#EBF0F8\"}, \"line\": {\"color\": \"white\"}}, \"header\": {\"fill\": {\"color\": \"#C8D4E3\"}, \"line\": {\"color\": \"white\"}}, \"type\": \"table\"}]}, \"layout\": {\"annotationdefaults\": {\"arrowcolor\": \"#2a3f5f\", \"arrowhead\": 0, \"arrowwidth\": 1}, \"colorscale\": {\"diverging\": [[0, \"#8e0152\"], [0.1, \"#c51b7d\"], [0.2, \"#de77ae\"], [0.3, \"#f1b6da\"], [0.4, \"#fde0ef\"], [0.5, \"#f7f7f7\"], [0.6, \"#e6f5d0\"], [0.7, \"#b8e186\"], [0.8, \"#7fbc41\"], [0.9, \"#4d9221\"], [1, \"#276419\"]], \"sequential\": [[0.0, \"#0d0887\"], [0.1111111111111111, \"#46039f\"], [0.2222222222222222, \"#7201a8\"], [0.3333333333333333, \"#9c179e\"], [0.4444444444444444, \"#bd3786\"], [0.5555555555555556, \"#d8576b\"], [0.6666666666666666, \"#ed7953\"], [0.7777777777777778, \"#fb9f3a\"], [0.8888888888888888, \"#fdca26\"], [1.0, \"#f0f921\"]], \"sequentialminus\": [[0.0, \"#0d0887\"], [0.1111111111111111, \"#46039f\"], [0.2222222222222222, \"#7201a8\"], [0.3333333333333333, \"#9c179e\"], [0.4444444444444444, \"#bd3786\"], [0.5555555555555556, \"#d8576b\"], [0.6666666666666666, \"#ed7953\"], [0.7777777777777778, \"#fb9f3a\"], [0.8888888888888888, \"#fdca26\"], [1.0, \"#f0f921\"]]}, \"colorway\": [\"#636efa\", \"#EF553B\", \"#00cc96\", \"#ab63fa\", \"#FFA15A\", \"#19d3f3\", \"#FF6692\", \"#B6E880\", \"#FF97FF\", \"#FECB52\"], \"font\": {\"color\": \"#2a3f5f\"}, \"geo\": {\"bgcolor\": \"white\", \"lakecolor\": \"white\", \"landcolor\": \"#E5ECF6\", \"showlakes\": true, \"showland\": true, \"subunitcolor\": \"white\"}, \"hoverlabel\": {\"align\": \"left\"}, \"hovermode\": \"closest\", \"mapbox\": {\"style\": \"light\"}, \"paper_bgcolor\": \"white\", \"plot_bgcolor\": \"#E5ECF6\", \"polar\": {\"angularaxis\": {\"gridcolor\": \"white\", \"linecolor\": \"white\", \"ticks\": \"\"}, \"bgcolor\": \"#E5ECF6\", \"radialaxis\": {\"gridcolor\": \"white\", \"linecolor\": \"white\", \"ticks\": \"\"}}, \"scene\": {\"xaxis\": {\"backgroundcolor\": \"#E5ECF6\", \"gridcolor\": \"white\", \"gridwidth\": 2, \"linecolor\": \"white\", \"showbackground\": true, \"ticks\": \"\", \"zerolinecolor\": \"white\"}, \"yaxis\": {\"backgroundcolor\": \"#E5ECF6\", \"gridcolor\": \"white\", \"gridwidth\": 2, \"linecolor\": \"white\", \"showbackground\": true, \"ticks\": \"\", \"zerolinecolor\": \"white\"}, \"zaxis\": {\"backgroundcolor\": \"#E5ECF6\", \"gridcolor\": \"white\", \"gridwidth\": 2, \"linecolor\": \"white\", \"showbackground\": true, \"ticks\": \"\", \"zerolinecolor\": \"white\"}}, \"shapedefaults\": {\"line\": {\"color\": \"#2a3f5f\"}}, \"ternary\": {\"aaxis\": {\"gridcolor\": \"white\", \"linecolor\": \"white\", \"ticks\": \"\"}, \"baxis\": {\"gridcolor\": \"white\", \"linecolor\": \"white\", \"ticks\": \"\"}, \"bgcolor\": \"#E5ECF6\", \"caxis\": {\"gridcolor\": \"white\", \"linecolor\": \"white\", \"ticks\": \"\"}}, \"title\": {\"x\": 0.05}, \"xaxis\": {\"automargin\": true, \"gridcolor\": \"white\", \"linecolor\": \"white\", \"ticks\": \"\", \"zerolinecolor\": \"white\", \"zerolinewidth\": 2}, \"yaxis\": {\"automargin\": true, \"gridcolor\": \"white\", \"linecolor\": \"white\", \"ticks\": \"\", \"zerolinecolor\": \"white\", \"zerolinewidth\": 2}}}},\n",
       "                        {\"responsive\": true}\n",
       "                    ).then(function(){\n",
       "                            \n",
       "var gd = document.getElementById('7962906b-7627-456f-acd1-bbd8463a1e26');\n",
       "var x = new MutationObserver(function (mutations, observer) {{\n",
       "        var display = window.getComputedStyle(gd).display;\n",
       "        if (!display || display === 'none') {{\n",
       "            console.log([gd, 'removed!']);\n",
       "            Plotly.purge(gd);\n",
       "            observer.disconnect();\n",
       "        }}\n",
       "}});\n",
       "\n",
       "// Listen for the removal of the full notebook cells\n",
       "var notebookContainer = gd.closest('#notebook-container');\n",
       "if (notebookContainer) {{\n",
       "    x.observe(notebookContainer, {childList: true});\n",
       "}}\n",
       "\n",
       "// Listen for the clearing of the current output cell\n",
       "var outputEl = gd.closest('.output');\n",
       "if (outputEl) {{\n",
       "    x.observe(outputEl, {childList: true});\n",
       "}}\n",
       "\n",
       "                        })\n",
       "                };\n",
       "                });\n",
       "            </script>\n",
       "        </div>"
      ]
     },
     "metadata": {},
     "output_type": "display_data"
    }
   ],
   "source": [
    "fig = px.scatter_3d(df, x=\"x\", y=\"y\", z=\"z\",color=\"Score\")\n",
    "fig.show()"
   ]
  },
  {
   "cell_type": "markdown",
   "metadata": {},
   "source": [
    "# KMeans"
   ]
  },
  {
   "cell_type": "code",
   "execution_count": 13,
   "metadata": {},
   "outputs": [],
   "source": [
    "est = KMeans(n_clusters=4)\n",
    "est.fit(text_vectors)\n",
    "labels = est.labels_"
   ]
  },
  {
   "cell_type": "code",
   "execution_count": 14,
   "metadata": {},
   "outputs": [],
   "source": [
    "labels_cat = [ map_tags[lab] for lab in labels ]"
   ]
  },
  {
   "cell_type": "code",
   "execution_count": 15,
   "metadata": {},
   "outputs": [],
   "source": [
    "d = {'x':X_transform[:,0],'y':X_transform[:,1], 'z': X_transform[:,2],'Score':labels_cat}\n",
    "df = pd.DataFrame(d)"
   ]
  },
  {
   "cell_type": "code",
   "execution_count": 16,
   "metadata": {},
   "outputs": [
    {
     "data": {
      "text/plain": [
       "0.07814029372602666"
      ]
     },
     "execution_count": 16,
     "metadata": {},
     "output_type": "execute_result"
    }
   ],
   "source": [
    "homogeneity_score(data_class,labels)"
   ]
  },
  {
   "cell_type": "code",
   "execution_count": 17,
   "metadata": {},
   "outputs": [
    {
     "data": {
      "application/vnd.plotly.v1+json": {
       "config": {
        "plotlyServerURL": "https://plot.ly"
       },
       "data": [
        {
         "hoverlabel": {
          "namelength": 0
         },
         "hovertemplate": "Score=space<br>x=%{x}<br>y=%{y}<br>z=%{z}",
         "legendgroup": "Score=space",
         "marker": {
          "color": "#636efa",
          "symbol": "circle"
         },
         "mode": "markers",
         "name": "Score=space",
         "scene": "scene",
         "showlegend": true,
         "type": "scatter3d",
         "x": [
          -211.18629455566406,
          211.3543243408203,
          -5.669851303100586,
          115.1004638671875,
          -73.01152038574219,
          84.33438873291016,
          104.7892837524414,
          -105.13690185546875,
          45.84648513793945,
          18.856325149536133,
          42.135292053222656,
          -172.87249755859375,
          36.425628662109375,
          -58.526309967041016,
          -81.437255859375,
          115.2301025390625,
          -5.797163009643555,
          -33.88813400268555,
          -44.34512710571289,
          57.2690544128418,
          46.501312255859375,
          91.12478637695312,
          168.26028442382812,
          -14.804673194885254,
          -12.641326904296875,
          -127.29474639892578,
          -13.257498741149902,
          -83.3620834350586,
          61.590187072753906,
          59.71397018432617,
          -133.2787628173828,
          1.2288986444473267,
          -28.22417640686035,
          -108.36487579345703,
          -213.0950927734375,
          -128.8480987548828,
          -125.5356674194336,
          5.654056549072266,
          30.11127281188965,
          -57.235408782958984,
          66.42610931396484,
          102.83965301513672,
          52.44514465332031,
          -112.22187042236328,
          90.65320587158203,
          54.14984893798828,
          66.01126098632812,
          74.23123931884766,
          40.65383529663086,
          105.24098205566406,
          106.24523162841797,
          93.96272277832031,
          -15.44699764251709,
          -172.30809020996094,
          189.91998291015625,
          21.64377212524414,
          287.6274719238281,
          155.20867919921875,
          -36.14993667602539,
          -142.0059814453125,
          -2.7620737552642822,
          65.20568084716797,
          -174.0811004638672,
          125.6368637084961,
          153.87692260742188,
          190.13441467285156,
          -69.43107604980469,
          -114.09988403320312,
          -99.64364624023438,
          -54.53240203857422,
          -76.7277603149414,
          -142.65013122558594,
          -55.784820556640625,
          35.945892333984375,
          38.64990234375,
          129.80665588378906,
          150.5460662841797,
          -34.070865631103516,
          -39.942867279052734,
          -67.8034896850586,
          -128.4916229248047,
          -9.544903755187988,
          43.8409538269043,
          -172.95484924316406,
          -9.4734525680542,
          172.0355224609375,
          -88.53948211669922,
          -218.13580322265625,
          -25.527591705322266,
          184.5294952392578,
          -72.184326171875,
          17.00324821472168
         ],
         "y": [
          -36.503456115722656,
          66.46749877929688,
          -79.23304748535156,
          121.72286224365234,
          -33.2686653137207,
          -26.44825553894043,
          1.2626932859420776,
          144.82302856445312,
          172.71591186523438,
          73.29215240478516,
          109.9831771850586,
          143.86785888671875,
          -22.377511978149414,
          -16.017642974853516,
          107.70092010498047,
          150.00343322753906,
          64.33419799804688,
          -187.7425537109375,
          153.9035186767578,
          -119.80317687988281,
          69.64769744873047,
          -49.41621780395508,
          17.787899017333984,
          -93.30252838134766,
          174.3474578857422,
          -105.69169616699219,
          2.1246681213378906,
          -78.76490020751953,
          93.38432312011719,
          -84.36381530761719,
          -8.21381950378418,
          162.09555053710938,
          19.507205963134766,
          -112.72904968261719,
          -77.87092590332031,
          -150.76174926757812,
          -71.28944396972656,
          -5.67006254196167,
          28.795873641967773,
          60.94538879394531,
          -174.29139709472656,
          -21.249122619628906,
          54.4898681640625,
          68.65065002441406,
          26.261920928955078,
          -158.0765380859375,
          -86.83314514160156,
          45.35150909423828,
          -27.363426208496094,
          6.54671573638916,
          -400.1124572753906,
          202.4381866455078,
          -175.16830444335938,
          97.9723892211914,
          -73.62332916259766,
          -31.966205596923828,
          27.157976150512695,
          72.28487396240234,
          -89.37010955810547,
          -31.444196701049805,
          16.376951217651367,
          180.99119567871094,
          -34.575443267822266,
          101.79720306396484,
          60.5906867980957,
          -31.134790420532227,
          -168.04678344726562,
          182.93931579589844,
          56.6246452331543,
          68.5989990234375,
          -17.00618553161621,
          -154.231201171875,
          -141.84849548339844,
          -237.10067749023438,
          -105.14952087402344,
          -97.17379760742188,
          -22.607995986938477,
          -33.25094985961914,
          82.1317138671875,
          -96.7105484008789,
          34.100643157958984,
          111.36300659179688,
          123.24131774902344,
          57.49303436279297,
          -91.90179443359375,
          -15.286863327026367,
          151.40428161621094,
          46.79135513305664,
          168.14569091796875,
          154.7087860107422,
          48.828617095947266,
          -192.77398681640625
         ],
         "z": [
          -57.14572525024414,
          -58.61452102661133,
          -65.9995346069336,
          73.9854965209961,
          -113.647216796875,
          194.47299194335938,
          -80.65238952636719,
          138.0160675048828,
          124.41844177246094,
          48.4498405456543,
          -181.2642822265625,
          5.821041107177734,
          -123.76742553710938,
          -24.00161361694336,
          -114.86664581298828,
          -115.5044937133789,
          -119.38156127929688,
          -102.86780548095703,
          -15.048643112182617,
          84.12176513671875,
          131.5654296875,
          85.24334716796875,
          76.3600845336914,
          -138.09478759765625,
          -82.70225524902344,
          116.93952178955078,
          209.59170532226562,
          36.418025970458984,
          -109.09081268310547,
          11.09903335571289,
          23.327239990234375,
          49.43086242675781,
          33.13766098022461,
          -163.54525756835938,
          33.631465911865234,
          -61.73273468017578,
          -42.85276412963867,
          122.7402572631836,
          -204.7235565185547,
          102.34228515625,
          10.073101997375488,
          2.4322571754455566,
          -52.411865234375,
          34.18685531616211,
          84.39989471435547,
          -115.18627166748047,
          -196.31626892089844,
          13.487051010131836,
          -30.15155792236328,
          -165.9141387939453,
          -345.3110656738281,
          26.536827087402344,
          33.056331634521484,
          -90.66150665283203,
          99.5535659790039,
          55.73847961425781,
          -90.3773193359375,
          -137.27877807617188,
          111.92030334472656,
          91.42735290527344,
          -56.61621856689453,
          -57.89923858642578,
          158.10809326171875,
          -44.11113739013672,
          17.17456817626953,
          -145.89894104003906,
          97.60969543457031,
          -70.8231430053711,
          195.46510314941406,
          -205.9807586669922,
          144.61073303222656,
          36.852169036865234,
          -28.55721092224121,
          -45.37283706665039,
          179.4573974609375,
          23.216144561767578,
          10.985280990600586,
          -207.19143676757812,
          -20.803627014160156,
          201.85528564453125,
          -166.99200439453125,
          179.34117126464844,
          -7.032626152038574,
          114.12225341796875,
          11.960443496704102,
          -58.93461608886719,
          53.95323181152344,
          4.2115797996521,
          -165.65353393554688,
          -2.9091439247131348,
          -84.88672637939453,
          127.91851043701172
         ]
        },
        {
         "hoverlabel": {
          "namelength": 0
         },
         "hovertemplate": "Score=hardware<br>x=%{x}<br>y=%{y}<br>z=%{z}",
         "legendgroup": "Score=hardware",
         "marker": {
          "color": "#EF553B",
          "symbol": "circle"
         },
         "mode": "markers",
         "name": "Score=hardware",
         "scene": "scene",
         "showlegend": true,
         "type": "scatter3d",
         "x": [
          210.42764282226562,
          87.03118896484375,
          143.1126251220703,
          145.42813110351562,
          -173.95571899414062,
          146.01858520507812
         ],
         "y": [
          -97.7162094116211,
          -94.04501342773438,
          -169.2066650390625,
          -103.8159408569336,
          -39.75714874267578,
          29.6162052154541
         ],
         "z": [
          -32.16305923461914,
          -70.50713348388672,
          -46.02469253540039,
          -129.56234741210938,
          -142.59217834472656,
          159.19068908691406
         ]
        },
        {
         "hoverlabel": {
          "namelength": 0
         },
         "hovertemplate": "Score=baseball<br>x=%{x}<br>y=%{y}<br>z=%{z}",
         "legendgroup": "Score=baseball",
         "marker": {
          "color": "#00cc96",
          "symbol": "circle"
         },
         "mode": "markers",
         "name": "Score=baseball",
         "scene": "scene",
         "showlegend": true,
         "type": "scatter3d",
         "x": [
          129.3861541748047
         ],
         "y": [
          93.27117919921875
         ],
         "z": [
          172.73622131347656
         ]
        },
        {
         "hoverlabel": {
          "namelength": 0
         },
         "hovertemplate": "Score=religion<br>x=%{x}<br>y=%{y}<br>z=%{z}",
         "legendgroup": "Score=religion",
         "marker": {
          "color": "#ab63fa",
          "symbol": "circle"
         },
         "mode": "markers",
         "name": "Score=religion",
         "scene": "scene",
         "showlegend": true,
         "type": "scatter3d",
         "x": [
          -137.8595733642578
         ],
         "y": [
          25.337432861328125
         ],
         "z": [
          -50.49159622192383
         ]
        }
       ],
       "layout": {
        "height": 600,
        "legend": {
         "tracegroupgap": 0
        },
        "margin": {
         "t": 60
        },
        "scene": {
         "domain": {
          "x": [
           0,
           0.98
          ],
          "y": [
           0,
           1
          ]
         },
         "xaxis": {
          "title": {
           "text": "x"
          }
         },
         "yaxis": {
          "title": {
           "text": "y"
          }
         },
         "zaxis": {
          "title": {
           "text": "z"
          }
         }
        },
        "template": {
         "data": {
          "bar": [
           {
            "error_x": {
             "color": "#2a3f5f"
            },
            "error_y": {
             "color": "#2a3f5f"
            },
            "marker": {
             "line": {
              "color": "#E5ECF6",
              "width": 0.5
             }
            },
            "type": "bar"
           }
          ],
          "barpolar": [
           {
            "marker": {
             "line": {
              "color": "#E5ECF6",
              "width": 0.5
             }
            },
            "type": "barpolar"
           }
          ],
          "carpet": [
           {
            "aaxis": {
             "endlinecolor": "#2a3f5f",
             "gridcolor": "white",
             "linecolor": "white",
             "minorgridcolor": "white",
             "startlinecolor": "#2a3f5f"
            },
            "baxis": {
             "endlinecolor": "#2a3f5f",
             "gridcolor": "white",
             "linecolor": "white",
             "minorgridcolor": "white",
             "startlinecolor": "#2a3f5f"
            },
            "type": "carpet"
           }
          ],
          "choropleth": [
           {
            "colorbar": {
             "outlinewidth": 0,
             "ticks": ""
            },
            "type": "choropleth"
           }
          ],
          "contour": [
           {
            "colorbar": {
             "outlinewidth": 0,
             "ticks": ""
            },
            "colorscale": [
             [
              0,
              "#0d0887"
             ],
             [
              0.1111111111111111,
              "#46039f"
             ],
             [
              0.2222222222222222,
              "#7201a8"
             ],
             [
              0.3333333333333333,
              "#9c179e"
             ],
             [
              0.4444444444444444,
              "#bd3786"
             ],
             [
              0.5555555555555556,
              "#d8576b"
             ],
             [
              0.6666666666666666,
              "#ed7953"
             ],
             [
              0.7777777777777778,
              "#fb9f3a"
             ],
             [
              0.8888888888888888,
              "#fdca26"
             ],
             [
              1,
              "#f0f921"
             ]
            ],
            "type": "contour"
           }
          ],
          "contourcarpet": [
           {
            "colorbar": {
             "outlinewidth": 0,
             "ticks": ""
            },
            "type": "contourcarpet"
           }
          ],
          "heatmap": [
           {
            "colorbar": {
             "outlinewidth": 0,
             "ticks": ""
            },
            "colorscale": [
             [
              0,
              "#0d0887"
             ],
             [
              0.1111111111111111,
              "#46039f"
             ],
             [
              0.2222222222222222,
              "#7201a8"
             ],
             [
              0.3333333333333333,
              "#9c179e"
             ],
             [
              0.4444444444444444,
              "#bd3786"
             ],
             [
              0.5555555555555556,
              "#d8576b"
             ],
             [
              0.6666666666666666,
              "#ed7953"
             ],
             [
              0.7777777777777778,
              "#fb9f3a"
             ],
             [
              0.8888888888888888,
              "#fdca26"
             ],
             [
              1,
              "#f0f921"
             ]
            ],
            "type": "heatmap"
           }
          ],
          "heatmapgl": [
           {
            "colorbar": {
             "outlinewidth": 0,
             "ticks": ""
            },
            "colorscale": [
             [
              0,
              "#0d0887"
             ],
             [
              0.1111111111111111,
              "#46039f"
             ],
             [
              0.2222222222222222,
              "#7201a8"
             ],
             [
              0.3333333333333333,
              "#9c179e"
             ],
             [
              0.4444444444444444,
              "#bd3786"
             ],
             [
              0.5555555555555556,
              "#d8576b"
             ],
             [
              0.6666666666666666,
              "#ed7953"
             ],
             [
              0.7777777777777778,
              "#fb9f3a"
             ],
             [
              0.8888888888888888,
              "#fdca26"
             ],
             [
              1,
              "#f0f921"
             ]
            ],
            "type": "heatmapgl"
           }
          ],
          "histogram": [
           {
            "marker": {
             "colorbar": {
              "outlinewidth": 0,
              "ticks": ""
             }
            },
            "type": "histogram"
           }
          ],
          "histogram2d": [
           {
            "colorbar": {
             "outlinewidth": 0,
             "ticks": ""
            },
            "colorscale": [
             [
              0,
              "#0d0887"
             ],
             [
              0.1111111111111111,
              "#46039f"
             ],
             [
              0.2222222222222222,
              "#7201a8"
             ],
             [
              0.3333333333333333,
              "#9c179e"
             ],
             [
              0.4444444444444444,
              "#bd3786"
             ],
             [
              0.5555555555555556,
              "#d8576b"
             ],
             [
              0.6666666666666666,
              "#ed7953"
             ],
             [
              0.7777777777777778,
              "#fb9f3a"
             ],
             [
              0.8888888888888888,
              "#fdca26"
             ],
             [
              1,
              "#f0f921"
             ]
            ],
            "type": "histogram2d"
           }
          ],
          "histogram2dcontour": [
           {
            "colorbar": {
             "outlinewidth": 0,
             "ticks": ""
            },
            "colorscale": [
             [
              0,
              "#0d0887"
             ],
             [
              0.1111111111111111,
              "#46039f"
             ],
             [
              0.2222222222222222,
              "#7201a8"
             ],
             [
              0.3333333333333333,
              "#9c179e"
             ],
             [
              0.4444444444444444,
              "#bd3786"
             ],
             [
              0.5555555555555556,
              "#d8576b"
             ],
             [
              0.6666666666666666,
              "#ed7953"
             ],
             [
              0.7777777777777778,
              "#fb9f3a"
             ],
             [
              0.8888888888888888,
              "#fdca26"
             ],
             [
              1,
              "#f0f921"
             ]
            ],
            "type": "histogram2dcontour"
           }
          ],
          "mesh3d": [
           {
            "colorbar": {
             "outlinewidth": 0,
             "ticks": ""
            },
            "type": "mesh3d"
           }
          ],
          "parcoords": [
           {
            "line": {
             "colorbar": {
              "outlinewidth": 0,
              "ticks": ""
             }
            },
            "type": "parcoords"
           }
          ],
          "scatter": [
           {
            "marker": {
             "colorbar": {
              "outlinewidth": 0,
              "ticks": ""
             }
            },
            "type": "scatter"
           }
          ],
          "scatter3d": [
           {
            "line": {
             "colorbar": {
              "outlinewidth": 0,
              "ticks": ""
             }
            },
            "marker": {
             "colorbar": {
              "outlinewidth": 0,
              "ticks": ""
             }
            },
            "type": "scatter3d"
           }
          ],
          "scattercarpet": [
           {
            "marker": {
             "colorbar": {
              "outlinewidth": 0,
              "ticks": ""
             }
            },
            "type": "scattercarpet"
           }
          ],
          "scattergeo": [
           {
            "marker": {
             "colorbar": {
              "outlinewidth": 0,
              "ticks": ""
             }
            },
            "type": "scattergeo"
           }
          ],
          "scattergl": [
           {
            "marker": {
             "colorbar": {
              "outlinewidth": 0,
              "ticks": ""
             }
            },
            "type": "scattergl"
           }
          ],
          "scattermapbox": [
           {
            "marker": {
             "colorbar": {
              "outlinewidth": 0,
              "ticks": ""
             }
            },
            "type": "scattermapbox"
           }
          ],
          "scatterpolar": [
           {
            "marker": {
             "colorbar": {
              "outlinewidth": 0,
              "ticks": ""
             }
            },
            "type": "scatterpolar"
           }
          ],
          "scatterpolargl": [
           {
            "marker": {
             "colorbar": {
              "outlinewidth": 0,
              "ticks": ""
             }
            },
            "type": "scatterpolargl"
           }
          ],
          "scatterternary": [
           {
            "marker": {
             "colorbar": {
              "outlinewidth": 0,
              "ticks": ""
             }
            },
            "type": "scatterternary"
           }
          ],
          "surface": [
           {
            "colorbar": {
             "outlinewidth": 0,
             "ticks": ""
            },
            "colorscale": [
             [
              0,
              "#0d0887"
             ],
             [
              0.1111111111111111,
              "#46039f"
             ],
             [
              0.2222222222222222,
              "#7201a8"
             ],
             [
              0.3333333333333333,
              "#9c179e"
             ],
             [
              0.4444444444444444,
              "#bd3786"
             ],
             [
              0.5555555555555556,
              "#d8576b"
             ],
             [
              0.6666666666666666,
              "#ed7953"
             ],
             [
              0.7777777777777778,
              "#fb9f3a"
             ],
             [
              0.8888888888888888,
              "#fdca26"
             ],
             [
              1,
              "#f0f921"
             ]
            ],
            "type": "surface"
           }
          ],
          "table": [
           {
            "cells": {
             "fill": {
              "color": "#EBF0F8"
             },
             "line": {
              "color": "white"
             }
            },
            "header": {
             "fill": {
              "color": "#C8D4E3"
             },
             "line": {
              "color": "white"
             }
            },
            "type": "table"
           }
          ]
         },
         "layout": {
          "annotationdefaults": {
           "arrowcolor": "#2a3f5f",
           "arrowhead": 0,
           "arrowwidth": 1
          },
          "colorscale": {
           "diverging": [
            [
             0,
             "#8e0152"
            ],
            [
             0.1,
             "#c51b7d"
            ],
            [
             0.2,
             "#de77ae"
            ],
            [
             0.3,
             "#f1b6da"
            ],
            [
             0.4,
             "#fde0ef"
            ],
            [
             0.5,
             "#f7f7f7"
            ],
            [
             0.6,
             "#e6f5d0"
            ],
            [
             0.7,
             "#b8e186"
            ],
            [
             0.8,
             "#7fbc41"
            ],
            [
             0.9,
             "#4d9221"
            ],
            [
             1,
             "#276419"
            ]
           ],
           "sequential": [
            [
             0,
             "#0d0887"
            ],
            [
             0.1111111111111111,
             "#46039f"
            ],
            [
             0.2222222222222222,
             "#7201a8"
            ],
            [
             0.3333333333333333,
             "#9c179e"
            ],
            [
             0.4444444444444444,
             "#bd3786"
            ],
            [
             0.5555555555555556,
             "#d8576b"
            ],
            [
             0.6666666666666666,
             "#ed7953"
            ],
            [
             0.7777777777777778,
             "#fb9f3a"
            ],
            [
             0.8888888888888888,
             "#fdca26"
            ],
            [
             1,
             "#f0f921"
            ]
           ],
           "sequentialminus": [
            [
             0,
             "#0d0887"
            ],
            [
             0.1111111111111111,
             "#46039f"
            ],
            [
             0.2222222222222222,
             "#7201a8"
            ],
            [
             0.3333333333333333,
             "#9c179e"
            ],
            [
             0.4444444444444444,
             "#bd3786"
            ],
            [
             0.5555555555555556,
             "#d8576b"
            ],
            [
             0.6666666666666666,
             "#ed7953"
            ],
            [
             0.7777777777777778,
             "#fb9f3a"
            ],
            [
             0.8888888888888888,
             "#fdca26"
            ],
            [
             1,
             "#f0f921"
            ]
           ]
          },
          "colorway": [
           "#636efa",
           "#EF553B",
           "#00cc96",
           "#ab63fa",
           "#FFA15A",
           "#19d3f3",
           "#FF6692",
           "#B6E880",
           "#FF97FF",
           "#FECB52"
          ],
          "font": {
           "color": "#2a3f5f"
          },
          "geo": {
           "bgcolor": "white",
           "lakecolor": "white",
           "landcolor": "#E5ECF6",
           "showlakes": true,
           "showland": true,
           "subunitcolor": "white"
          },
          "hoverlabel": {
           "align": "left"
          },
          "hovermode": "closest",
          "mapbox": {
           "style": "light"
          },
          "paper_bgcolor": "white",
          "plot_bgcolor": "#E5ECF6",
          "polar": {
           "angularaxis": {
            "gridcolor": "white",
            "linecolor": "white",
            "ticks": ""
           },
           "bgcolor": "#E5ECF6",
           "radialaxis": {
            "gridcolor": "white",
            "linecolor": "white",
            "ticks": ""
           }
          },
          "scene": {
           "xaxis": {
            "backgroundcolor": "#E5ECF6",
            "gridcolor": "white",
            "gridwidth": 2,
            "linecolor": "white",
            "showbackground": true,
            "ticks": "",
            "zerolinecolor": "white"
           },
           "yaxis": {
            "backgroundcolor": "#E5ECF6",
            "gridcolor": "white",
            "gridwidth": 2,
            "linecolor": "white",
            "showbackground": true,
            "ticks": "",
            "zerolinecolor": "white"
           },
           "zaxis": {
            "backgroundcolor": "#E5ECF6",
            "gridcolor": "white",
            "gridwidth": 2,
            "linecolor": "white",
            "showbackground": true,
            "ticks": "",
            "zerolinecolor": "white"
           }
          },
          "shapedefaults": {
           "line": {
            "color": "#2a3f5f"
           }
          },
          "ternary": {
           "aaxis": {
            "gridcolor": "white",
            "linecolor": "white",
            "ticks": ""
           },
           "baxis": {
            "gridcolor": "white",
            "linecolor": "white",
            "ticks": ""
           },
           "bgcolor": "#E5ECF6",
           "caxis": {
            "gridcolor": "white",
            "linecolor": "white",
            "ticks": ""
           }
          },
          "title": {
           "x": 0.05
          },
          "xaxis": {
           "automargin": true,
           "gridcolor": "white",
           "linecolor": "white",
           "ticks": "",
           "zerolinecolor": "white",
           "zerolinewidth": 2
          },
          "yaxis": {
           "automargin": true,
           "gridcolor": "white",
           "linecolor": "white",
           "ticks": "",
           "zerolinecolor": "white",
           "zerolinewidth": 2
          }
         }
        }
       }
      },
      "text/html": [
       "<div>\n",
       "        \n",
       "        \n",
       "            <div id=\"6b16a190-32ea-4863-80d1-6326aec08525\" class=\"plotly-graph-div\" style=\"height:600px; width:100%;\"></div>\n",
       "            <script type=\"text/javascript\">\n",
       "                require([\"plotly\"], function(Plotly) {\n",
       "                    window.PLOTLYENV=window.PLOTLYENV || {};\n",
       "                    \n",
       "                if (document.getElementById(\"6b16a190-32ea-4863-80d1-6326aec08525\")) {\n",
       "                    Plotly.newPlot(\n",
       "                        '6b16a190-32ea-4863-80d1-6326aec08525',\n",
       "                        [{\"hoverlabel\": {\"namelength\": 0}, \"hovertemplate\": \"Score=space<br>x=%{x}<br>y=%{y}<br>z=%{z}\", \"legendgroup\": \"Score=space\", \"marker\": {\"color\": \"#636efa\", \"symbol\": \"circle\"}, \"mode\": \"markers\", \"name\": \"Score=space\", \"scene\": \"scene\", \"showlegend\": true, \"type\": \"scatter3d\", \"x\": [-211.18629455566406, 211.3543243408203, -5.669851303100586, 115.1004638671875, -73.01152038574219, 84.33438873291016, 104.7892837524414, -105.13690185546875, 45.84648513793945, 18.856325149536133, 42.135292053222656, -172.87249755859375, 36.425628662109375, -58.526309967041016, -81.437255859375, 115.2301025390625, -5.797163009643555, -33.88813400268555, -44.34512710571289, 57.2690544128418, 46.501312255859375, 91.12478637695312, 168.26028442382812, -14.804673194885254, -12.641326904296875, -127.29474639892578, -13.257498741149902, -83.3620834350586, 61.590187072753906, 59.71397018432617, -133.2787628173828, 1.2288986444473267, -28.22417640686035, -108.36487579345703, -213.0950927734375, -128.8480987548828, -125.5356674194336, 5.654056549072266, 30.11127281188965, -57.235408782958984, 66.42610931396484, 102.83965301513672, 52.44514465332031, -112.22187042236328, 90.65320587158203, 54.14984893798828, 66.01126098632812, 74.23123931884766, 40.65383529663086, 105.24098205566406, 106.24523162841797, 93.96272277832031, -15.44699764251709, -172.30809020996094, 189.91998291015625, 21.64377212524414, 287.6274719238281, 155.20867919921875, -36.14993667602539, -142.0059814453125, -2.7620737552642822, 65.20568084716797, -174.0811004638672, 125.6368637084961, 153.87692260742188, 190.13441467285156, -69.43107604980469, -114.09988403320312, -99.64364624023438, -54.53240203857422, -76.7277603149414, -142.65013122558594, -55.784820556640625, 35.945892333984375, 38.64990234375, 129.80665588378906, 150.5460662841797, -34.070865631103516, -39.942867279052734, -67.8034896850586, -128.4916229248047, -9.544903755187988, 43.8409538269043, -172.95484924316406, -9.4734525680542, 172.0355224609375, -88.53948211669922, -218.13580322265625, -25.527591705322266, 184.5294952392578, -72.184326171875, 17.00324821472168], \"y\": [-36.503456115722656, 66.46749877929688, -79.23304748535156, 121.72286224365234, -33.2686653137207, -26.44825553894043, 1.2626932859420776, 144.82302856445312, 172.71591186523438, 73.29215240478516, 109.9831771850586, 143.86785888671875, -22.377511978149414, -16.017642974853516, 107.70092010498047, 150.00343322753906, 64.33419799804688, -187.7425537109375, 153.9035186767578, -119.80317687988281, 69.64769744873047, -49.41621780395508, 17.787899017333984, -93.30252838134766, 174.3474578857422, -105.69169616699219, 2.1246681213378906, -78.76490020751953, 93.38432312011719, -84.36381530761719, -8.21381950378418, 162.09555053710938, 19.507205963134766, -112.72904968261719, -77.87092590332031, -150.76174926757812, -71.28944396972656, -5.67006254196167, 28.795873641967773, 60.94538879394531, -174.29139709472656, -21.249122619628906, 54.4898681640625, 68.65065002441406, 26.261920928955078, -158.0765380859375, -86.83314514160156, 45.35150909423828, -27.363426208496094, 6.54671573638916, -400.1124572753906, 202.4381866455078, -175.16830444335938, 97.9723892211914, -73.62332916259766, -31.966205596923828, 27.157976150512695, 72.28487396240234, -89.37010955810547, -31.444196701049805, 16.376951217651367, 180.99119567871094, -34.575443267822266, 101.79720306396484, 60.5906867980957, -31.134790420532227, -168.04678344726562, 182.93931579589844, 56.6246452331543, 68.5989990234375, -17.00618553161621, -154.231201171875, -141.84849548339844, -237.10067749023438, -105.14952087402344, -97.17379760742188, -22.607995986938477, -33.25094985961914, 82.1317138671875, -96.7105484008789, 34.100643157958984, 111.36300659179688, 123.24131774902344, 57.49303436279297, -91.90179443359375, -15.286863327026367, 151.40428161621094, 46.79135513305664, 168.14569091796875, 154.7087860107422, 48.828617095947266, -192.77398681640625], \"z\": [-57.14572525024414, -58.61452102661133, -65.9995346069336, 73.9854965209961, -113.647216796875, 194.47299194335938, -80.65238952636719, 138.0160675048828, 124.41844177246094, 48.4498405456543, -181.2642822265625, 5.821041107177734, -123.76742553710938, -24.00161361694336, -114.86664581298828, -115.5044937133789, -119.38156127929688, -102.86780548095703, -15.048643112182617, 84.12176513671875, 131.5654296875, 85.24334716796875, 76.3600845336914, -138.09478759765625, -82.70225524902344, 116.93952178955078, 209.59170532226562, 36.418025970458984, -109.09081268310547, 11.09903335571289, 23.327239990234375, 49.43086242675781, 33.13766098022461, -163.54525756835938, 33.631465911865234, -61.73273468017578, -42.85276412963867, 122.7402572631836, -204.7235565185547, 102.34228515625, 10.073101997375488, 2.4322571754455566, -52.411865234375, 34.18685531616211, 84.39989471435547, -115.18627166748047, -196.31626892089844, 13.487051010131836, -30.15155792236328, -165.9141387939453, -345.3110656738281, 26.536827087402344, 33.056331634521484, -90.66150665283203, 99.5535659790039, 55.73847961425781, -90.3773193359375, -137.27877807617188, 111.92030334472656, 91.42735290527344, -56.61621856689453, -57.89923858642578, 158.10809326171875, -44.11113739013672, 17.17456817626953, -145.89894104003906, 97.60969543457031, -70.8231430053711, 195.46510314941406, -205.9807586669922, 144.61073303222656, 36.852169036865234, -28.55721092224121, -45.37283706665039, 179.4573974609375, 23.216144561767578, 10.985280990600586, -207.19143676757812, -20.803627014160156, 201.85528564453125, -166.99200439453125, 179.34117126464844, -7.032626152038574, 114.12225341796875, 11.960443496704102, -58.93461608886719, 53.95323181152344, 4.2115797996521, -165.65353393554688, -2.9091439247131348, -84.88672637939453, 127.91851043701172]}, {\"hoverlabel\": {\"namelength\": 0}, \"hovertemplate\": \"Score=hardware<br>x=%{x}<br>y=%{y}<br>z=%{z}\", \"legendgroup\": \"Score=hardware\", \"marker\": {\"color\": \"#EF553B\", \"symbol\": \"circle\"}, \"mode\": \"markers\", \"name\": \"Score=hardware\", \"scene\": \"scene\", \"showlegend\": true, \"type\": \"scatter3d\", \"x\": [210.42764282226562, 87.03118896484375, 143.1126251220703, 145.42813110351562, -173.95571899414062, 146.01858520507812], \"y\": [-97.7162094116211, -94.04501342773438, -169.2066650390625, -103.8159408569336, -39.75714874267578, 29.6162052154541], \"z\": [-32.16305923461914, -70.50713348388672, -46.02469253540039, -129.56234741210938, -142.59217834472656, 159.19068908691406]}, {\"hoverlabel\": {\"namelength\": 0}, \"hovertemplate\": \"Score=baseball<br>x=%{x}<br>y=%{y}<br>z=%{z}\", \"legendgroup\": \"Score=baseball\", \"marker\": {\"color\": \"#00cc96\", \"symbol\": \"circle\"}, \"mode\": \"markers\", \"name\": \"Score=baseball\", \"scene\": \"scene\", \"showlegend\": true, \"type\": \"scatter3d\", \"x\": [129.3861541748047], \"y\": [93.27117919921875], \"z\": [172.73622131347656]}, {\"hoverlabel\": {\"namelength\": 0}, \"hovertemplate\": \"Score=religion<br>x=%{x}<br>y=%{y}<br>z=%{z}\", \"legendgroup\": \"Score=religion\", \"marker\": {\"color\": \"#ab63fa\", \"symbol\": \"circle\"}, \"mode\": \"markers\", \"name\": \"Score=religion\", \"scene\": \"scene\", \"showlegend\": true, \"type\": \"scatter3d\", \"x\": [-137.8595733642578], \"y\": [25.337432861328125], \"z\": [-50.49159622192383]}],\n",
       "                        {\"height\": 600, \"legend\": {\"tracegroupgap\": 0}, \"margin\": {\"t\": 60}, \"scene\": {\"domain\": {\"x\": [0.0, 0.98], \"y\": [0.0, 1.0]}, \"xaxis\": {\"title\": {\"text\": \"x\"}}, \"yaxis\": {\"title\": {\"text\": \"y\"}}, \"zaxis\": {\"title\": {\"text\": \"z\"}}}, \"template\": {\"data\": {\"bar\": [{\"error_x\": {\"color\": \"#2a3f5f\"}, \"error_y\": {\"color\": \"#2a3f5f\"}, \"marker\": {\"line\": {\"color\": \"#E5ECF6\", \"width\": 0.5}}, \"type\": \"bar\"}], \"barpolar\": [{\"marker\": {\"line\": {\"color\": \"#E5ECF6\", \"width\": 0.5}}, \"type\": \"barpolar\"}], \"carpet\": [{\"aaxis\": {\"endlinecolor\": \"#2a3f5f\", \"gridcolor\": \"white\", \"linecolor\": \"white\", \"minorgridcolor\": \"white\", \"startlinecolor\": \"#2a3f5f\"}, \"baxis\": {\"endlinecolor\": \"#2a3f5f\", \"gridcolor\": \"white\", \"linecolor\": \"white\", \"minorgridcolor\": \"white\", \"startlinecolor\": \"#2a3f5f\"}, \"type\": \"carpet\"}], \"choropleth\": [{\"colorbar\": {\"outlinewidth\": 0, \"ticks\": \"\"}, \"type\": \"choropleth\"}], \"contour\": [{\"colorbar\": {\"outlinewidth\": 0, \"ticks\": \"\"}, \"colorscale\": [[0.0, \"#0d0887\"], [0.1111111111111111, \"#46039f\"], [0.2222222222222222, \"#7201a8\"], [0.3333333333333333, \"#9c179e\"], [0.4444444444444444, \"#bd3786\"], [0.5555555555555556, \"#d8576b\"], [0.6666666666666666, \"#ed7953\"], [0.7777777777777778, \"#fb9f3a\"], [0.8888888888888888, \"#fdca26\"], [1.0, \"#f0f921\"]], \"type\": \"contour\"}], \"contourcarpet\": [{\"colorbar\": {\"outlinewidth\": 0, \"ticks\": \"\"}, \"type\": \"contourcarpet\"}], \"heatmap\": [{\"colorbar\": {\"outlinewidth\": 0, \"ticks\": \"\"}, \"colorscale\": [[0.0, \"#0d0887\"], [0.1111111111111111, \"#46039f\"], [0.2222222222222222, \"#7201a8\"], [0.3333333333333333, \"#9c179e\"], [0.4444444444444444, \"#bd3786\"], [0.5555555555555556, \"#d8576b\"], [0.6666666666666666, \"#ed7953\"], [0.7777777777777778, \"#fb9f3a\"], [0.8888888888888888, \"#fdca26\"], [1.0, \"#f0f921\"]], \"type\": \"heatmap\"}], \"heatmapgl\": [{\"colorbar\": {\"outlinewidth\": 0, \"ticks\": \"\"}, \"colorscale\": [[0.0, \"#0d0887\"], [0.1111111111111111, \"#46039f\"], [0.2222222222222222, \"#7201a8\"], [0.3333333333333333, \"#9c179e\"], [0.4444444444444444, \"#bd3786\"], [0.5555555555555556, \"#d8576b\"], [0.6666666666666666, \"#ed7953\"], [0.7777777777777778, \"#fb9f3a\"], [0.8888888888888888, \"#fdca26\"], [1.0, \"#f0f921\"]], \"type\": \"heatmapgl\"}], \"histogram\": [{\"marker\": {\"colorbar\": {\"outlinewidth\": 0, \"ticks\": \"\"}}, \"type\": \"histogram\"}], \"histogram2d\": [{\"colorbar\": {\"outlinewidth\": 0, \"ticks\": \"\"}, \"colorscale\": [[0.0, \"#0d0887\"], [0.1111111111111111, \"#46039f\"], [0.2222222222222222, \"#7201a8\"], [0.3333333333333333, \"#9c179e\"], [0.4444444444444444, \"#bd3786\"], [0.5555555555555556, \"#d8576b\"], [0.6666666666666666, \"#ed7953\"], [0.7777777777777778, \"#fb9f3a\"], [0.8888888888888888, \"#fdca26\"], [1.0, \"#f0f921\"]], \"type\": \"histogram2d\"}], \"histogram2dcontour\": [{\"colorbar\": {\"outlinewidth\": 0, \"ticks\": \"\"}, \"colorscale\": [[0.0, \"#0d0887\"], [0.1111111111111111, \"#46039f\"], [0.2222222222222222, \"#7201a8\"], [0.3333333333333333, \"#9c179e\"], [0.4444444444444444, \"#bd3786\"], [0.5555555555555556, \"#d8576b\"], [0.6666666666666666, \"#ed7953\"], [0.7777777777777778, \"#fb9f3a\"], [0.8888888888888888, \"#fdca26\"], [1.0, \"#f0f921\"]], \"type\": \"histogram2dcontour\"}], \"mesh3d\": [{\"colorbar\": {\"outlinewidth\": 0, \"ticks\": \"\"}, \"type\": \"mesh3d\"}], \"parcoords\": [{\"line\": {\"colorbar\": {\"outlinewidth\": 0, \"ticks\": \"\"}}, \"type\": \"parcoords\"}], \"scatter\": [{\"marker\": {\"colorbar\": {\"outlinewidth\": 0, \"ticks\": \"\"}}, \"type\": \"scatter\"}], \"scatter3d\": [{\"line\": {\"colorbar\": {\"outlinewidth\": 0, \"ticks\": \"\"}}, \"marker\": {\"colorbar\": {\"outlinewidth\": 0, \"ticks\": \"\"}}, \"type\": \"scatter3d\"}], \"scattercarpet\": [{\"marker\": {\"colorbar\": {\"outlinewidth\": 0, \"ticks\": \"\"}}, \"type\": \"scattercarpet\"}], \"scattergeo\": [{\"marker\": {\"colorbar\": {\"outlinewidth\": 0, \"ticks\": \"\"}}, \"type\": \"scattergeo\"}], \"scattergl\": [{\"marker\": {\"colorbar\": {\"outlinewidth\": 0, \"ticks\": \"\"}}, \"type\": \"scattergl\"}], \"scattermapbox\": [{\"marker\": {\"colorbar\": {\"outlinewidth\": 0, \"ticks\": \"\"}}, \"type\": \"scattermapbox\"}], \"scatterpolar\": [{\"marker\": {\"colorbar\": {\"outlinewidth\": 0, \"ticks\": \"\"}}, \"type\": \"scatterpolar\"}], \"scatterpolargl\": [{\"marker\": {\"colorbar\": {\"outlinewidth\": 0, \"ticks\": \"\"}}, \"type\": \"scatterpolargl\"}], \"scatterternary\": [{\"marker\": {\"colorbar\": {\"outlinewidth\": 0, \"ticks\": \"\"}}, \"type\": \"scatterternary\"}], \"surface\": [{\"colorbar\": {\"outlinewidth\": 0, \"ticks\": \"\"}, \"colorscale\": [[0.0, \"#0d0887\"], [0.1111111111111111, \"#46039f\"], [0.2222222222222222, \"#7201a8\"], [0.3333333333333333, \"#9c179e\"], [0.4444444444444444, \"#bd3786\"], [0.5555555555555556, \"#d8576b\"], [0.6666666666666666, \"#ed7953\"], [0.7777777777777778, \"#fb9f3a\"], [0.8888888888888888, \"#fdca26\"], [1.0, \"#f0f921\"]], \"type\": \"surface\"}], \"table\": [{\"cells\": {\"fill\": {\"color\": \"#EBF0F8\"}, \"line\": {\"color\": \"white\"}}, \"header\": {\"fill\": {\"color\": \"#C8D4E3\"}, \"line\": {\"color\": \"white\"}}, \"type\": \"table\"}]}, \"layout\": {\"annotationdefaults\": {\"arrowcolor\": \"#2a3f5f\", \"arrowhead\": 0, \"arrowwidth\": 1}, \"colorscale\": {\"diverging\": [[0, \"#8e0152\"], [0.1, \"#c51b7d\"], [0.2, \"#de77ae\"], [0.3, \"#f1b6da\"], [0.4, \"#fde0ef\"], [0.5, \"#f7f7f7\"], [0.6, \"#e6f5d0\"], [0.7, \"#b8e186\"], [0.8, \"#7fbc41\"], [0.9, \"#4d9221\"], [1, \"#276419\"]], \"sequential\": [[0.0, \"#0d0887\"], [0.1111111111111111, \"#46039f\"], [0.2222222222222222, \"#7201a8\"], [0.3333333333333333, \"#9c179e\"], [0.4444444444444444, \"#bd3786\"], [0.5555555555555556, \"#d8576b\"], [0.6666666666666666, \"#ed7953\"], [0.7777777777777778, \"#fb9f3a\"], [0.8888888888888888, \"#fdca26\"], [1.0, \"#f0f921\"]], \"sequentialminus\": [[0.0, \"#0d0887\"], [0.1111111111111111, \"#46039f\"], [0.2222222222222222, \"#7201a8\"], [0.3333333333333333, \"#9c179e\"], [0.4444444444444444, \"#bd3786\"], [0.5555555555555556, \"#d8576b\"], [0.6666666666666666, \"#ed7953\"], [0.7777777777777778, \"#fb9f3a\"], [0.8888888888888888, \"#fdca26\"], [1.0, \"#f0f921\"]]}, \"colorway\": [\"#636efa\", \"#EF553B\", \"#00cc96\", \"#ab63fa\", \"#FFA15A\", \"#19d3f3\", \"#FF6692\", \"#B6E880\", \"#FF97FF\", \"#FECB52\"], \"font\": {\"color\": \"#2a3f5f\"}, \"geo\": {\"bgcolor\": \"white\", \"lakecolor\": \"white\", \"landcolor\": \"#E5ECF6\", \"showlakes\": true, \"showland\": true, \"subunitcolor\": \"white\"}, \"hoverlabel\": {\"align\": \"left\"}, \"hovermode\": \"closest\", \"mapbox\": {\"style\": \"light\"}, \"paper_bgcolor\": \"white\", \"plot_bgcolor\": \"#E5ECF6\", \"polar\": {\"angularaxis\": {\"gridcolor\": \"white\", \"linecolor\": \"white\", \"ticks\": \"\"}, \"bgcolor\": \"#E5ECF6\", \"radialaxis\": {\"gridcolor\": \"white\", \"linecolor\": \"white\", \"ticks\": \"\"}}, \"scene\": {\"xaxis\": {\"backgroundcolor\": \"#E5ECF6\", \"gridcolor\": \"white\", \"gridwidth\": 2, \"linecolor\": \"white\", \"showbackground\": true, \"ticks\": \"\", \"zerolinecolor\": \"white\"}, \"yaxis\": {\"backgroundcolor\": \"#E5ECF6\", \"gridcolor\": \"white\", \"gridwidth\": 2, \"linecolor\": \"white\", \"showbackground\": true, \"ticks\": \"\", \"zerolinecolor\": \"white\"}, \"zaxis\": {\"backgroundcolor\": \"#E5ECF6\", \"gridcolor\": \"white\", \"gridwidth\": 2, \"linecolor\": \"white\", \"showbackground\": true, \"ticks\": \"\", \"zerolinecolor\": \"white\"}}, \"shapedefaults\": {\"line\": {\"color\": \"#2a3f5f\"}}, \"ternary\": {\"aaxis\": {\"gridcolor\": \"white\", \"linecolor\": \"white\", \"ticks\": \"\"}, \"baxis\": {\"gridcolor\": \"white\", \"linecolor\": \"white\", \"ticks\": \"\"}, \"bgcolor\": \"#E5ECF6\", \"caxis\": {\"gridcolor\": \"white\", \"linecolor\": \"white\", \"ticks\": \"\"}}, \"title\": {\"x\": 0.05}, \"xaxis\": {\"automargin\": true, \"gridcolor\": \"white\", \"linecolor\": \"white\", \"ticks\": \"\", \"zerolinecolor\": \"white\", \"zerolinewidth\": 2}, \"yaxis\": {\"automargin\": true, \"gridcolor\": \"white\", \"linecolor\": \"white\", \"ticks\": \"\", \"zerolinecolor\": \"white\", \"zerolinewidth\": 2}}}},\n",
       "                        {\"responsive\": true}\n",
       "                    ).then(function(){\n",
       "                            \n",
       "var gd = document.getElementById('6b16a190-32ea-4863-80d1-6326aec08525');\n",
       "var x = new MutationObserver(function (mutations, observer) {{\n",
       "        var display = window.getComputedStyle(gd).display;\n",
       "        if (!display || display === 'none') {{\n",
       "            console.log([gd, 'removed!']);\n",
       "            Plotly.purge(gd);\n",
       "            observer.disconnect();\n",
       "        }}\n",
       "}});\n",
       "\n",
       "// Listen for the removal of the full notebook cells\n",
       "var notebookContainer = gd.closest('#notebook-container');\n",
       "if (notebookContainer) {{\n",
       "    x.observe(notebookContainer, {childList: true});\n",
       "}}\n",
       "\n",
       "// Listen for the clearing of the current output cell\n",
       "var outputEl = gd.closest('.output');\n",
       "if (outputEl) {{\n",
       "    x.observe(outputEl, {childList: true});\n",
       "}}\n",
       "\n",
       "                        })\n",
       "                };\n",
       "                });\n",
       "            </script>\n",
       "        </div>"
      ]
     },
     "metadata": {},
     "output_type": "display_data"
    }
   ],
   "source": [
    "fig = px.scatter_3d(df, x=\"x\", y=\"y\", z=\"z\",color=\"Score\")\n",
    "fig.show()"
   ]
  },
  {
   "cell_type": "markdown",
   "metadata": {},
   "source": [
    "# Non-negative matrix factorization (NMF)"
   ]
  },
  {
   "cell_type": "markdown",
   "metadata": {},
   "source": [
    "Nonnegative matrix factorization (NMF) has become a widely used tool for the analysis of high dimensional data as it automatically extracts sparse and meaningful features from a set of nonnegative data vectors."
   ]
  },
  {
   "cell_type": "markdown",
   "metadata": {},
   "source": [
    "## What is NMF?\n",
    "NMF approximates a matrix $\\mathbf{X}$ with a low-rank matrix approximation such that $\\mathbf{X} \\approx \\mathbf{WH}$.\n",
    "We’ll assume that $\\mathbf{X}$ is set up so that there are n data points each with p dimensions, and every column of $\\mathbf{X}$ is a data point, i.e. $\\mathbf{X} \\in \\mathbb{R}^{p \\times n}$."
   ]
  },
  {
   "cell_type": "markdown",
   "metadata": {},
   "source": [
    "![alt text](img.png \"Title\")"
   ]
  },
  {
   "cell_type": "code",
   "execution_count": 18,
   "metadata": {},
   "outputs": [],
   "source": [
    "text_vectors_T = text_vectors.T"
   ]
  },
  {
   "cell_type": "code",
   "execution_count": 19,
   "metadata": {},
   "outputs": [
    {
     "data": {
      "text/plain": [
       "(4597, 100)"
      ]
     },
     "execution_count": 19,
     "metadata": {},
     "output_type": "execute_result"
    }
   ],
   "source": [
    "text_vectors_T.shape"
   ]
  },
  {
   "cell_type": "markdown",
   "metadata": {},
   "source": [
    "### Clustering property"
   ]
  },
  {
   "cell_type": "markdown",
   "metadata": {},
   "source": [
    "NMF has an inherent clustering property,[14] i.e., it automatically clusters the columns of input data ${\\displaystyle \\mathbf {V} =(v_{1},\\cdots ,v_{n})}$\n",
    "\n",
    "More specifically, the approximation of $\\mathbf {V}$  by $\\mathbf {V} \\simeq \\mathbf {W} \\mathbf {H}$  is achieved by finding $W$ and $H$ that minimize the error function\n",
    "\n",
    "${\\displaystyle ||V-WH||_{F},}$ subject to $W\\geq 0,H\\geq 0.$\n",
    "\n",
    "\n",
    "Furthermore, the computed $H$ gives the cluster membership, i.e., if $\\mathbf {H} _{ij} > \\mathbf {H} _{ij}$ for all i ≠ k, this suggests that the input data $v_{j}$ belongs to $k^{{th}}$ cluster. The computed $W$ gives the cluster centroids, i.e., the $k^{{th}}$ column gives the cluster centroid of $k^{{th}}$ cluster. This centroid's representation can be significantly enhanced by convex NMF."
   ]
  },
  {
   "cell_type": "code",
   "execution_count": 20,
   "metadata": {},
   "outputs": [],
   "source": [
    "def clustering_NMF(H):\n",
    "    l,c = H.shape\n",
    "    labels_NMF = []\n",
    "    for index in range(c):\n",
    "\n",
    "        col = H[:,index]\n",
    "\n",
    "        cluster = np.argmax(col)\n",
    "\n",
    "        labels_NMF.append(cluster)\n",
    "    \n",
    "    return labels_NMF"
   ]
  },
  {
   "cell_type": "markdown",
   "metadata": {},
   "source": [
    "### Testing Clustering property"
   ]
  },
  {
   "cell_type": "markdown",
   "metadata": {},
   "source": [
    "### Loss function frobenius"
   ]
  },
  {
   "cell_type": "code",
   "execution_count": 21,
   "metadata": {},
   "outputs": [],
   "source": [
    "model = NMF(n_components=4, init='random', random_state=0,beta_loss=\"frobenius\",solver=\"mu\")\n",
    "W = model.fit_transform(text_vectors_T)\n",
    "H = model.components_"
   ]
  },
  {
   "cell_type": "code",
   "execution_count": 22,
   "metadata": {},
   "outputs": [],
   "source": [
    "labels_NMF = clustering_NMF(H)"
   ]
  },
  {
   "cell_type": "code",
   "execution_count": 23,
   "metadata": {},
   "outputs": [],
   "source": [
    "labels_NMF_cat = [ map_tags[lab] for lab in labels_NMF ]"
   ]
  },
  {
   "cell_type": "code",
   "execution_count": 24,
   "metadata": {},
   "outputs": [],
   "source": [
    "d = {'x':X_transform[:,0],'y':X_transform[:,1], 'z': X_transform[:,2],'Score':labels_NMF_cat}\n",
    "df = pd.DataFrame(d)"
   ]
  },
  {
   "cell_type": "code",
   "execution_count": 25,
   "metadata": {},
   "outputs": [
    {
     "data": {
      "text/plain": [
       "0.20379855276138167"
      ]
     },
     "execution_count": 25,
     "metadata": {},
     "output_type": "execute_result"
    }
   ],
   "source": [
    "homogeneity_score(data_class,labels_NMF)"
   ]
  },
  {
   "cell_type": "code",
   "execution_count": 26,
   "metadata": {},
   "outputs": [
    {
     "data": {
      "application/vnd.plotly.v1+json": {
       "config": {
        "plotlyServerURL": "https://plot.ly"
       },
       "data": [
        {
         "hoverlabel": {
          "namelength": 0
         },
         "hovertemplate": "Score=baseball<br>x=%{x}<br>y=%{y}<br>z=%{z}",
         "legendgroup": "Score=baseball",
         "marker": {
          "color": "#636efa",
          "symbol": "circle"
         },
         "mode": "markers",
         "name": "Score=baseball",
         "scene": "scene",
         "showlegend": true,
         "type": "scatter3d",
         "x": [
          -211.18629455566406,
          -5.669851303100586,
          115.1004638671875,
          -73.01152038574219,
          84.33438873291016,
          -105.13690185546875,
          18.856325149536133,
          42.135292053222656,
          -172.87249755859375,
          36.425628662109375,
          -81.437255859375,
          115.2301025390625,
          -33.88813400268555,
          -44.34512710571289,
          46.501312255859375,
          91.12478637695312,
          168.26028442382812,
          -14.804673194885254,
          -12.641326904296875,
          -127.29474639892578,
          -13.257498741149902,
          -83.3620834350586,
          61.590187072753906,
          59.71397018432617,
          -133.2787628173828,
          1.2288986444473267,
          -28.22417640686035,
          -108.36487579345703,
          -213.0950927734375,
          -128.8480987548828,
          5.654056549072266,
          -57.235408782958984,
          66.42610931396484,
          102.83965301513672,
          52.44514465332031,
          -112.22187042236328,
          54.14984893798828,
          66.01126098632812,
          74.23123931884766,
          40.65383529663086,
          105.24098205566406,
          106.24523162841797,
          -15.44699764251709,
          -137.8595733642578,
          -172.30809020996094,
          21.64377212524414,
          287.6274719238281,
          -36.14993667602539,
          -142.0059814453125,
          -174.0811004638672,
          153.87692260742188,
          190.13441467285156,
          -99.64364624023438,
          -54.53240203857422,
          -76.7277603149414,
          -142.65013122558594,
          -55.784820556640625,
          35.945892333984375,
          38.64990234375,
          129.80665588378906,
          150.5460662841797,
          -34.070865631103516,
          -39.942867279052734,
          -67.8034896850586,
          -128.4916229248047,
          43.8409538269043,
          -172.95484924316406,
          -9.4734525680542,
          -88.53948211669922,
          -218.13580322265625,
          -25.527591705322266,
          -72.184326171875,
          17.00324821472168
         ],
         "y": [
          -36.503456115722656,
          -79.23304748535156,
          121.72286224365234,
          -33.2686653137207,
          -26.44825553894043,
          144.82302856445312,
          73.29215240478516,
          109.9831771850586,
          143.86785888671875,
          -22.377511978149414,
          107.70092010498047,
          150.00343322753906,
          -187.7425537109375,
          153.9035186767578,
          69.64769744873047,
          -49.41621780395508,
          17.787899017333984,
          -93.30252838134766,
          174.3474578857422,
          -105.69169616699219,
          2.1246681213378906,
          -78.76490020751953,
          93.38432312011719,
          -84.36381530761719,
          -8.21381950378418,
          162.09555053710938,
          19.507205963134766,
          -112.72904968261719,
          -77.87092590332031,
          -150.76174926757812,
          -5.67006254196167,
          60.94538879394531,
          -174.29139709472656,
          -21.249122619628906,
          54.4898681640625,
          68.65065002441406,
          -158.0765380859375,
          -86.83314514160156,
          45.35150909423828,
          -27.363426208496094,
          6.54671573638916,
          -400.1124572753906,
          -175.16830444335938,
          25.337432861328125,
          97.9723892211914,
          -31.966205596923828,
          27.157976150512695,
          -89.37010955810547,
          -31.444196701049805,
          -34.575443267822266,
          60.5906867980957,
          -31.134790420532227,
          56.6246452331543,
          68.5989990234375,
          -17.00618553161621,
          -154.231201171875,
          -141.84849548339844,
          -237.10067749023438,
          -105.14952087402344,
          -97.17379760742188,
          -22.607995986938477,
          -33.25094985961914,
          82.1317138671875,
          -96.7105484008789,
          34.100643157958984,
          123.24131774902344,
          57.49303436279297,
          -91.90179443359375,
          151.40428161621094,
          46.79135513305664,
          168.14569091796875,
          48.828617095947266,
          -192.77398681640625
         ],
         "z": [
          -57.14572525024414,
          -65.9995346069336,
          73.9854965209961,
          -113.647216796875,
          194.47299194335938,
          138.0160675048828,
          48.4498405456543,
          -181.2642822265625,
          5.821041107177734,
          -123.76742553710938,
          -114.86664581298828,
          -115.5044937133789,
          -102.86780548095703,
          -15.048643112182617,
          131.5654296875,
          85.24334716796875,
          76.3600845336914,
          -138.09478759765625,
          -82.70225524902344,
          116.93952178955078,
          209.59170532226562,
          36.418025970458984,
          -109.09081268310547,
          11.09903335571289,
          23.327239990234375,
          49.43086242675781,
          33.13766098022461,
          -163.54525756835938,
          33.631465911865234,
          -61.73273468017578,
          122.7402572631836,
          102.34228515625,
          10.073101997375488,
          2.4322571754455566,
          -52.411865234375,
          34.18685531616211,
          -115.18627166748047,
          -196.31626892089844,
          13.487051010131836,
          -30.15155792236328,
          -165.9141387939453,
          -345.3110656738281,
          33.056331634521484,
          -50.49159622192383,
          -90.66150665283203,
          55.73847961425781,
          -90.3773193359375,
          111.92030334472656,
          91.42735290527344,
          158.10809326171875,
          17.17456817626953,
          -145.89894104003906,
          195.46510314941406,
          -205.9807586669922,
          144.61073303222656,
          36.852169036865234,
          -28.55721092224121,
          -45.37283706665039,
          179.4573974609375,
          23.216144561767578,
          10.985280990600586,
          -207.19143676757812,
          -20.803627014160156,
          201.85528564453125,
          -166.99200439453125,
          -7.032626152038574,
          114.12225341796875,
          11.960443496704102,
          53.95323181152344,
          4.2115797996521,
          -165.65353393554688,
          -84.88672637939453,
          127.91851043701172
         ]
        },
        {
         "hoverlabel": {
          "namelength": 0
         },
         "hovertemplate": "Score=religion<br>x=%{x}<br>y=%{y}<br>z=%{z}",
         "legendgroup": "Score=religion",
         "marker": {
          "color": "#EF553B",
          "symbol": "circle"
         },
         "mode": "markers",
         "name": "Score=religion",
         "scene": "scene",
         "showlegend": true,
         "type": "scatter3d",
         "x": [
          211.3543243408203,
          104.7892837524414,
          45.84648513793945,
          -58.526309967041016,
          -5.797163009643555,
          57.2690544128418,
          210.42764282226562,
          30.11127281188965,
          87.03118896484375,
          90.65320587158203,
          143.1126251220703,
          145.42813110351562,
          93.96272277832031,
          189.91998291015625,
          155.20867919921875,
          -2.7620737552642822,
          65.20568084716797,
          125.6368637084961,
          -69.43107604980469,
          -114.09988403320312,
          -173.95571899414062,
          -9.544903755187988,
          172.0355224609375,
          184.5294952392578
         ],
         "y": [
          66.46749877929688,
          1.2626932859420776,
          172.71591186523438,
          -16.017642974853516,
          64.33419799804688,
          -119.80317687988281,
          -97.7162094116211,
          28.795873641967773,
          -94.04501342773438,
          26.261920928955078,
          -169.2066650390625,
          -103.8159408569336,
          202.4381866455078,
          -73.62332916259766,
          72.28487396240234,
          16.376951217651367,
          180.99119567871094,
          101.79720306396484,
          -168.04678344726562,
          182.93931579589844,
          -39.75714874267578,
          111.36300659179688,
          -15.286863327026367,
          154.7087860107422
         ],
         "z": [
          -58.61452102661133,
          -80.65238952636719,
          124.41844177246094,
          -24.00161361694336,
          -119.38156127929688,
          84.12176513671875,
          -32.16305923461914,
          -204.7235565185547,
          -70.50713348388672,
          84.39989471435547,
          -46.02469253540039,
          -129.56234741210938,
          26.536827087402344,
          99.5535659790039,
          -137.27877807617188,
          -56.61621856689453,
          -57.89923858642578,
          -44.11113739013672,
          97.60969543457031,
          -70.8231430053711,
          -142.59217834472656,
          179.34117126464844,
          -58.93461608886719,
          -2.9091439247131348
         ]
        },
        {
         "hoverlabel": {
          "namelength": 0
         },
         "hovertemplate": "Score=space<br>x=%{x}<br>y=%{y}<br>z=%{z}",
         "legendgroup": "Score=space",
         "marker": {
          "color": "#00cc96",
          "symbol": "circle"
         },
         "mode": "markers",
         "name": "Score=space",
         "scene": "scene",
         "showlegend": true,
         "type": "scatter3d",
         "x": [
          -125.5356674194336
         ],
         "y": [
          -71.28944396972656
         ],
         "z": [
          -42.85276412963867
         ]
        },
        {
         "hoverlabel": {
          "namelength": 0
         },
         "hovertemplate": "Score=hardware<br>x=%{x}<br>y=%{y}<br>z=%{z}",
         "legendgroup": "Score=hardware",
         "marker": {
          "color": "#ab63fa",
          "symbol": "circle"
         },
         "mode": "markers",
         "name": "Score=hardware",
         "scene": "scene",
         "showlegend": true,
         "type": "scatter3d",
         "x": [
          129.3861541748047,
          146.01858520507812
         ],
         "y": [
          93.27117919921875,
          29.6162052154541
         ],
         "z": [
          172.73622131347656,
          159.19068908691406
         ]
        }
       ],
       "layout": {
        "height": 600,
        "legend": {
         "tracegroupgap": 0
        },
        "margin": {
         "t": 60
        },
        "scene": {
         "domain": {
          "x": [
           0,
           0.98
          ],
          "y": [
           0,
           1
          ]
         },
         "xaxis": {
          "title": {
           "text": "x"
          }
         },
         "yaxis": {
          "title": {
           "text": "y"
          }
         },
         "zaxis": {
          "title": {
           "text": "z"
          }
         }
        },
        "template": {
         "data": {
          "bar": [
           {
            "error_x": {
             "color": "#2a3f5f"
            },
            "error_y": {
             "color": "#2a3f5f"
            },
            "marker": {
             "line": {
              "color": "#E5ECF6",
              "width": 0.5
             }
            },
            "type": "bar"
           }
          ],
          "barpolar": [
           {
            "marker": {
             "line": {
              "color": "#E5ECF6",
              "width": 0.5
             }
            },
            "type": "barpolar"
           }
          ],
          "carpet": [
           {
            "aaxis": {
             "endlinecolor": "#2a3f5f",
             "gridcolor": "white",
             "linecolor": "white",
             "minorgridcolor": "white",
             "startlinecolor": "#2a3f5f"
            },
            "baxis": {
             "endlinecolor": "#2a3f5f",
             "gridcolor": "white",
             "linecolor": "white",
             "minorgridcolor": "white",
             "startlinecolor": "#2a3f5f"
            },
            "type": "carpet"
           }
          ],
          "choropleth": [
           {
            "colorbar": {
             "outlinewidth": 0,
             "ticks": ""
            },
            "type": "choropleth"
           }
          ],
          "contour": [
           {
            "colorbar": {
             "outlinewidth": 0,
             "ticks": ""
            },
            "colorscale": [
             [
              0,
              "#0d0887"
             ],
             [
              0.1111111111111111,
              "#46039f"
             ],
             [
              0.2222222222222222,
              "#7201a8"
             ],
             [
              0.3333333333333333,
              "#9c179e"
             ],
             [
              0.4444444444444444,
              "#bd3786"
             ],
             [
              0.5555555555555556,
              "#d8576b"
             ],
             [
              0.6666666666666666,
              "#ed7953"
             ],
             [
              0.7777777777777778,
              "#fb9f3a"
             ],
             [
              0.8888888888888888,
              "#fdca26"
             ],
             [
              1,
              "#f0f921"
             ]
            ],
            "type": "contour"
           }
          ],
          "contourcarpet": [
           {
            "colorbar": {
             "outlinewidth": 0,
             "ticks": ""
            },
            "type": "contourcarpet"
           }
          ],
          "heatmap": [
           {
            "colorbar": {
             "outlinewidth": 0,
             "ticks": ""
            },
            "colorscale": [
             [
              0,
              "#0d0887"
             ],
             [
              0.1111111111111111,
              "#46039f"
             ],
             [
              0.2222222222222222,
              "#7201a8"
             ],
             [
              0.3333333333333333,
              "#9c179e"
             ],
             [
              0.4444444444444444,
              "#bd3786"
             ],
             [
              0.5555555555555556,
              "#d8576b"
             ],
             [
              0.6666666666666666,
              "#ed7953"
             ],
             [
              0.7777777777777778,
              "#fb9f3a"
             ],
             [
              0.8888888888888888,
              "#fdca26"
             ],
             [
              1,
              "#f0f921"
             ]
            ],
            "type": "heatmap"
           }
          ],
          "heatmapgl": [
           {
            "colorbar": {
             "outlinewidth": 0,
             "ticks": ""
            },
            "colorscale": [
             [
              0,
              "#0d0887"
             ],
             [
              0.1111111111111111,
              "#46039f"
             ],
             [
              0.2222222222222222,
              "#7201a8"
             ],
             [
              0.3333333333333333,
              "#9c179e"
             ],
             [
              0.4444444444444444,
              "#bd3786"
             ],
             [
              0.5555555555555556,
              "#d8576b"
             ],
             [
              0.6666666666666666,
              "#ed7953"
             ],
             [
              0.7777777777777778,
              "#fb9f3a"
             ],
             [
              0.8888888888888888,
              "#fdca26"
             ],
             [
              1,
              "#f0f921"
             ]
            ],
            "type": "heatmapgl"
           }
          ],
          "histogram": [
           {
            "marker": {
             "colorbar": {
              "outlinewidth": 0,
              "ticks": ""
             }
            },
            "type": "histogram"
           }
          ],
          "histogram2d": [
           {
            "colorbar": {
             "outlinewidth": 0,
             "ticks": ""
            },
            "colorscale": [
             [
              0,
              "#0d0887"
             ],
             [
              0.1111111111111111,
              "#46039f"
             ],
             [
              0.2222222222222222,
              "#7201a8"
             ],
             [
              0.3333333333333333,
              "#9c179e"
             ],
             [
              0.4444444444444444,
              "#bd3786"
             ],
             [
              0.5555555555555556,
              "#d8576b"
             ],
             [
              0.6666666666666666,
              "#ed7953"
             ],
             [
              0.7777777777777778,
              "#fb9f3a"
             ],
             [
              0.8888888888888888,
              "#fdca26"
             ],
             [
              1,
              "#f0f921"
             ]
            ],
            "type": "histogram2d"
           }
          ],
          "histogram2dcontour": [
           {
            "colorbar": {
             "outlinewidth": 0,
             "ticks": ""
            },
            "colorscale": [
             [
              0,
              "#0d0887"
             ],
             [
              0.1111111111111111,
              "#46039f"
             ],
             [
              0.2222222222222222,
              "#7201a8"
             ],
             [
              0.3333333333333333,
              "#9c179e"
             ],
             [
              0.4444444444444444,
              "#bd3786"
             ],
             [
              0.5555555555555556,
              "#d8576b"
             ],
             [
              0.6666666666666666,
              "#ed7953"
             ],
             [
              0.7777777777777778,
              "#fb9f3a"
             ],
             [
              0.8888888888888888,
              "#fdca26"
             ],
             [
              1,
              "#f0f921"
             ]
            ],
            "type": "histogram2dcontour"
           }
          ],
          "mesh3d": [
           {
            "colorbar": {
             "outlinewidth": 0,
             "ticks": ""
            },
            "type": "mesh3d"
           }
          ],
          "parcoords": [
           {
            "line": {
             "colorbar": {
              "outlinewidth": 0,
              "ticks": ""
             }
            },
            "type": "parcoords"
           }
          ],
          "scatter": [
           {
            "marker": {
             "colorbar": {
              "outlinewidth": 0,
              "ticks": ""
             }
            },
            "type": "scatter"
           }
          ],
          "scatter3d": [
           {
            "line": {
             "colorbar": {
              "outlinewidth": 0,
              "ticks": ""
             }
            },
            "marker": {
             "colorbar": {
              "outlinewidth": 0,
              "ticks": ""
             }
            },
            "type": "scatter3d"
           }
          ],
          "scattercarpet": [
           {
            "marker": {
             "colorbar": {
              "outlinewidth": 0,
              "ticks": ""
             }
            },
            "type": "scattercarpet"
           }
          ],
          "scattergeo": [
           {
            "marker": {
             "colorbar": {
              "outlinewidth": 0,
              "ticks": ""
             }
            },
            "type": "scattergeo"
           }
          ],
          "scattergl": [
           {
            "marker": {
             "colorbar": {
              "outlinewidth": 0,
              "ticks": ""
             }
            },
            "type": "scattergl"
           }
          ],
          "scattermapbox": [
           {
            "marker": {
             "colorbar": {
              "outlinewidth": 0,
              "ticks": ""
             }
            },
            "type": "scattermapbox"
           }
          ],
          "scatterpolar": [
           {
            "marker": {
             "colorbar": {
              "outlinewidth": 0,
              "ticks": ""
             }
            },
            "type": "scatterpolar"
           }
          ],
          "scatterpolargl": [
           {
            "marker": {
             "colorbar": {
              "outlinewidth": 0,
              "ticks": ""
             }
            },
            "type": "scatterpolargl"
           }
          ],
          "scatterternary": [
           {
            "marker": {
             "colorbar": {
              "outlinewidth": 0,
              "ticks": ""
             }
            },
            "type": "scatterternary"
           }
          ],
          "surface": [
           {
            "colorbar": {
             "outlinewidth": 0,
             "ticks": ""
            },
            "colorscale": [
             [
              0,
              "#0d0887"
             ],
             [
              0.1111111111111111,
              "#46039f"
             ],
             [
              0.2222222222222222,
              "#7201a8"
             ],
             [
              0.3333333333333333,
              "#9c179e"
             ],
             [
              0.4444444444444444,
              "#bd3786"
             ],
             [
              0.5555555555555556,
              "#d8576b"
             ],
             [
              0.6666666666666666,
              "#ed7953"
             ],
             [
              0.7777777777777778,
              "#fb9f3a"
             ],
             [
              0.8888888888888888,
              "#fdca26"
             ],
             [
              1,
              "#f0f921"
             ]
            ],
            "type": "surface"
           }
          ],
          "table": [
           {
            "cells": {
             "fill": {
              "color": "#EBF0F8"
             },
             "line": {
              "color": "white"
             }
            },
            "header": {
             "fill": {
              "color": "#C8D4E3"
             },
             "line": {
              "color": "white"
             }
            },
            "type": "table"
           }
          ]
         },
         "layout": {
          "annotationdefaults": {
           "arrowcolor": "#2a3f5f",
           "arrowhead": 0,
           "arrowwidth": 1
          },
          "colorscale": {
           "diverging": [
            [
             0,
             "#8e0152"
            ],
            [
             0.1,
             "#c51b7d"
            ],
            [
             0.2,
             "#de77ae"
            ],
            [
             0.3,
             "#f1b6da"
            ],
            [
             0.4,
             "#fde0ef"
            ],
            [
             0.5,
             "#f7f7f7"
            ],
            [
             0.6,
             "#e6f5d0"
            ],
            [
             0.7,
             "#b8e186"
            ],
            [
             0.8,
             "#7fbc41"
            ],
            [
             0.9,
             "#4d9221"
            ],
            [
             1,
             "#276419"
            ]
           ],
           "sequential": [
            [
             0,
             "#0d0887"
            ],
            [
             0.1111111111111111,
             "#46039f"
            ],
            [
             0.2222222222222222,
             "#7201a8"
            ],
            [
             0.3333333333333333,
             "#9c179e"
            ],
            [
             0.4444444444444444,
             "#bd3786"
            ],
            [
             0.5555555555555556,
             "#d8576b"
            ],
            [
             0.6666666666666666,
             "#ed7953"
            ],
            [
             0.7777777777777778,
             "#fb9f3a"
            ],
            [
             0.8888888888888888,
             "#fdca26"
            ],
            [
             1,
             "#f0f921"
            ]
           ],
           "sequentialminus": [
            [
             0,
             "#0d0887"
            ],
            [
             0.1111111111111111,
             "#46039f"
            ],
            [
             0.2222222222222222,
             "#7201a8"
            ],
            [
             0.3333333333333333,
             "#9c179e"
            ],
            [
             0.4444444444444444,
             "#bd3786"
            ],
            [
             0.5555555555555556,
             "#d8576b"
            ],
            [
             0.6666666666666666,
             "#ed7953"
            ],
            [
             0.7777777777777778,
             "#fb9f3a"
            ],
            [
             0.8888888888888888,
             "#fdca26"
            ],
            [
             1,
             "#f0f921"
            ]
           ]
          },
          "colorway": [
           "#636efa",
           "#EF553B",
           "#00cc96",
           "#ab63fa",
           "#FFA15A",
           "#19d3f3",
           "#FF6692",
           "#B6E880",
           "#FF97FF",
           "#FECB52"
          ],
          "font": {
           "color": "#2a3f5f"
          },
          "geo": {
           "bgcolor": "white",
           "lakecolor": "white",
           "landcolor": "#E5ECF6",
           "showlakes": true,
           "showland": true,
           "subunitcolor": "white"
          },
          "hoverlabel": {
           "align": "left"
          },
          "hovermode": "closest",
          "mapbox": {
           "style": "light"
          },
          "paper_bgcolor": "white",
          "plot_bgcolor": "#E5ECF6",
          "polar": {
           "angularaxis": {
            "gridcolor": "white",
            "linecolor": "white",
            "ticks": ""
           },
           "bgcolor": "#E5ECF6",
           "radialaxis": {
            "gridcolor": "white",
            "linecolor": "white",
            "ticks": ""
           }
          },
          "scene": {
           "xaxis": {
            "backgroundcolor": "#E5ECF6",
            "gridcolor": "white",
            "gridwidth": 2,
            "linecolor": "white",
            "showbackground": true,
            "ticks": "",
            "zerolinecolor": "white"
           },
           "yaxis": {
            "backgroundcolor": "#E5ECF6",
            "gridcolor": "white",
            "gridwidth": 2,
            "linecolor": "white",
            "showbackground": true,
            "ticks": "",
            "zerolinecolor": "white"
           },
           "zaxis": {
            "backgroundcolor": "#E5ECF6",
            "gridcolor": "white",
            "gridwidth": 2,
            "linecolor": "white",
            "showbackground": true,
            "ticks": "",
            "zerolinecolor": "white"
           }
          },
          "shapedefaults": {
           "line": {
            "color": "#2a3f5f"
           }
          },
          "ternary": {
           "aaxis": {
            "gridcolor": "white",
            "linecolor": "white",
            "ticks": ""
           },
           "baxis": {
            "gridcolor": "white",
            "linecolor": "white",
            "ticks": ""
           },
           "bgcolor": "#E5ECF6",
           "caxis": {
            "gridcolor": "white",
            "linecolor": "white",
            "ticks": ""
           }
          },
          "title": {
           "x": 0.05
          },
          "xaxis": {
           "automargin": true,
           "gridcolor": "white",
           "linecolor": "white",
           "ticks": "",
           "zerolinecolor": "white",
           "zerolinewidth": 2
          },
          "yaxis": {
           "automargin": true,
           "gridcolor": "white",
           "linecolor": "white",
           "ticks": "",
           "zerolinecolor": "white",
           "zerolinewidth": 2
          }
         }
        }
       }
      },
      "text/html": [
       "<div>\n",
       "        \n",
       "        \n",
       "            <div id=\"9a200155-b024-4db2-b07e-a5d7c566fc6c\" class=\"plotly-graph-div\" style=\"height:600px; width:100%;\"></div>\n",
       "            <script type=\"text/javascript\">\n",
       "                require([\"plotly\"], function(Plotly) {\n",
       "                    window.PLOTLYENV=window.PLOTLYENV || {};\n",
       "                    \n",
       "                if (document.getElementById(\"9a200155-b024-4db2-b07e-a5d7c566fc6c\")) {\n",
       "                    Plotly.newPlot(\n",
       "                        '9a200155-b024-4db2-b07e-a5d7c566fc6c',\n",
       "                        [{\"hoverlabel\": {\"namelength\": 0}, \"hovertemplate\": \"Score=baseball<br>x=%{x}<br>y=%{y}<br>z=%{z}\", \"legendgroup\": \"Score=baseball\", \"marker\": {\"color\": \"#636efa\", \"symbol\": \"circle\"}, \"mode\": \"markers\", \"name\": \"Score=baseball\", \"scene\": \"scene\", \"showlegend\": true, \"type\": \"scatter3d\", \"x\": [-211.18629455566406, -5.669851303100586, 115.1004638671875, -73.01152038574219, 84.33438873291016, -105.13690185546875, 18.856325149536133, 42.135292053222656, -172.87249755859375, 36.425628662109375, -81.437255859375, 115.2301025390625, -33.88813400268555, -44.34512710571289, 46.501312255859375, 91.12478637695312, 168.26028442382812, -14.804673194885254, -12.641326904296875, -127.29474639892578, -13.257498741149902, -83.3620834350586, 61.590187072753906, 59.71397018432617, -133.2787628173828, 1.2288986444473267, -28.22417640686035, -108.36487579345703, -213.0950927734375, -128.8480987548828, 5.654056549072266, -57.235408782958984, 66.42610931396484, 102.83965301513672, 52.44514465332031, -112.22187042236328, 54.14984893798828, 66.01126098632812, 74.23123931884766, 40.65383529663086, 105.24098205566406, 106.24523162841797, -15.44699764251709, -137.8595733642578, -172.30809020996094, 21.64377212524414, 287.6274719238281, -36.14993667602539, -142.0059814453125, -174.0811004638672, 153.87692260742188, 190.13441467285156, -99.64364624023438, -54.53240203857422, -76.7277603149414, -142.65013122558594, -55.784820556640625, 35.945892333984375, 38.64990234375, 129.80665588378906, 150.5460662841797, -34.070865631103516, -39.942867279052734, -67.8034896850586, -128.4916229248047, 43.8409538269043, -172.95484924316406, -9.4734525680542, -88.53948211669922, -218.13580322265625, -25.527591705322266, -72.184326171875, 17.00324821472168], \"y\": [-36.503456115722656, -79.23304748535156, 121.72286224365234, -33.2686653137207, -26.44825553894043, 144.82302856445312, 73.29215240478516, 109.9831771850586, 143.86785888671875, -22.377511978149414, 107.70092010498047, 150.00343322753906, -187.7425537109375, 153.9035186767578, 69.64769744873047, -49.41621780395508, 17.787899017333984, -93.30252838134766, 174.3474578857422, -105.69169616699219, 2.1246681213378906, -78.76490020751953, 93.38432312011719, -84.36381530761719, -8.21381950378418, 162.09555053710938, 19.507205963134766, -112.72904968261719, -77.87092590332031, -150.76174926757812, -5.67006254196167, 60.94538879394531, -174.29139709472656, -21.249122619628906, 54.4898681640625, 68.65065002441406, -158.0765380859375, -86.83314514160156, 45.35150909423828, -27.363426208496094, 6.54671573638916, -400.1124572753906, -175.16830444335938, 25.337432861328125, 97.9723892211914, -31.966205596923828, 27.157976150512695, -89.37010955810547, -31.444196701049805, -34.575443267822266, 60.5906867980957, -31.134790420532227, 56.6246452331543, 68.5989990234375, -17.00618553161621, -154.231201171875, -141.84849548339844, -237.10067749023438, -105.14952087402344, -97.17379760742188, -22.607995986938477, -33.25094985961914, 82.1317138671875, -96.7105484008789, 34.100643157958984, 123.24131774902344, 57.49303436279297, -91.90179443359375, 151.40428161621094, 46.79135513305664, 168.14569091796875, 48.828617095947266, -192.77398681640625], \"z\": [-57.14572525024414, -65.9995346069336, 73.9854965209961, -113.647216796875, 194.47299194335938, 138.0160675048828, 48.4498405456543, -181.2642822265625, 5.821041107177734, -123.76742553710938, -114.86664581298828, -115.5044937133789, -102.86780548095703, -15.048643112182617, 131.5654296875, 85.24334716796875, 76.3600845336914, -138.09478759765625, -82.70225524902344, 116.93952178955078, 209.59170532226562, 36.418025970458984, -109.09081268310547, 11.09903335571289, 23.327239990234375, 49.43086242675781, 33.13766098022461, -163.54525756835938, 33.631465911865234, -61.73273468017578, 122.7402572631836, 102.34228515625, 10.073101997375488, 2.4322571754455566, -52.411865234375, 34.18685531616211, -115.18627166748047, -196.31626892089844, 13.487051010131836, -30.15155792236328, -165.9141387939453, -345.3110656738281, 33.056331634521484, -50.49159622192383, -90.66150665283203, 55.73847961425781, -90.3773193359375, 111.92030334472656, 91.42735290527344, 158.10809326171875, 17.17456817626953, -145.89894104003906, 195.46510314941406, -205.9807586669922, 144.61073303222656, 36.852169036865234, -28.55721092224121, -45.37283706665039, 179.4573974609375, 23.216144561767578, 10.985280990600586, -207.19143676757812, -20.803627014160156, 201.85528564453125, -166.99200439453125, -7.032626152038574, 114.12225341796875, 11.960443496704102, 53.95323181152344, 4.2115797996521, -165.65353393554688, -84.88672637939453, 127.91851043701172]}, {\"hoverlabel\": {\"namelength\": 0}, \"hovertemplate\": \"Score=religion<br>x=%{x}<br>y=%{y}<br>z=%{z}\", \"legendgroup\": \"Score=religion\", \"marker\": {\"color\": \"#EF553B\", \"symbol\": \"circle\"}, \"mode\": \"markers\", \"name\": \"Score=religion\", \"scene\": \"scene\", \"showlegend\": true, \"type\": \"scatter3d\", \"x\": [211.3543243408203, 104.7892837524414, 45.84648513793945, -58.526309967041016, -5.797163009643555, 57.2690544128418, 210.42764282226562, 30.11127281188965, 87.03118896484375, 90.65320587158203, 143.1126251220703, 145.42813110351562, 93.96272277832031, 189.91998291015625, 155.20867919921875, -2.7620737552642822, 65.20568084716797, 125.6368637084961, -69.43107604980469, -114.09988403320312, -173.95571899414062, -9.544903755187988, 172.0355224609375, 184.5294952392578], \"y\": [66.46749877929688, 1.2626932859420776, 172.71591186523438, -16.017642974853516, 64.33419799804688, -119.80317687988281, -97.7162094116211, 28.795873641967773, -94.04501342773438, 26.261920928955078, -169.2066650390625, -103.8159408569336, 202.4381866455078, -73.62332916259766, 72.28487396240234, 16.376951217651367, 180.99119567871094, 101.79720306396484, -168.04678344726562, 182.93931579589844, -39.75714874267578, 111.36300659179688, -15.286863327026367, 154.7087860107422], \"z\": [-58.61452102661133, -80.65238952636719, 124.41844177246094, -24.00161361694336, -119.38156127929688, 84.12176513671875, -32.16305923461914, -204.7235565185547, -70.50713348388672, 84.39989471435547, -46.02469253540039, -129.56234741210938, 26.536827087402344, 99.5535659790039, -137.27877807617188, -56.61621856689453, -57.89923858642578, -44.11113739013672, 97.60969543457031, -70.8231430053711, -142.59217834472656, 179.34117126464844, -58.93461608886719, -2.9091439247131348]}, {\"hoverlabel\": {\"namelength\": 0}, \"hovertemplate\": \"Score=space<br>x=%{x}<br>y=%{y}<br>z=%{z}\", \"legendgroup\": \"Score=space\", \"marker\": {\"color\": \"#00cc96\", \"symbol\": \"circle\"}, \"mode\": \"markers\", \"name\": \"Score=space\", \"scene\": \"scene\", \"showlegend\": true, \"type\": \"scatter3d\", \"x\": [-125.5356674194336], \"y\": [-71.28944396972656], \"z\": [-42.85276412963867]}, {\"hoverlabel\": {\"namelength\": 0}, \"hovertemplate\": \"Score=hardware<br>x=%{x}<br>y=%{y}<br>z=%{z}\", \"legendgroup\": \"Score=hardware\", \"marker\": {\"color\": \"#ab63fa\", \"symbol\": \"circle\"}, \"mode\": \"markers\", \"name\": \"Score=hardware\", \"scene\": \"scene\", \"showlegend\": true, \"type\": \"scatter3d\", \"x\": [129.3861541748047, 146.01858520507812], \"y\": [93.27117919921875, 29.6162052154541], \"z\": [172.73622131347656, 159.19068908691406]}],\n",
       "                        {\"height\": 600, \"legend\": {\"tracegroupgap\": 0}, \"margin\": {\"t\": 60}, \"scene\": {\"domain\": {\"x\": [0.0, 0.98], \"y\": [0.0, 1.0]}, \"xaxis\": {\"title\": {\"text\": \"x\"}}, \"yaxis\": {\"title\": {\"text\": \"y\"}}, \"zaxis\": {\"title\": {\"text\": \"z\"}}}, \"template\": {\"data\": {\"bar\": [{\"error_x\": {\"color\": \"#2a3f5f\"}, \"error_y\": {\"color\": \"#2a3f5f\"}, \"marker\": {\"line\": {\"color\": \"#E5ECF6\", \"width\": 0.5}}, \"type\": \"bar\"}], \"barpolar\": [{\"marker\": {\"line\": {\"color\": \"#E5ECF6\", \"width\": 0.5}}, \"type\": \"barpolar\"}], \"carpet\": [{\"aaxis\": {\"endlinecolor\": \"#2a3f5f\", \"gridcolor\": \"white\", \"linecolor\": \"white\", \"minorgridcolor\": \"white\", \"startlinecolor\": \"#2a3f5f\"}, \"baxis\": {\"endlinecolor\": \"#2a3f5f\", \"gridcolor\": \"white\", \"linecolor\": \"white\", \"minorgridcolor\": \"white\", \"startlinecolor\": \"#2a3f5f\"}, \"type\": \"carpet\"}], \"choropleth\": [{\"colorbar\": {\"outlinewidth\": 0, \"ticks\": \"\"}, \"type\": \"choropleth\"}], \"contour\": [{\"colorbar\": {\"outlinewidth\": 0, \"ticks\": \"\"}, \"colorscale\": [[0.0, \"#0d0887\"], [0.1111111111111111, \"#46039f\"], [0.2222222222222222, \"#7201a8\"], [0.3333333333333333, \"#9c179e\"], [0.4444444444444444, \"#bd3786\"], [0.5555555555555556, \"#d8576b\"], [0.6666666666666666, \"#ed7953\"], [0.7777777777777778, \"#fb9f3a\"], [0.8888888888888888, \"#fdca26\"], [1.0, \"#f0f921\"]], \"type\": \"contour\"}], \"contourcarpet\": [{\"colorbar\": {\"outlinewidth\": 0, \"ticks\": \"\"}, \"type\": \"contourcarpet\"}], \"heatmap\": [{\"colorbar\": {\"outlinewidth\": 0, \"ticks\": \"\"}, \"colorscale\": [[0.0, \"#0d0887\"], [0.1111111111111111, \"#46039f\"], [0.2222222222222222, \"#7201a8\"], [0.3333333333333333, \"#9c179e\"], [0.4444444444444444, \"#bd3786\"], [0.5555555555555556, \"#d8576b\"], [0.6666666666666666, \"#ed7953\"], [0.7777777777777778, \"#fb9f3a\"], [0.8888888888888888, \"#fdca26\"], [1.0, \"#f0f921\"]], \"type\": \"heatmap\"}], \"heatmapgl\": [{\"colorbar\": {\"outlinewidth\": 0, \"ticks\": \"\"}, \"colorscale\": [[0.0, \"#0d0887\"], [0.1111111111111111, \"#46039f\"], [0.2222222222222222, \"#7201a8\"], [0.3333333333333333, \"#9c179e\"], [0.4444444444444444, \"#bd3786\"], [0.5555555555555556, \"#d8576b\"], [0.6666666666666666, \"#ed7953\"], [0.7777777777777778, \"#fb9f3a\"], [0.8888888888888888, \"#fdca26\"], [1.0, \"#f0f921\"]], \"type\": \"heatmapgl\"}], \"histogram\": [{\"marker\": {\"colorbar\": {\"outlinewidth\": 0, \"ticks\": \"\"}}, \"type\": \"histogram\"}], \"histogram2d\": [{\"colorbar\": {\"outlinewidth\": 0, \"ticks\": \"\"}, \"colorscale\": [[0.0, \"#0d0887\"], [0.1111111111111111, \"#46039f\"], [0.2222222222222222, \"#7201a8\"], [0.3333333333333333, \"#9c179e\"], [0.4444444444444444, \"#bd3786\"], [0.5555555555555556, \"#d8576b\"], [0.6666666666666666, \"#ed7953\"], [0.7777777777777778, \"#fb9f3a\"], [0.8888888888888888, \"#fdca26\"], [1.0, \"#f0f921\"]], \"type\": \"histogram2d\"}], \"histogram2dcontour\": [{\"colorbar\": {\"outlinewidth\": 0, \"ticks\": \"\"}, \"colorscale\": [[0.0, \"#0d0887\"], [0.1111111111111111, \"#46039f\"], [0.2222222222222222, \"#7201a8\"], [0.3333333333333333, \"#9c179e\"], [0.4444444444444444, \"#bd3786\"], [0.5555555555555556, \"#d8576b\"], [0.6666666666666666, \"#ed7953\"], [0.7777777777777778, \"#fb9f3a\"], [0.8888888888888888, \"#fdca26\"], [1.0, \"#f0f921\"]], \"type\": \"histogram2dcontour\"}], \"mesh3d\": [{\"colorbar\": {\"outlinewidth\": 0, \"ticks\": \"\"}, \"type\": \"mesh3d\"}], \"parcoords\": [{\"line\": {\"colorbar\": {\"outlinewidth\": 0, \"ticks\": \"\"}}, \"type\": \"parcoords\"}], \"scatter\": [{\"marker\": {\"colorbar\": {\"outlinewidth\": 0, \"ticks\": \"\"}}, \"type\": \"scatter\"}], \"scatter3d\": [{\"line\": {\"colorbar\": {\"outlinewidth\": 0, \"ticks\": \"\"}}, \"marker\": {\"colorbar\": {\"outlinewidth\": 0, \"ticks\": \"\"}}, \"type\": \"scatter3d\"}], \"scattercarpet\": [{\"marker\": {\"colorbar\": {\"outlinewidth\": 0, \"ticks\": \"\"}}, \"type\": \"scattercarpet\"}], \"scattergeo\": [{\"marker\": {\"colorbar\": {\"outlinewidth\": 0, \"ticks\": \"\"}}, \"type\": \"scattergeo\"}], \"scattergl\": [{\"marker\": {\"colorbar\": {\"outlinewidth\": 0, \"ticks\": \"\"}}, \"type\": \"scattergl\"}], \"scattermapbox\": [{\"marker\": {\"colorbar\": {\"outlinewidth\": 0, \"ticks\": \"\"}}, \"type\": \"scattermapbox\"}], \"scatterpolar\": [{\"marker\": {\"colorbar\": {\"outlinewidth\": 0, \"ticks\": \"\"}}, \"type\": \"scatterpolar\"}], \"scatterpolargl\": [{\"marker\": {\"colorbar\": {\"outlinewidth\": 0, \"ticks\": \"\"}}, \"type\": \"scatterpolargl\"}], \"scatterternary\": [{\"marker\": {\"colorbar\": {\"outlinewidth\": 0, \"ticks\": \"\"}}, \"type\": \"scatterternary\"}], \"surface\": [{\"colorbar\": {\"outlinewidth\": 0, \"ticks\": \"\"}, \"colorscale\": [[0.0, \"#0d0887\"], [0.1111111111111111, \"#46039f\"], [0.2222222222222222, \"#7201a8\"], [0.3333333333333333, \"#9c179e\"], [0.4444444444444444, \"#bd3786\"], [0.5555555555555556, \"#d8576b\"], [0.6666666666666666, \"#ed7953\"], [0.7777777777777778, \"#fb9f3a\"], [0.8888888888888888, \"#fdca26\"], [1.0, \"#f0f921\"]], \"type\": \"surface\"}], \"table\": [{\"cells\": {\"fill\": {\"color\": \"#EBF0F8\"}, \"line\": {\"color\": \"white\"}}, \"header\": {\"fill\": {\"color\": \"#C8D4E3\"}, \"line\": {\"color\": \"white\"}}, \"type\": \"table\"}]}, \"layout\": {\"annotationdefaults\": {\"arrowcolor\": \"#2a3f5f\", \"arrowhead\": 0, \"arrowwidth\": 1}, \"colorscale\": {\"diverging\": [[0, \"#8e0152\"], [0.1, \"#c51b7d\"], [0.2, \"#de77ae\"], [0.3, \"#f1b6da\"], [0.4, \"#fde0ef\"], [0.5, \"#f7f7f7\"], [0.6, \"#e6f5d0\"], [0.7, \"#b8e186\"], [0.8, \"#7fbc41\"], [0.9, \"#4d9221\"], [1, \"#276419\"]], \"sequential\": [[0.0, \"#0d0887\"], [0.1111111111111111, \"#46039f\"], [0.2222222222222222, \"#7201a8\"], [0.3333333333333333, \"#9c179e\"], [0.4444444444444444, \"#bd3786\"], [0.5555555555555556, \"#d8576b\"], [0.6666666666666666, \"#ed7953\"], [0.7777777777777778, \"#fb9f3a\"], [0.8888888888888888, \"#fdca26\"], [1.0, \"#f0f921\"]], \"sequentialminus\": [[0.0, \"#0d0887\"], [0.1111111111111111, \"#46039f\"], [0.2222222222222222, \"#7201a8\"], [0.3333333333333333, \"#9c179e\"], [0.4444444444444444, \"#bd3786\"], [0.5555555555555556, \"#d8576b\"], [0.6666666666666666, \"#ed7953\"], [0.7777777777777778, \"#fb9f3a\"], [0.8888888888888888, \"#fdca26\"], [1.0, \"#f0f921\"]]}, \"colorway\": [\"#636efa\", \"#EF553B\", \"#00cc96\", \"#ab63fa\", \"#FFA15A\", \"#19d3f3\", \"#FF6692\", \"#B6E880\", \"#FF97FF\", \"#FECB52\"], \"font\": {\"color\": \"#2a3f5f\"}, \"geo\": {\"bgcolor\": \"white\", \"lakecolor\": \"white\", \"landcolor\": \"#E5ECF6\", \"showlakes\": true, \"showland\": true, \"subunitcolor\": \"white\"}, \"hoverlabel\": {\"align\": \"left\"}, \"hovermode\": \"closest\", \"mapbox\": {\"style\": \"light\"}, \"paper_bgcolor\": \"white\", \"plot_bgcolor\": \"#E5ECF6\", \"polar\": {\"angularaxis\": {\"gridcolor\": \"white\", \"linecolor\": \"white\", \"ticks\": \"\"}, \"bgcolor\": \"#E5ECF6\", \"radialaxis\": {\"gridcolor\": \"white\", \"linecolor\": \"white\", \"ticks\": \"\"}}, \"scene\": {\"xaxis\": {\"backgroundcolor\": \"#E5ECF6\", \"gridcolor\": \"white\", \"gridwidth\": 2, \"linecolor\": \"white\", \"showbackground\": true, \"ticks\": \"\", \"zerolinecolor\": \"white\"}, \"yaxis\": {\"backgroundcolor\": \"#E5ECF6\", \"gridcolor\": \"white\", \"gridwidth\": 2, \"linecolor\": \"white\", \"showbackground\": true, \"ticks\": \"\", \"zerolinecolor\": \"white\"}, \"zaxis\": {\"backgroundcolor\": \"#E5ECF6\", \"gridcolor\": \"white\", \"gridwidth\": 2, \"linecolor\": \"white\", \"showbackground\": true, \"ticks\": \"\", \"zerolinecolor\": \"white\"}}, \"shapedefaults\": {\"line\": {\"color\": \"#2a3f5f\"}}, \"ternary\": {\"aaxis\": {\"gridcolor\": \"white\", \"linecolor\": \"white\", \"ticks\": \"\"}, \"baxis\": {\"gridcolor\": \"white\", \"linecolor\": \"white\", \"ticks\": \"\"}, \"bgcolor\": \"#E5ECF6\", \"caxis\": {\"gridcolor\": \"white\", \"linecolor\": \"white\", \"ticks\": \"\"}}, \"title\": {\"x\": 0.05}, \"xaxis\": {\"automargin\": true, \"gridcolor\": \"white\", \"linecolor\": \"white\", \"ticks\": \"\", \"zerolinecolor\": \"white\", \"zerolinewidth\": 2}, \"yaxis\": {\"automargin\": true, \"gridcolor\": \"white\", \"linecolor\": \"white\", \"ticks\": \"\", \"zerolinecolor\": \"white\", \"zerolinewidth\": 2}}}},\n",
       "                        {\"responsive\": true}\n",
       "                    ).then(function(){\n",
       "                            \n",
       "var gd = document.getElementById('9a200155-b024-4db2-b07e-a5d7c566fc6c');\n",
       "var x = new MutationObserver(function (mutations, observer) {{\n",
       "        var display = window.getComputedStyle(gd).display;\n",
       "        if (!display || display === 'none') {{\n",
       "            console.log([gd, 'removed!']);\n",
       "            Plotly.purge(gd);\n",
       "            observer.disconnect();\n",
       "        }}\n",
       "}});\n",
       "\n",
       "// Listen for the removal of the full notebook cells\n",
       "var notebookContainer = gd.closest('#notebook-container');\n",
       "if (notebookContainer) {{\n",
       "    x.observe(notebookContainer, {childList: true});\n",
       "}}\n",
       "\n",
       "// Listen for the clearing of the current output cell\n",
       "var outputEl = gd.closest('.output');\n",
       "if (outputEl) {{\n",
       "    x.observe(outputEl, {childList: true});\n",
       "}}\n",
       "\n",
       "                        })\n",
       "                };\n",
       "                });\n",
       "            </script>\n",
       "        </div>"
      ]
     },
     "metadata": {},
     "output_type": "display_data"
    }
   ],
   "source": [
    "fig = px.scatter_3d(df, x=\"x\", y=\"y\", z=\"z\",color=\"Score\")\n",
    "fig.show()"
   ]
  },
  {
   "cell_type": "markdown",
   "metadata": {},
   "source": [
    "### Loss function kullback-leibler"
   ]
  },
  {
   "cell_type": "code",
   "execution_count": 27,
   "metadata": {},
   "outputs": [],
   "source": [
    "model = NMF(n_components=4, init='random', random_state=0,beta_loss=\"kullback-leibler\",solver=\"mu\")\n",
    "W = model.fit_transform(text_vectors_T)\n",
    "H = model.components_"
   ]
  },
  {
   "cell_type": "code",
   "execution_count": 28,
   "metadata": {},
   "outputs": [],
   "source": [
    "labels_NMF = clustering_NMF(H)"
   ]
  },
  {
   "cell_type": "code",
   "execution_count": 29,
   "metadata": {},
   "outputs": [],
   "source": [
    "labels_NMF_cat = [ map_tags[lab] for lab in labels_NMF ]"
   ]
  },
  {
   "cell_type": "code",
   "execution_count": 30,
   "metadata": {},
   "outputs": [],
   "source": [
    "d = {'x':X_transform[:,0],'y':X_transform[:,1], 'z': X_transform[:,2],'Score':labels_NMF_cat}\n",
    "df = pd.DataFrame(d)"
   ]
  },
  {
   "cell_type": "code",
   "execution_count": 31,
   "metadata": {},
   "outputs": [
    {
     "data": {
      "text/plain": [
       "0.14768067384030345"
      ]
     },
     "execution_count": 31,
     "metadata": {},
     "output_type": "execute_result"
    }
   ],
   "source": [
    "homogeneity_score(data_class,labels_NMF)"
   ]
  },
  {
   "cell_type": "code",
   "execution_count": 32,
   "metadata": {},
   "outputs": [
    {
     "data": {
      "application/vnd.plotly.v1+json": {
       "config": {
        "plotlyServerURL": "https://plot.ly"
       },
       "data": [
        {
         "hoverlabel": {
          "namelength": 0
         },
         "hovertemplate": "Score=hardware<br>x=%{x}<br>y=%{y}<br>z=%{z}",
         "legendgroup": "Score=hardware",
         "marker": {
          "color": "#636efa",
          "symbol": "circle"
         },
         "mode": "markers",
         "name": "Score=hardware",
         "scene": "scene",
         "showlegend": true,
         "type": "scatter3d",
         "x": [
          -211.18629455566406,
          115.1004638671875,
          -73.01152038574219,
          -172.87249755859375,
          36.425628662109375,
          -5.797163009643555,
          57.2690544128418,
          46.501312255859375,
          168.26028442382812,
          -12.641326904296875,
          210.42764282226562,
          61.590187072753906,
          1.2288986444473267,
          -28.22417640686035,
          66.42610931396484,
          102.83965301513672,
          90.65320587158203,
          66.01126098632812,
          129.3861541748047,
          189.91998291015625,
          155.20867919921875,
          -2.7620737552642822,
          -114.09988403320312,
          -54.53240203857422,
          -34.070865631103516,
          -39.942867279052734,
          -67.8034896850586,
          184.5294952392578
         ],
         "y": [
          -36.503456115722656,
          121.72286224365234,
          -33.2686653137207,
          143.86785888671875,
          -22.377511978149414,
          64.33419799804688,
          -119.80317687988281,
          69.64769744873047,
          17.787899017333984,
          174.3474578857422,
          -97.7162094116211,
          93.38432312011719,
          162.09555053710938,
          19.507205963134766,
          -174.29139709472656,
          -21.249122619628906,
          26.261920928955078,
          -86.83314514160156,
          93.27117919921875,
          -73.62332916259766,
          72.28487396240234,
          16.376951217651367,
          182.93931579589844,
          68.5989990234375,
          -33.25094985961914,
          82.1317138671875,
          -96.7105484008789,
          154.7087860107422
         ],
         "z": [
          -57.14572525024414,
          73.9854965209961,
          -113.647216796875,
          5.821041107177734,
          -123.76742553710938,
          -119.38156127929688,
          84.12176513671875,
          131.5654296875,
          76.3600845336914,
          -82.70225524902344,
          -32.16305923461914,
          -109.09081268310547,
          49.43086242675781,
          33.13766098022461,
          10.073101997375488,
          2.4322571754455566,
          84.39989471435547,
          -196.31626892089844,
          172.73622131347656,
          99.5535659790039,
          -137.27877807617188,
          -56.61621856689453,
          -70.8231430053711,
          -205.9807586669922,
          -207.19143676757812,
          -20.803627014160156,
          201.85528564453125,
          -2.9091439247131348
         ]
        },
        {
         "hoverlabel": {
          "namelength": 0
         },
         "hovertemplate": "Score=religion<br>x=%{x}<br>y=%{y}<br>z=%{z}",
         "legendgroup": "Score=religion",
         "marker": {
          "color": "#EF553B",
          "symbol": "circle"
         },
         "mode": "markers",
         "name": "Score=religion",
         "scene": "scene",
         "showlegend": true,
         "type": "scatter3d",
         "x": [
          211.3543243408203,
          104.7892837524414,
          -105.13690185546875,
          -83.3620834350586,
          -133.2787628173828,
          -108.36487579345703,
          -128.8480987548828,
          5.654056549072266,
          30.11127281188965,
          87.03118896484375,
          143.1126251220703,
          74.23123931884766,
          145.42813110351562,
          93.96272277832031,
          -172.30809020996094,
          125.6368637084961,
          -142.65013122558594,
          -173.95571899414062,
          -128.4916229248047,
          -9.544903755187988,
          146.01858520507812,
          -25.527591705322266
         ],
         "y": [
          66.46749877929688,
          1.2626932859420776,
          144.82302856445312,
          -78.76490020751953,
          -8.21381950378418,
          -112.72904968261719,
          -150.76174926757812,
          -5.67006254196167,
          28.795873641967773,
          -94.04501342773438,
          -169.2066650390625,
          45.35150909423828,
          -103.8159408569336,
          202.4381866455078,
          97.9723892211914,
          101.79720306396484,
          -154.231201171875,
          -39.75714874267578,
          34.100643157958984,
          111.36300659179688,
          29.6162052154541,
          168.14569091796875
         ],
         "z": [
          -58.61452102661133,
          -80.65238952636719,
          138.0160675048828,
          36.418025970458984,
          23.327239990234375,
          -163.54525756835938,
          -61.73273468017578,
          122.7402572631836,
          -204.7235565185547,
          -70.50713348388672,
          -46.02469253540039,
          13.487051010131836,
          -129.56234741210938,
          26.536827087402344,
          -90.66150665283203,
          -44.11113739013672,
          36.852169036865234,
          -142.59217834472656,
          -166.99200439453125,
          179.34117126464844,
          159.19068908691406,
          -165.65353393554688
         ]
        },
        {
         "hoverlabel": {
          "namelength": 0
         },
         "hovertemplate": "Score=baseball<br>x=%{x}<br>y=%{y}<br>z=%{z}",
         "legendgroup": "Score=baseball",
         "marker": {
          "color": "#00cc96",
          "symbol": "circle"
         },
         "mode": "markers",
         "name": "Score=baseball",
         "scene": "scene",
         "showlegend": true,
         "type": "scatter3d",
         "x": [
          -5.669851303100586,
          84.33438873291016,
          45.84648513793945,
          18.856325149536133,
          42.135292053222656,
          -58.526309967041016,
          115.2301025390625,
          91.12478637695312,
          -14.804673194885254,
          -13.257498741149902,
          -57.235408782958984,
          52.44514465332031,
          40.65383529663086,
          106.24523162841797,
          21.64377212524414,
          287.6274719238281,
          -142.0059814453125,
          65.20568084716797,
          -174.0811004638672,
          153.87692260742188,
          -99.64364624023438,
          -76.7277603149414,
          38.64990234375,
          129.80665588378906,
          150.5460662841797,
          43.8409538269043,
          -172.95484924316406,
          -88.53948211669922,
          -72.184326171875,
          17.00324821472168
         ],
         "y": [
          -79.23304748535156,
          -26.44825553894043,
          172.71591186523438,
          73.29215240478516,
          109.9831771850586,
          -16.017642974853516,
          150.00343322753906,
          -49.41621780395508,
          -93.30252838134766,
          2.1246681213378906,
          60.94538879394531,
          54.4898681640625,
          -27.363426208496094,
          -400.1124572753906,
          -31.966205596923828,
          27.157976150512695,
          -31.444196701049805,
          180.99119567871094,
          -34.575443267822266,
          60.5906867980957,
          56.6246452331543,
          -17.00618553161621,
          -105.14952087402344,
          -97.17379760742188,
          -22.607995986938477,
          123.24131774902344,
          57.49303436279297,
          151.40428161621094,
          48.828617095947266,
          -192.77398681640625
         ],
         "z": [
          -65.9995346069336,
          194.47299194335938,
          124.41844177246094,
          48.4498405456543,
          -181.2642822265625,
          -24.00161361694336,
          -115.5044937133789,
          85.24334716796875,
          -138.09478759765625,
          209.59170532226562,
          102.34228515625,
          -52.411865234375,
          -30.15155792236328,
          -345.3110656738281,
          55.73847961425781,
          -90.3773193359375,
          91.42735290527344,
          -57.89923858642578,
          158.10809326171875,
          17.17456817626953,
          195.46510314941406,
          144.61073303222656,
          179.4573974609375,
          23.216144561767578,
          10.985280990600586,
          -7.032626152038574,
          114.12225341796875,
          53.95323181152344,
          -84.88672637939453,
          127.91851043701172
         ]
        },
        {
         "hoverlabel": {
          "namelength": 0
         },
         "hovertemplate": "Score=space<br>x=%{x}<br>y=%{y}<br>z=%{z}",
         "legendgroup": "Score=space",
         "marker": {
          "color": "#ab63fa",
          "symbol": "circle"
         },
         "mode": "markers",
         "name": "Score=space",
         "scene": "scene",
         "showlegend": true,
         "type": "scatter3d",
         "x": [
          -81.437255859375,
          -33.88813400268555,
          -44.34512710571289,
          -127.29474639892578,
          59.71397018432617,
          -213.0950927734375,
          -125.5356674194336,
          -112.22187042236328,
          54.14984893798828,
          105.24098205566406,
          -15.44699764251709,
          -137.8595733642578,
          -36.14993667602539,
          190.13441467285156,
          -69.43107604980469,
          -55.784820556640625,
          35.945892333984375,
          -9.4734525680542,
          172.0355224609375,
          -218.13580322265625
         ],
         "y": [
          107.70092010498047,
          -187.7425537109375,
          153.9035186767578,
          -105.69169616699219,
          -84.36381530761719,
          -77.87092590332031,
          -71.28944396972656,
          68.65065002441406,
          -158.0765380859375,
          6.54671573638916,
          -175.16830444335938,
          25.337432861328125,
          -89.37010955810547,
          -31.134790420532227,
          -168.04678344726562,
          -141.84849548339844,
          -237.10067749023438,
          -91.90179443359375,
          -15.286863327026367,
          46.79135513305664
         ],
         "z": [
          -114.86664581298828,
          -102.86780548095703,
          -15.048643112182617,
          116.93952178955078,
          11.09903335571289,
          33.631465911865234,
          -42.85276412963867,
          34.18685531616211,
          -115.18627166748047,
          -165.9141387939453,
          33.056331634521484,
          -50.49159622192383,
          111.92030334472656,
          -145.89894104003906,
          97.60969543457031,
          -28.55721092224121,
          -45.37283706665039,
          11.960443496704102,
          -58.93461608886719,
          4.2115797996521
         ]
        }
       ],
       "layout": {
        "height": 600,
        "legend": {
         "tracegroupgap": 0
        },
        "margin": {
         "t": 60
        },
        "scene": {
         "domain": {
          "x": [
           0,
           0.98
          ],
          "y": [
           0,
           1
          ]
         },
         "xaxis": {
          "title": {
           "text": "x"
          }
         },
         "yaxis": {
          "title": {
           "text": "y"
          }
         },
         "zaxis": {
          "title": {
           "text": "z"
          }
         }
        },
        "template": {
         "data": {
          "bar": [
           {
            "error_x": {
             "color": "#2a3f5f"
            },
            "error_y": {
             "color": "#2a3f5f"
            },
            "marker": {
             "line": {
              "color": "#E5ECF6",
              "width": 0.5
             }
            },
            "type": "bar"
           }
          ],
          "barpolar": [
           {
            "marker": {
             "line": {
              "color": "#E5ECF6",
              "width": 0.5
             }
            },
            "type": "barpolar"
           }
          ],
          "carpet": [
           {
            "aaxis": {
             "endlinecolor": "#2a3f5f",
             "gridcolor": "white",
             "linecolor": "white",
             "minorgridcolor": "white",
             "startlinecolor": "#2a3f5f"
            },
            "baxis": {
             "endlinecolor": "#2a3f5f",
             "gridcolor": "white",
             "linecolor": "white",
             "minorgridcolor": "white",
             "startlinecolor": "#2a3f5f"
            },
            "type": "carpet"
           }
          ],
          "choropleth": [
           {
            "colorbar": {
             "outlinewidth": 0,
             "ticks": ""
            },
            "type": "choropleth"
           }
          ],
          "contour": [
           {
            "colorbar": {
             "outlinewidth": 0,
             "ticks": ""
            },
            "colorscale": [
             [
              0,
              "#0d0887"
             ],
             [
              0.1111111111111111,
              "#46039f"
             ],
             [
              0.2222222222222222,
              "#7201a8"
             ],
             [
              0.3333333333333333,
              "#9c179e"
             ],
             [
              0.4444444444444444,
              "#bd3786"
             ],
             [
              0.5555555555555556,
              "#d8576b"
             ],
             [
              0.6666666666666666,
              "#ed7953"
             ],
             [
              0.7777777777777778,
              "#fb9f3a"
             ],
             [
              0.8888888888888888,
              "#fdca26"
             ],
             [
              1,
              "#f0f921"
             ]
            ],
            "type": "contour"
           }
          ],
          "contourcarpet": [
           {
            "colorbar": {
             "outlinewidth": 0,
             "ticks": ""
            },
            "type": "contourcarpet"
           }
          ],
          "heatmap": [
           {
            "colorbar": {
             "outlinewidth": 0,
             "ticks": ""
            },
            "colorscale": [
             [
              0,
              "#0d0887"
             ],
             [
              0.1111111111111111,
              "#46039f"
             ],
             [
              0.2222222222222222,
              "#7201a8"
             ],
             [
              0.3333333333333333,
              "#9c179e"
             ],
             [
              0.4444444444444444,
              "#bd3786"
             ],
             [
              0.5555555555555556,
              "#d8576b"
             ],
             [
              0.6666666666666666,
              "#ed7953"
             ],
             [
              0.7777777777777778,
              "#fb9f3a"
             ],
             [
              0.8888888888888888,
              "#fdca26"
             ],
             [
              1,
              "#f0f921"
             ]
            ],
            "type": "heatmap"
           }
          ],
          "heatmapgl": [
           {
            "colorbar": {
             "outlinewidth": 0,
             "ticks": ""
            },
            "colorscale": [
             [
              0,
              "#0d0887"
             ],
             [
              0.1111111111111111,
              "#46039f"
             ],
             [
              0.2222222222222222,
              "#7201a8"
             ],
             [
              0.3333333333333333,
              "#9c179e"
             ],
             [
              0.4444444444444444,
              "#bd3786"
             ],
             [
              0.5555555555555556,
              "#d8576b"
             ],
             [
              0.6666666666666666,
              "#ed7953"
             ],
             [
              0.7777777777777778,
              "#fb9f3a"
             ],
             [
              0.8888888888888888,
              "#fdca26"
             ],
             [
              1,
              "#f0f921"
             ]
            ],
            "type": "heatmapgl"
           }
          ],
          "histogram": [
           {
            "marker": {
             "colorbar": {
              "outlinewidth": 0,
              "ticks": ""
             }
            },
            "type": "histogram"
           }
          ],
          "histogram2d": [
           {
            "colorbar": {
             "outlinewidth": 0,
             "ticks": ""
            },
            "colorscale": [
             [
              0,
              "#0d0887"
             ],
             [
              0.1111111111111111,
              "#46039f"
             ],
             [
              0.2222222222222222,
              "#7201a8"
             ],
             [
              0.3333333333333333,
              "#9c179e"
             ],
             [
              0.4444444444444444,
              "#bd3786"
             ],
             [
              0.5555555555555556,
              "#d8576b"
             ],
             [
              0.6666666666666666,
              "#ed7953"
             ],
             [
              0.7777777777777778,
              "#fb9f3a"
             ],
             [
              0.8888888888888888,
              "#fdca26"
             ],
             [
              1,
              "#f0f921"
             ]
            ],
            "type": "histogram2d"
           }
          ],
          "histogram2dcontour": [
           {
            "colorbar": {
             "outlinewidth": 0,
             "ticks": ""
            },
            "colorscale": [
             [
              0,
              "#0d0887"
             ],
             [
              0.1111111111111111,
              "#46039f"
             ],
             [
              0.2222222222222222,
              "#7201a8"
             ],
             [
              0.3333333333333333,
              "#9c179e"
             ],
             [
              0.4444444444444444,
              "#bd3786"
             ],
             [
              0.5555555555555556,
              "#d8576b"
             ],
             [
              0.6666666666666666,
              "#ed7953"
             ],
             [
              0.7777777777777778,
              "#fb9f3a"
             ],
             [
              0.8888888888888888,
              "#fdca26"
             ],
             [
              1,
              "#f0f921"
             ]
            ],
            "type": "histogram2dcontour"
           }
          ],
          "mesh3d": [
           {
            "colorbar": {
             "outlinewidth": 0,
             "ticks": ""
            },
            "type": "mesh3d"
           }
          ],
          "parcoords": [
           {
            "line": {
             "colorbar": {
              "outlinewidth": 0,
              "ticks": ""
             }
            },
            "type": "parcoords"
           }
          ],
          "scatter": [
           {
            "marker": {
             "colorbar": {
              "outlinewidth": 0,
              "ticks": ""
             }
            },
            "type": "scatter"
           }
          ],
          "scatter3d": [
           {
            "line": {
             "colorbar": {
              "outlinewidth": 0,
              "ticks": ""
             }
            },
            "marker": {
             "colorbar": {
              "outlinewidth": 0,
              "ticks": ""
             }
            },
            "type": "scatter3d"
           }
          ],
          "scattercarpet": [
           {
            "marker": {
             "colorbar": {
              "outlinewidth": 0,
              "ticks": ""
             }
            },
            "type": "scattercarpet"
           }
          ],
          "scattergeo": [
           {
            "marker": {
             "colorbar": {
              "outlinewidth": 0,
              "ticks": ""
             }
            },
            "type": "scattergeo"
           }
          ],
          "scattergl": [
           {
            "marker": {
             "colorbar": {
              "outlinewidth": 0,
              "ticks": ""
             }
            },
            "type": "scattergl"
           }
          ],
          "scattermapbox": [
           {
            "marker": {
             "colorbar": {
              "outlinewidth": 0,
              "ticks": ""
             }
            },
            "type": "scattermapbox"
           }
          ],
          "scatterpolar": [
           {
            "marker": {
             "colorbar": {
              "outlinewidth": 0,
              "ticks": ""
             }
            },
            "type": "scatterpolar"
           }
          ],
          "scatterpolargl": [
           {
            "marker": {
             "colorbar": {
              "outlinewidth": 0,
              "ticks": ""
             }
            },
            "type": "scatterpolargl"
           }
          ],
          "scatterternary": [
           {
            "marker": {
             "colorbar": {
              "outlinewidth": 0,
              "ticks": ""
             }
            },
            "type": "scatterternary"
           }
          ],
          "surface": [
           {
            "colorbar": {
             "outlinewidth": 0,
             "ticks": ""
            },
            "colorscale": [
             [
              0,
              "#0d0887"
             ],
             [
              0.1111111111111111,
              "#46039f"
             ],
             [
              0.2222222222222222,
              "#7201a8"
             ],
             [
              0.3333333333333333,
              "#9c179e"
             ],
             [
              0.4444444444444444,
              "#bd3786"
             ],
             [
              0.5555555555555556,
              "#d8576b"
             ],
             [
              0.6666666666666666,
              "#ed7953"
             ],
             [
              0.7777777777777778,
              "#fb9f3a"
             ],
             [
              0.8888888888888888,
              "#fdca26"
             ],
             [
              1,
              "#f0f921"
             ]
            ],
            "type": "surface"
           }
          ],
          "table": [
           {
            "cells": {
             "fill": {
              "color": "#EBF0F8"
             },
             "line": {
              "color": "white"
             }
            },
            "header": {
             "fill": {
              "color": "#C8D4E3"
             },
             "line": {
              "color": "white"
             }
            },
            "type": "table"
           }
          ]
         },
         "layout": {
          "annotationdefaults": {
           "arrowcolor": "#2a3f5f",
           "arrowhead": 0,
           "arrowwidth": 1
          },
          "colorscale": {
           "diverging": [
            [
             0,
             "#8e0152"
            ],
            [
             0.1,
             "#c51b7d"
            ],
            [
             0.2,
             "#de77ae"
            ],
            [
             0.3,
             "#f1b6da"
            ],
            [
             0.4,
             "#fde0ef"
            ],
            [
             0.5,
             "#f7f7f7"
            ],
            [
             0.6,
             "#e6f5d0"
            ],
            [
             0.7,
             "#b8e186"
            ],
            [
             0.8,
             "#7fbc41"
            ],
            [
             0.9,
             "#4d9221"
            ],
            [
             1,
             "#276419"
            ]
           ],
           "sequential": [
            [
             0,
             "#0d0887"
            ],
            [
             0.1111111111111111,
             "#46039f"
            ],
            [
             0.2222222222222222,
             "#7201a8"
            ],
            [
             0.3333333333333333,
             "#9c179e"
            ],
            [
             0.4444444444444444,
             "#bd3786"
            ],
            [
             0.5555555555555556,
             "#d8576b"
            ],
            [
             0.6666666666666666,
             "#ed7953"
            ],
            [
             0.7777777777777778,
             "#fb9f3a"
            ],
            [
             0.8888888888888888,
             "#fdca26"
            ],
            [
             1,
             "#f0f921"
            ]
           ],
           "sequentialminus": [
            [
             0,
             "#0d0887"
            ],
            [
             0.1111111111111111,
             "#46039f"
            ],
            [
             0.2222222222222222,
             "#7201a8"
            ],
            [
             0.3333333333333333,
             "#9c179e"
            ],
            [
             0.4444444444444444,
             "#bd3786"
            ],
            [
             0.5555555555555556,
             "#d8576b"
            ],
            [
             0.6666666666666666,
             "#ed7953"
            ],
            [
             0.7777777777777778,
             "#fb9f3a"
            ],
            [
             0.8888888888888888,
             "#fdca26"
            ],
            [
             1,
             "#f0f921"
            ]
           ]
          },
          "colorway": [
           "#636efa",
           "#EF553B",
           "#00cc96",
           "#ab63fa",
           "#FFA15A",
           "#19d3f3",
           "#FF6692",
           "#B6E880",
           "#FF97FF",
           "#FECB52"
          ],
          "font": {
           "color": "#2a3f5f"
          },
          "geo": {
           "bgcolor": "white",
           "lakecolor": "white",
           "landcolor": "#E5ECF6",
           "showlakes": true,
           "showland": true,
           "subunitcolor": "white"
          },
          "hoverlabel": {
           "align": "left"
          },
          "hovermode": "closest",
          "mapbox": {
           "style": "light"
          },
          "paper_bgcolor": "white",
          "plot_bgcolor": "#E5ECF6",
          "polar": {
           "angularaxis": {
            "gridcolor": "white",
            "linecolor": "white",
            "ticks": ""
           },
           "bgcolor": "#E5ECF6",
           "radialaxis": {
            "gridcolor": "white",
            "linecolor": "white",
            "ticks": ""
           }
          },
          "scene": {
           "xaxis": {
            "backgroundcolor": "#E5ECF6",
            "gridcolor": "white",
            "gridwidth": 2,
            "linecolor": "white",
            "showbackground": true,
            "ticks": "",
            "zerolinecolor": "white"
           },
           "yaxis": {
            "backgroundcolor": "#E5ECF6",
            "gridcolor": "white",
            "gridwidth": 2,
            "linecolor": "white",
            "showbackground": true,
            "ticks": "",
            "zerolinecolor": "white"
           },
           "zaxis": {
            "backgroundcolor": "#E5ECF6",
            "gridcolor": "white",
            "gridwidth": 2,
            "linecolor": "white",
            "showbackground": true,
            "ticks": "",
            "zerolinecolor": "white"
           }
          },
          "shapedefaults": {
           "line": {
            "color": "#2a3f5f"
           }
          },
          "ternary": {
           "aaxis": {
            "gridcolor": "white",
            "linecolor": "white",
            "ticks": ""
           },
           "baxis": {
            "gridcolor": "white",
            "linecolor": "white",
            "ticks": ""
           },
           "bgcolor": "#E5ECF6",
           "caxis": {
            "gridcolor": "white",
            "linecolor": "white",
            "ticks": ""
           }
          },
          "title": {
           "x": 0.05
          },
          "xaxis": {
           "automargin": true,
           "gridcolor": "white",
           "linecolor": "white",
           "ticks": "",
           "zerolinecolor": "white",
           "zerolinewidth": 2
          },
          "yaxis": {
           "automargin": true,
           "gridcolor": "white",
           "linecolor": "white",
           "ticks": "",
           "zerolinecolor": "white",
           "zerolinewidth": 2
          }
         }
        }
       }
      },
      "text/html": [
       "<div>\n",
       "        \n",
       "        \n",
       "            <div id=\"8e82b98a-2139-4c23-b5e9-762ab76f910f\" class=\"plotly-graph-div\" style=\"height:600px; width:100%;\"></div>\n",
       "            <script type=\"text/javascript\">\n",
       "                require([\"plotly\"], function(Plotly) {\n",
       "                    window.PLOTLYENV=window.PLOTLYENV || {};\n",
       "                    \n",
       "                if (document.getElementById(\"8e82b98a-2139-4c23-b5e9-762ab76f910f\")) {\n",
       "                    Plotly.newPlot(\n",
       "                        '8e82b98a-2139-4c23-b5e9-762ab76f910f',\n",
       "                        [{\"hoverlabel\": {\"namelength\": 0}, \"hovertemplate\": \"Score=hardware<br>x=%{x}<br>y=%{y}<br>z=%{z}\", \"legendgroup\": \"Score=hardware\", \"marker\": {\"color\": \"#636efa\", \"symbol\": \"circle\"}, \"mode\": \"markers\", \"name\": \"Score=hardware\", \"scene\": \"scene\", \"showlegend\": true, \"type\": \"scatter3d\", \"x\": [-211.18629455566406, 115.1004638671875, -73.01152038574219, -172.87249755859375, 36.425628662109375, -5.797163009643555, 57.2690544128418, 46.501312255859375, 168.26028442382812, -12.641326904296875, 210.42764282226562, 61.590187072753906, 1.2288986444473267, -28.22417640686035, 66.42610931396484, 102.83965301513672, 90.65320587158203, 66.01126098632812, 129.3861541748047, 189.91998291015625, 155.20867919921875, -2.7620737552642822, -114.09988403320312, -54.53240203857422, -34.070865631103516, -39.942867279052734, -67.8034896850586, 184.5294952392578], \"y\": [-36.503456115722656, 121.72286224365234, -33.2686653137207, 143.86785888671875, -22.377511978149414, 64.33419799804688, -119.80317687988281, 69.64769744873047, 17.787899017333984, 174.3474578857422, -97.7162094116211, 93.38432312011719, 162.09555053710938, 19.507205963134766, -174.29139709472656, -21.249122619628906, 26.261920928955078, -86.83314514160156, 93.27117919921875, -73.62332916259766, 72.28487396240234, 16.376951217651367, 182.93931579589844, 68.5989990234375, -33.25094985961914, 82.1317138671875, -96.7105484008789, 154.7087860107422], \"z\": [-57.14572525024414, 73.9854965209961, -113.647216796875, 5.821041107177734, -123.76742553710938, -119.38156127929688, 84.12176513671875, 131.5654296875, 76.3600845336914, -82.70225524902344, -32.16305923461914, -109.09081268310547, 49.43086242675781, 33.13766098022461, 10.073101997375488, 2.4322571754455566, 84.39989471435547, -196.31626892089844, 172.73622131347656, 99.5535659790039, -137.27877807617188, -56.61621856689453, -70.8231430053711, -205.9807586669922, -207.19143676757812, -20.803627014160156, 201.85528564453125, -2.9091439247131348]}, {\"hoverlabel\": {\"namelength\": 0}, \"hovertemplate\": \"Score=religion<br>x=%{x}<br>y=%{y}<br>z=%{z}\", \"legendgroup\": \"Score=religion\", \"marker\": {\"color\": \"#EF553B\", \"symbol\": \"circle\"}, \"mode\": \"markers\", \"name\": \"Score=religion\", \"scene\": \"scene\", \"showlegend\": true, \"type\": \"scatter3d\", \"x\": [211.3543243408203, 104.7892837524414, -105.13690185546875, -83.3620834350586, -133.2787628173828, -108.36487579345703, -128.8480987548828, 5.654056549072266, 30.11127281188965, 87.03118896484375, 143.1126251220703, 74.23123931884766, 145.42813110351562, 93.96272277832031, -172.30809020996094, 125.6368637084961, -142.65013122558594, -173.95571899414062, -128.4916229248047, -9.544903755187988, 146.01858520507812, -25.527591705322266], \"y\": [66.46749877929688, 1.2626932859420776, 144.82302856445312, -78.76490020751953, -8.21381950378418, -112.72904968261719, -150.76174926757812, -5.67006254196167, 28.795873641967773, -94.04501342773438, -169.2066650390625, 45.35150909423828, -103.8159408569336, 202.4381866455078, 97.9723892211914, 101.79720306396484, -154.231201171875, -39.75714874267578, 34.100643157958984, 111.36300659179688, 29.6162052154541, 168.14569091796875], \"z\": [-58.61452102661133, -80.65238952636719, 138.0160675048828, 36.418025970458984, 23.327239990234375, -163.54525756835938, -61.73273468017578, 122.7402572631836, -204.7235565185547, -70.50713348388672, -46.02469253540039, 13.487051010131836, -129.56234741210938, 26.536827087402344, -90.66150665283203, -44.11113739013672, 36.852169036865234, -142.59217834472656, -166.99200439453125, 179.34117126464844, 159.19068908691406, -165.65353393554688]}, {\"hoverlabel\": {\"namelength\": 0}, \"hovertemplate\": \"Score=baseball<br>x=%{x}<br>y=%{y}<br>z=%{z}\", \"legendgroup\": \"Score=baseball\", \"marker\": {\"color\": \"#00cc96\", \"symbol\": \"circle\"}, \"mode\": \"markers\", \"name\": \"Score=baseball\", \"scene\": \"scene\", \"showlegend\": true, \"type\": \"scatter3d\", \"x\": [-5.669851303100586, 84.33438873291016, 45.84648513793945, 18.856325149536133, 42.135292053222656, -58.526309967041016, 115.2301025390625, 91.12478637695312, -14.804673194885254, -13.257498741149902, -57.235408782958984, 52.44514465332031, 40.65383529663086, 106.24523162841797, 21.64377212524414, 287.6274719238281, -142.0059814453125, 65.20568084716797, -174.0811004638672, 153.87692260742188, -99.64364624023438, -76.7277603149414, 38.64990234375, 129.80665588378906, 150.5460662841797, 43.8409538269043, -172.95484924316406, -88.53948211669922, -72.184326171875, 17.00324821472168], \"y\": [-79.23304748535156, -26.44825553894043, 172.71591186523438, 73.29215240478516, 109.9831771850586, -16.017642974853516, 150.00343322753906, -49.41621780395508, -93.30252838134766, 2.1246681213378906, 60.94538879394531, 54.4898681640625, -27.363426208496094, -400.1124572753906, -31.966205596923828, 27.157976150512695, -31.444196701049805, 180.99119567871094, -34.575443267822266, 60.5906867980957, 56.6246452331543, -17.00618553161621, -105.14952087402344, -97.17379760742188, -22.607995986938477, 123.24131774902344, 57.49303436279297, 151.40428161621094, 48.828617095947266, -192.77398681640625], \"z\": [-65.9995346069336, 194.47299194335938, 124.41844177246094, 48.4498405456543, -181.2642822265625, -24.00161361694336, -115.5044937133789, 85.24334716796875, -138.09478759765625, 209.59170532226562, 102.34228515625, -52.411865234375, -30.15155792236328, -345.3110656738281, 55.73847961425781, -90.3773193359375, 91.42735290527344, -57.89923858642578, 158.10809326171875, 17.17456817626953, 195.46510314941406, 144.61073303222656, 179.4573974609375, 23.216144561767578, 10.985280990600586, -7.032626152038574, 114.12225341796875, 53.95323181152344, -84.88672637939453, 127.91851043701172]}, {\"hoverlabel\": {\"namelength\": 0}, \"hovertemplate\": \"Score=space<br>x=%{x}<br>y=%{y}<br>z=%{z}\", \"legendgroup\": \"Score=space\", \"marker\": {\"color\": \"#ab63fa\", \"symbol\": \"circle\"}, \"mode\": \"markers\", \"name\": \"Score=space\", \"scene\": \"scene\", \"showlegend\": true, \"type\": \"scatter3d\", \"x\": [-81.437255859375, -33.88813400268555, -44.34512710571289, -127.29474639892578, 59.71397018432617, -213.0950927734375, -125.5356674194336, -112.22187042236328, 54.14984893798828, 105.24098205566406, -15.44699764251709, -137.8595733642578, -36.14993667602539, 190.13441467285156, -69.43107604980469, -55.784820556640625, 35.945892333984375, -9.4734525680542, 172.0355224609375, -218.13580322265625], \"y\": [107.70092010498047, -187.7425537109375, 153.9035186767578, -105.69169616699219, -84.36381530761719, -77.87092590332031, -71.28944396972656, 68.65065002441406, -158.0765380859375, 6.54671573638916, -175.16830444335938, 25.337432861328125, -89.37010955810547, -31.134790420532227, -168.04678344726562, -141.84849548339844, -237.10067749023438, -91.90179443359375, -15.286863327026367, 46.79135513305664], \"z\": [-114.86664581298828, -102.86780548095703, -15.048643112182617, 116.93952178955078, 11.09903335571289, 33.631465911865234, -42.85276412963867, 34.18685531616211, -115.18627166748047, -165.9141387939453, 33.056331634521484, -50.49159622192383, 111.92030334472656, -145.89894104003906, 97.60969543457031, -28.55721092224121, -45.37283706665039, 11.960443496704102, -58.93461608886719, 4.2115797996521]}],\n",
       "                        {\"height\": 600, \"legend\": {\"tracegroupgap\": 0}, \"margin\": {\"t\": 60}, \"scene\": {\"domain\": {\"x\": [0.0, 0.98], \"y\": [0.0, 1.0]}, \"xaxis\": {\"title\": {\"text\": \"x\"}}, \"yaxis\": {\"title\": {\"text\": \"y\"}}, \"zaxis\": {\"title\": {\"text\": \"z\"}}}, \"template\": {\"data\": {\"bar\": [{\"error_x\": {\"color\": \"#2a3f5f\"}, \"error_y\": {\"color\": \"#2a3f5f\"}, \"marker\": {\"line\": {\"color\": \"#E5ECF6\", \"width\": 0.5}}, \"type\": \"bar\"}], \"barpolar\": [{\"marker\": {\"line\": {\"color\": \"#E5ECF6\", \"width\": 0.5}}, \"type\": \"barpolar\"}], \"carpet\": [{\"aaxis\": {\"endlinecolor\": \"#2a3f5f\", \"gridcolor\": \"white\", \"linecolor\": \"white\", \"minorgridcolor\": \"white\", \"startlinecolor\": \"#2a3f5f\"}, \"baxis\": {\"endlinecolor\": \"#2a3f5f\", \"gridcolor\": \"white\", \"linecolor\": \"white\", \"minorgridcolor\": \"white\", \"startlinecolor\": \"#2a3f5f\"}, \"type\": \"carpet\"}], \"choropleth\": [{\"colorbar\": {\"outlinewidth\": 0, \"ticks\": \"\"}, \"type\": \"choropleth\"}], \"contour\": [{\"colorbar\": {\"outlinewidth\": 0, \"ticks\": \"\"}, \"colorscale\": [[0.0, \"#0d0887\"], [0.1111111111111111, \"#46039f\"], [0.2222222222222222, \"#7201a8\"], [0.3333333333333333, \"#9c179e\"], [0.4444444444444444, \"#bd3786\"], [0.5555555555555556, \"#d8576b\"], [0.6666666666666666, \"#ed7953\"], [0.7777777777777778, \"#fb9f3a\"], [0.8888888888888888, \"#fdca26\"], [1.0, \"#f0f921\"]], \"type\": \"contour\"}], \"contourcarpet\": [{\"colorbar\": {\"outlinewidth\": 0, \"ticks\": \"\"}, \"type\": \"contourcarpet\"}], \"heatmap\": [{\"colorbar\": {\"outlinewidth\": 0, \"ticks\": \"\"}, \"colorscale\": [[0.0, \"#0d0887\"], [0.1111111111111111, \"#46039f\"], [0.2222222222222222, \"#7201a8\"], [0.3333333333333333, \"#9c179e\"], [0.4444444444444444, \"#bd3786\"], [0.5555555555555556, \"#d8576b\"], [0.6666666666666666, \"#ed7953\"], [0.7777777777777778, \"#fb9f3a\"], [0.8888888888888888, \"#fdca26\"], [1.0, \"#f0f921\"]], \"type\": \"heatmap\"}], \"heatmapgl\": [{\"colorbar\": {\"outlinewidth\": 0, \"ticks\": \"\"}, \"colorscale\": [[0.0, \"#0d0887\"], [0.1111111111111111, \"#46039f\"], [0.2222222222222222, \"#7201a8\"], [0.3333333333333333, \"#9c179e\"], [0.4444444444444444, \"#bd3786\"], [0.5555555555555556, \"#d8576b\"], [0.6666666666666666, \"#ed7953\"], [0.7777777777777778, \"#fb9f3a\"], [0.8888888888888888, \"#fdca26\"], [1.0, \"#f0f921\"]], \"type\": \"heatmapgl\"}], \"histogram\": [{\"marker\": {\"colorbar\": {\"outlinewidth\": 0, \"ticks\": \"\"}}, \"type\": \"histogram\"}], \"histogram2d\": [{\"colorbar\": {\"outlinewidth\": 0, \"ticks\": \"\"}, \"colorscale\": [[0.0, \"#0d0887\"], [0.1111111111111111, \"#46039f\"], [0.2222222222222222, \"#7201a8\"], [0.3333333333333333, \"#9c179e\"], [0.4444444444444444, \"#bd3786\"], [0.5555555555555556, \"#d8576b\"], [0.6666666666666666, \"#ed7953\"], [0.7777777777777778, \"#fb9f3a\"], [0.8888888888888888, \"#fdca26\"], [1.0, \"#f0f921\"]], \"type\": \"histogram2d\"}], \"histogram2dcontour\": [{\"colorbar\": {\"outlinewidth\": 0, \"ticks\": \"\"}, \"colorscale\": [[0.0, \"#0d0887\"], [0.1111111111111111, \"#46039f\"], [0.2222222222222222, \"#7201a8\"], [0.3333333333333333, \"#9c179e\"], [0.4444444444444444, \"#bd3786\"], [0.5555555555555556, \"#d8576b\"], [0.6666666666666666, \"#ed7953\"], [0.7777777777777778, \"#fb9f3a\"], [0.8888888888888888, \"#fdca26\"], [1.0, \"#f0f921\"]], \"type\": \"histogram2dcontour\"}], \"mesh3d\": [{\"colorbar\": {\"outlinewidth\": 0, \"ticks\": \"\"}, \"type\": \"mesh3d\"}], \"parcoords\": [{\"line\": {\"colorbar\": {\"outlinewidth\": 0, \"ticks\": \"\"}}, \"type\": \"parcoords\"}], \"scatter\": [{\"marker\": {\"colorbar\": {\"outlinewidth\": 0, \"ticks\": \"\"}}, \"type\": \"scatter\"}], \"scatter3d\": [{\"line\": {\"colorbar\": {\"outlinewidth\": 0, \"ticks\": \"\"}}, \"marker\": {\"colorbar\": {\"outlinewidth\": 0, \"ticks\": \"\"}}, \"type\": \"scatter3d\"}], \"scattercarpet\": [{\"marker\": {\"colorbar\": {\"outlinewidth\": 0, \"ticks\": \"\"}}, \"type\": \"scattercarpet\"}], \"scattergeo\": [{\"marker\": {\"colorbar\": {\"outlinewidth\": 0, \"ticks\": \"\"}}, \"type\": \"scattergeo\"}], \"scattergl\": [{\"marker\": {\"colorbar\": {\"outlinewidth\": 0, \"ticks\": \"\"}}, \"type\": \"scattergl\"}], \"scattermapbox\": [{\"marker\": {\"colorbar\": {\"outlinewidth\": 0, \"ticks\": \"\"}}, \"type\": \"scattermapbox\"}], \"scatterpolar\": [{\"marker\": {\"colorbar\": {\"outlinewidth\": 0, \"ticks\": \"\"}}, \"type\": \"scatterpolar\"}], \"scatterpolargl\": [{\"marker\": {\"colorbar\": {\"outlinewidth\": 0, \"ticks\": \"\"}}, \"type\": \"scatterpolargl\"}], \"scatterternary\": [{\"marker\": {\"colorbar\": {\"outlinewidth\": 0, \"ticks\": \"\"}}, \"type\": \"scatterternary\"}], \"surface\": [{\"colorbar\": {\"outlinewidth\": 0, \"ticks\": \"\"}, \"colorscale\": [[0.0, \"#0d0887\"], [0.1111111111111111, \"#46039f\"], [0.2222222222222222, \"#7201a8\"], [0.3333333333333333, \"#9c179e\"], [0.4444444444444444, \"#bd3786\"], [0.5555555555555556, \"#d8576b\"], [0.6666666666666666, \"#ed7953\"], [0.7777777777777778, \"#fb9f3a\"], [0.8888888888888888, \"#fdca26\"], [1.0, \"#f0f921\"]], \"type\": \"surface\"}], \"table\": [{\"cells\": {\"fill\": {\"color\": \"#EBF0F8\"}, \"line\": {\"color\": \"white\"}}, \"header\": {\"fill\": {\"color\": \"#C8D4E3\"}, \"line\": {\"color\": \"white\"}}, \"type\": \"table\"}]}, \"layout\": {\"annotationdefaults\": {\"arrowcolor\": \"#2a3f5f\", \"arrowhead\": 0, \"arrowwidth\": 1}, \"colorscale\": {\"diverging\": [[0, \"#8e0152\"], [0.1, \"#c51b7d\"], [0.2, \"#de77ae\"], [0.3, \"#f1b6da\"], [0.4, \"#fde0ef\"], [0.5, \"#f7f7f7\"], [0.6, \"#e6f5d0\"], [0.7, \"#b8e186\"], [0.8, \"#7fbc41\"], [0.9, \"#4d9221\"], [1, \"#276419\"]], \"sequential\": [[0.0, \"#0d0887\"], [0.1111111111111111, \"#46039f\"], [0.2222222222222222, \"#7201a8\"], [0.3333333333333333, \"#9c179e\"], [0.4444444444444444, \"#bd3786\"], [0.5555555555555556, \"#d8576b\"], [0.6666666666666666, \"#ed7953\"], [0.7777777777777778, \"#fb9f3a\"], [0.8888888888888888, \"#fdca26\"], [1.0, \"#f0f921\"]], \"sequentialminus\": [[0.0, \"#0d0887\"], [0.1111111111111111, \"#46039f\"], [0.2222222222222222, \"#7201a8\"], [0.3333333333333333, \"#9c179e\"], [0.4444444444444444, \"#bd3786\"], [0.5555555555555556, \"#d8576b\"], [0.6666666666666666, \"#ed7953\"], [0.7777777777777778, \"#fb9f3a\"], [0.8888888888888888, \"#fdca26\"], [1.0, \"#f0f921\"]]}, \"colorway\": [\"#636efa\", \"#EF553B\", \"#00cc96\", \"#ab63fa\", \"#FFA15A\", \"#19d3f3\", \"#FF6692\", \"#B6E880\", \"#FF97FF\", \"#FECB52\"], \"font\": {\"color\": \"#2a3f5f\"}, \"geo\": {\"bgcolor\": \"white\", \"lakecolor\": \"white\", \"landcolor\": \"#E5ECF6\", \"showlakes\": true, \"showland\": true, \"subunitcolor\": \"white\"}, \"hoverlabel\": {\"align\": \"left\"}, \"hovermode\": \"closest\", \"mapbox\": {\"style\": \"light\"}, \"paper_bgcolor\": \"white\", \"plot_bgcolor\": \"#E5ECF6\", \"polar\": {\"angularaxis\": {\"gridcolor\": \"white\", \"linecolor\": \"white\", \"ticks\": \"\"}, \"bgcolor\": \"#E5ECF6\", \"radialaxis\": {\"gridcolor\": \"white\", \"linecolor\": \"white\", \"ticks\": \"\"}}, \"scene\": {\"xaxis\": {\"backgroundcolor\": \"#E5ECF6\", \"gridcolor\": \"white\", \"gridwidth\": 2, \"linecolor\": \"white\", \"showbackground\": true, \"ticks\": \"\", \"zerolinecolor\": \"white\"}, \"yaxis\": {\"backgroundcolor\": \"#E5ECF6\", \"gridcolor\": \"white\", \"gridwidth\": 2, \"linecolor\": \"white\", \"showbackground\": true, \"ticks\": \"\", \"zerolinecolor\": \"white\"}, \"zaxis\": {\"backgroundcolor\": \"#E5ECF6\", \"gridcolor\": \"white\", \"gridwidth\": 2, \"linecolor\": \"white\", \"showbackground\": true, \"ticks\": \"\", \"zerolinecolor\": \"white\"}}, \"shapedefaults\": {\"line\": {\"color\": \"#2a3f5f\"}}, \"ternary\": {\"aaxis\": {\"gridcolor\": \"white\", \"linecolor\": \"white\", \"ticks\": \"\"}, \"baxis\": {\"gridcolor\": \"white\", \"linecolor\": \"white\", \"ticks\": \"\"}, \"bgcolor\": \"#E5ECF6\", \"caxis\": {\"gridcolor\": \"white\", \"linecolor\": \"white\", \"ticks\": \"\"}}, \"title\": {\"x\": 0.05}, \"xaxis\": {\"automargin\": true, \"gridcolor\": \"white\", \"linecolor\": \"white\", \"ticks\": \"\", \"zerolinecolor\": \"white\", \"zerolinewidth\": 2}, \"yaxis\": {\"automargin\": true, \"gridcolor\": \"white\", \"linecolor\": \"white\", \"ticks\": \"\", \"zerolinecolor\": \"white\", \"zerolinewidth\": 2}}}},\n",
       "                        {\"responsive\": true}\n",
       "                    ).then(function(){\n",
       "                            \n",
       "var gd = document.getElementById('8e82b98a-2139-4c23-b5e9-762ab76f910f');\n",
       "var x = new MutationObserver(function (mutations, observer) {{\n",
       "        var display = window.getComputedStyle(gd).display;\n",
       "        if (!display || display === 'none') {{\n",
       "            console.log([gd, 'removed!']);\n",
       "            Plotly.purge(gd);\n",
       "            observer.disconnect();\n",
       "        }}\n",
       "}});\n",
       "\n",
       "// Listen for the removal of the full notebook cells\n",
       "var notebookContainer = gd.closest('#notebook-container');\n",
       "if (notebookContainer) {{\n",
       "    x.observe(notebookContainer, {childList: true});\n",
       "}}\n",
       "\n",
       "// Listen for the clearing of the current output cell\n",
       "var outputEl = gd.closest('.output');\n",
       "if (outputEl) {{\n",
       "    x.observe(outputEl, {childList: true});\n",
       "}}\n",
       "\n",
       "                        })\n",
       "                };\n",
       "                });\n",
       "            </script>\n",
       "        </div>"
      ]
     },
     "metadata": {},
     "output_type": "display_data"
    }
   ],
   "source": [
    "fig = px.scatter_3d(df, x=\"x\", y=\"y\", z=\"z\",color=\"Score\")\n",
    "fig.show()"
   ]
  },
  {
   "cell_type": "markdown",
   "metadata": {},
   "source": [
    "# Our NMF Implementation"
   ]
  },
  {
   "cell_type": "code",
   "execution_count": 33,
   "metadata": {
    "scrolled": true
   },
   "outputs": [
    {
     "name": "stdout",
     "output_type": "stream",
     "text": [
      "Applying multiplicative updates on the input matrix...\n",
      "---------------------------------------------------------------------\n",
      "Frobenius norm ||A - WH||_F\n",
      "\n",
      "iteration 1: 152.18586935736676\n",
      "iteration 2: 149.02940703443346\n",
      "iteration 3: 144.66403465669939\n",
      "iteration 4: 141.52652726555223\n",
      "iteration 5: 139.2931060467587\n",
      "iteration 6: 138.1661221953874\n",
      "iteration 7: 137.74618096852265\n",
      "iteration 8: 137.534039030422\n",
      "iteration 9: 137.3822610502253\n",
      "iteration 10: 137.24880361845322\n",
      "iteration 11: 137.1124899515258\n",
      "iteration 12: 136.96574655861005\n",
      "iteration 13: 136.81640631703823\n",
      "iteration 14: 136.68326333306277\n",
      "iteration 15: 136.57942903700933\n",
      "iteration 16: 136.50600906336078\n",
      "iteration 17: 136.4567367884193\n",
      "iteration 18: 136.42312340574156\n",
      "iteration 19: 136.40008615984166\n",
      "iteration 20: 136.38271643317373\n",
      "iteration 21: 136.3687047765243\n",
      "iteration 22: 136.35768996645223\n",
      "iteration 23: 136.34938682868602\n",
      "iteration 24: 136.3430943889587\n",
      "iteration 25: 136.33846299908603\n",
      "iteration 26: 136.33519889324666\n",
      "iteration 27: 136.3329030788022\n",
      "iteration 28: 136.3312818089381\n",
      "iteration 29: 136.33000240925043\n",
      "iteration 30: 136.32882163056598\n",
      "iteration 31: 136.32767373872915\n",
      "iteration 32: 136.32659808495052\n",
      "iteration 33: 136.32556762697502\n",
      "iteration 34: 136.32424628626896\n",
      "iteration 35: 136.32242951230754\n",
      "iteration 36: 136.32071827612927\n",
      "iteration 37: 136.31942807476653\n",
      "iteration 38: 136.31841861499268\n",
      "iteration 39: 136.31758126841478\n",
      "iteration 40: 136.31687164041531\n",
      "iteration 41: 136.31609174461911\n",
      "iteration 42: 136.31524815842505\n",
      "iteration 43: 136.3146015553353\n",
      "iteration 44: 136.31388321529514\n",
      "iteration 45: 136.31253424205156\n",
      "iteration 46: 136.31107887921635\n",
      "iteration 47: 136.30936857414468\n",
      "iteration 48: 136.30764862582518\n",
      "iteration 49: 136.30499278104648\n",
      "iteration 50: 136.30212557249052\n",
      "iteration 51: 136.30046428442174\n",
      "iteration 52: 136.29955637954882\n",
      "iteration 53: 136.2990051755846\n",
      "iteration 54: 136.29863329647247\n",
      "iteration 55: 136.2983643052592\n",
      "iteration 56: 136.29816110248805\n",
      "iteration 57: 136.29800240939682\n",
      "iteration 58: 136.2978723165509\n",
      "iteration 59: 136.29775602353934\n",
      "iteration 60: 136.2976423786228\n",
      "iteration 61: 136.29752603667407\n",
      "iteration 62: 136.2974072239284\n",
      "iteration 63: 136.29728972161448\n",
      "iteration 64: 136.29717817502532\n",
      "iteration 65: 136.29707670287684\n",
      "iteration 66: 136.2969879617454\n",
      "iteration 67: 136.29691170936383\n",
      "iteration 68: 136.29684543624344\n",
      "iteration 69: 136.2967868903493\n",
      "iteration 70: 136.29673547950182\n",
      "iteration 71: 136.29669179820587\n",
      "iteration 72: 136.2966560119876\n",
      "iteration 73: 136.29662711755506\n",
      "iteration 74: 136.2966039560155\n",
      "iteration 75: 136.29658592657668\n",
      "iteration 76: 136.2965724101239\n",
      "iteration 77: 136.2965623189147\n",
      "iteration 78: 136.2965544682382\n",
      "iteration 79: 136.29654800979444\n",
      "iteration 80: 136.29654246748353\n",
      "iteration 81: 136.2965375706235\n",
      "iteration 82: 136.2965331266755\n",
      "iteration 83: 136.29652899713065\n",
      "iteration 84: 136.29652511882787\n",
      "iteration 85: 136.29652151086975\n",
      "iteration 86: 136.29651824368176\n",
      "iteration 87: 136.29651537800038\n",
      "iteration 88: 136.29651292187523\n",
      "iteration 89: 136.29651083715444\n",
      "iteration 90: 136.29650906652904\n",
      "iteration 91: 136.29650754913465\n",
      "iteration 92: 136.2965062270246\n",
      "iteration 93: 136.29650505096652\n",
      "iteration 94: 136.29650398420367\n",
      "iteration 95: 136.2965030020488\n",
      "iteration 96: 136.29650208886514\n",
      "iteration 97: 136.2965012347748\n",
      "iteration 98: 136.2965004331999\n",
      "iteration 99: 136.29649967930376\n",
      "iteration 100: 136.29649896907068\n"
     ]
    }
   ],
   "source": [
    "W,H = simple_nmf(text_vectors_T,4,100,print_enabled=True)"
   ]
  },
  {
   "cell_type": "code",
   "execution_count": 34,
   "metadata": {},
   "outputs": [],
   "source": [
    "labels_NMF = clustering_NMF(H)"
   ]
  },
  {
   "cell_type": "code",
   "execution_count": 35,
   "metadata": {},
   "outputs": [],
   "source": [
    "labels_NMF_cat = [ map_tags[lab] for lab in labels_NMF ]"
   ]
  },
  {
   "cell_type": "code",
   "execution_count": 36,
   "metadata": {},
   "outputs": [],
   "source": [
    "d = {'x':X_transform[:,0],'y':X_transform[:,1], 'z': X_transform[:,2],'Score':labels_NMF_cat}\n",
    "df = pd.DataFrame(d)"
   ]
  },
  {
   "cell_type": "code",
   "execution_count": 37,
   "metadata": {},
   "outputs": [
    {
     "data": {
      "text/plain": [
       "0.040655900196798274"
      ]
     },
     "execution_count": 37,
     "metadata": {},
     "output_type": "execute_result"
    }
   ],
   "source": [
    "homogeneity_score(data_class,labels_NMF)"
   ]
  },
  {
   "cell_type": "code",
   "execution_count": 38,
   "metadata": {},
   "outputs": [
    {
     "data": {
      "application/vnd.plotly.v1+json": {
       "config": {
        "plotlyServerURL": "https://plot.ly"
       },
       "data": [
        {
         "hoverlabel": {
          "namelength": 0
         },
         "hovertemplate": "Score=baseball<br>x=%{x}<br>y=%{y}<br>z=%{z}",
         "legendgroup": "Score=baseball",
         "marker": {
          "color": "#636efa",
          "symbol": "circle"
         },
         "mode": "markers",
         "name": "Score=baseball",
         "scene": "scene",
         "showlegend": true,
         "type": "scatter3d",
         "x": [
          -211.18629455566406,
          211.3543243408203,
          -5.669851303100586,
          115.1004638671875,
          -73.01152038574219,
          84.33438873291016,
          104.7892837524414,
          -105.13690185546875,
          45.84648513793945,
          18.856325149536133,
          42.135292053222656,
          -172.87249755859375,
          36.425628662109375,
          -58.526309967041016,
          -81.437255859375,
          115.2301025390625,
          -5.797163009643555,
          -33.88813400268555,
          -44.34512710571289,
          57.2690544128418,
          46.501312255859375,
          91.12478637695312,
          168.26028442382812,
          -14.804673194885254,
          -12.641326904296875,
          -127.29474639892578,
          -13.257498741149902,
          -83.3620834350586,
          210.42764282226562,
          61.590187072753906,
          59.71397018432617,
          -133.2787628173828,
          1.2288986444473267,
          -28.22417640686035,
          -108.36487579345703,
          -213.0950927734375,
          -128.8480987548828,
          5.654056549072266,
          30.11127281188965,
          -57.235408782958984,
          66.42610931396484,
          102.83965301513672,
          87.03118896484375,
          52.44514465332031,
          -112.22187042236328,
          90.65320587158203,
          54.14984893798828,
          66.01126098632812,
          143.1126251220703,
          74.23123931884766,
          40.65383529663086,
          145.42813110351562,
          105.24098205566406,
          106.24523162841797,
          93.96272277832031,
          -15.44699764251709,
          -172.30809020996094,
          189.91998291015625,
          21.64377212524414,
          287.6274719238281,
          155.20867919921875,
          -36.14993667602539,
          -142.0059814453125,
          -2.7620737552642822,
          65.20568084716797,
          -174.0811004638672,
          125.6368637084961,
          153.87692260742188,
          190.13441467285156,
          -69.43107604980469,
          -114.09988403320312,
          -99.64364624023438,
          -54.53240203857422,
          -76.7277603149414,
          -142.65013122558594,
          -55.784820556640625,
          35.945892333984375,
          -173.95571899414062,
          38.64990234375,
          129.80665588378906,
          150.5460662841797,
          -34.070865631103516,
          -39.942867279052734,
          -67.8034896850586,
          -128.4916229248047,
          -9.544903755187988,
          43.8409538269043,
          -172.95484924316406,
          -9.4734525680542,
          172.0355224609375,
          -88.53948211669922,
          -218.13580322265625,
          -25.527591705322266,
          184.5294952392578,
          -72.184326171875,
          17.00324821472168
         ],
         "y": [
          -36.503456115722656,
          66.46749877929688,
          -79.23304748535156,
          121.72286224365234,
          -33.2686653137207,
          -26.44825553894043,
          1.2626932859420776,
          144.82302856445312,
          172.71591186523438,
          73.29215240478516,
          109.9831771850586,
          143.86785888671875,
          -22.377511978149414,
          -16.017642974853516,
          107.70092010498047,
          150.00343322753906,
          64.33419799804688,
          -187.7425537109375,
          153.9035186767578,
          -119.80317687988281,
          69.64769744873047,
          -49.41621780395508,
          17.787899017333984,
          -93.30252838134766,
          174.3474578857422,
          -105.69169616699219,
          2.1246681213378906,
          -78.76490020751953,
          -97.7162094116211,
          93.38432312011719,
          -84.36381530761719,
          -8.21381950378418,
          162.09555053710938,
          19.507205963134766,
          -112.72904968261719,
          -77.87092590332031,
          -150.76174926757812,
          -5.67006254196167,
          28.795873641967773,
          60.94538879394531,
          -174.29139709472656,
          -21.249122619628906,
          -94.04501342773438,
          54.4898681640625,
          68.65065002441406,
          26.261920928955078,
          -158.0765380859375,
          -86.83314514160156,
          -169.2066650390625,
          45.35150909423828,
          -27.363426208496094,
          -103.8159408569336,
          6.54671573638916,
          -400.1124572753906,
          202.4381866455078,
          -175.16830444335938,
          97.9723892211914,
          -73.62332916259766,
          -31.966205596923828,
          27.157976150512695,
          72.28487396240234,
          -89.37010955810547,
          -31.444196701049805,
          16.376951217651367,
          180.99119567871094,
          -34.575443267822266,
          101.79720306396484,
          60.5906867980957,
          -31.134790420532227,
          -168.04678344726562,
          182.93931579589844,
          56.6246452331543,
          68.5989990234375,
          -17.00618553161621,
          -154.231201171875,
          -141.84849548339844,
          -237.10067749023438,
          -39.75714874267578,
          -105.14952087402344,
          -97.17379760742188,
          -22.607995986938477,
          -33.25094985961914,
          82.1317138671875,
          -96.7105484008789,
          34.100643157958984,
          111.36300659179688,
          123.24131774902344,
          57.49303436279297,
          -91.90179443359375,
          -15.286863327026367,
          151.40428161621094,
          46.79135513305664,
          168.14569091796875,
          154.7087860107422,
          48.828617095947266,
          -192.77398681640625
         ],
         "z": [
          -57.14572525024414,
          -58.61452102661133,
          -65.9995346069336,
          73.9854965209961,
          -113.647216796875,
          194.47299194335938,
          -80.65238952636719,
          138.0160675048828,
          124.41844177246094,
          48.4498405456543,
          -181.2642822265625,
          5.821041107177734,
          -123.76742553710938,
          -24.00161361694336,
          -114.86664581298828,
          -115.5044937133789,
          -119.38156127929688,
          -102.86780548095703,
          -15.048643112182617,
          84.12176513671875,
          131.5654296875,
          85.24334716796875,
          76.3600845336914,
          -138.09478759765625,
          -82.70225524902344,
          116.93952178955078,
          209.59170532226562,
          36.418025970458984,
          -32.16305923461914,
          -109.09081268310547,
          11.09903335571289,
          23.327239990234375,
          49.43086242675781,
          33.13766098022461,
          -163.54525756835938,
          33.631465911865234,
          -61.73273468017578,
          122.7402572631836,
          -204.7235565185547,
          102.34228515625,
          10.073101997375488,
          2.4322571754455566,
          -70.50713348388672,
          -52.411865234375,
          34.18685531616211,
          84.39989471435547,
          -115.18627166748047,
          -196.31626892089844,
          -46.02469253540039,
          13.487051010131836,
          -30.15155792236328,
          -129.56234741210938,
          -165.9141387939453,
          -345.3110656738281,
          26.536827087402344,
          33.056331634521484,
          -90.66150665283203,
          99.5535659790039,
          55.73847961425781,
          -90.3773193359375,
          -137.27877807617188,
          111.92030334472656,
          91.42735290527344,
          -56.61621856689453,
          -57.89923858642578,
          158.10809326171875,
          -44.11113739013672,
          17.17456817626953,
          -145.89894104003906,
          97.60969543457031,
          -70.8231430053711,
          195.46510314941406,
          -205.9807586669922,
          144.61073303222656,
          36.852169036865234,
          -28.55721092224121,
          -45.37283706665039,
          -142.59217834472656,
          179.4573974609375,
          23.216144561767578,
          10.985280990600586,
          -207.19143676757812,
          -20.803627014160156,
          201.85528564453125,
          -166.99200439453125,
          179.34117126464844,
          -7.032626152038574,
          114.12225341796875,
          11.960443496704102,
          -58.93461608886719,
          53.95323181152344,
          4.2115797996521,
          -165.65353393554688,
          -2.9091439247131348,
          -84.88672637939453,
          127.91851043701172
         ]
        },
        {
         "hoverlabel": {
          "namelength": 0
         },
         "hovertemplate": "Score=hardware<br>x=%{x}<br>y=%{y}<br>z=%{z}",
         "legendgroup": "Score=hardware",
         "marker": {
          "color": "#EF553B",
          "symbol": "circle"
         },
         "mode": "markers",
         "name": "Score=hardware",
         "scene": "scene",
         "showlegend": true,
         "type": "scatter3d",
         "x": [
          -125.5356674194336
         ],
         "y": [
          -71.28944396972656
         ],
         "z": [
          -42.85276412963867
         ]
        },
        {
         "hoverlabel": {
          "namelength": 0
         },
         "hovertemplate": "Score=religion<br>x=%{x}<br>y=%{y}<br>z=%{z}",
         "legendgroup": "Score=religion",
         "marker": {
          "color": "#00cc96",
          "symbol": "circle"
         },
         "mode": "markers",
         "name": "Score=religion",
         "scene": "scene",
         "showlegend": true,
         "type": "scatter3d",
         "x": [
          129.3861541748047,
          146.01858520507812
         ],
         "y": [
          93.27117919921875,
          29.6162052154541
         ],
         "z": [
          172.73622131347656,
          159.19068908691406
         ]
        },
        {
         "hoverlabel": {
          "namelength": 0
         },
         "hovertemplate": "Score=space<br>x=%{x}<br>y=%{y}<br>z=%{z}",
         "legendgroup": "Score=space",
         "marker": {
          "color": "#ab63fa",
          "symbol": "circle"
         },
         "mode": "markers",
         "name": "Score=space",
         "scene": "scene",
         "showlegend": true,
         "type": "scatter3d",
         "x": [
          -137.8595733642578
         ],
         "y": [
          25.337432861328125
         ],
         "z": [
          -50.49159622192383
         ]
        }
       ],
       "layout": {
        "height": 600,
        "legend": {
         "tracegroupgap": 0
        },
        "margin": {
         "t": 60
        },
        "scene": {
         "domain": {
          "x": [
           0,
           0.98
          ],
          "y": [
           0,
           1
          ]
         },
         "xaxis": {
          "title": {
           "text": "x"
          }
         },
         "yaxis": {
          "title": {
           "text": "y"
          }
         },
         "zaxis": {
          "title": {
           "text": "z"
          }
         }
        },
        "template": {
         "data": {
          "bar": [
           {
            "error_x": {
             "color": "#2a3f5f"
            },
            "error_y": {
             "color": "#2a3f5f"
            },
            "marker": {
             "line": {
              "color": "#E5ECF6",
              "width": 0.5
             }
            },
            "type": "bar"
           }
          ],
          "barpolar": [
           {
            "marker": {
             "line": {
              "color": "#E5ECF6",
              "width": 0.5
             }
            },
            "type": "barpolar"
           }
          ],
          "carpet": [
           {
            "aaxis": {
             "endlinecolor": "#2a3f5f",
             "gridcolor": "white",
             "linecolor": "white",
             "minorgridcolor": "white",
             "startlinecolor": "#2a3f5f"
            },
            "baxis": {
             "endlinecolor": "#2a3f5f",
             "gridcolor": "white",
             "linecolor": "white",
             "minorgridcolor": "white",
             "startlinecolor": "#2a3f5f"
            },
            "type": "carpet"
           }
          ],
          "choropleth": [
           {
            "colorbar": {
             "outlinewidth": 0,
             "ticks": ""
            },
            "type": "choropleth"
           }
          ],
          "contour": [
           {
            "colorbar": {
             "outlinewidth": 0,
             "ticks": ""
            },
            "colorscale": [
             [
              0,
              "#0d0887"
             ],
             [
              0.1111111111111111,
              "#46039f"
             ],
             [
              0.2222222222222222,
              "#7201a8"
             ],
             [
              0.3333333333333333,
              "#9c179e"
             ],
             [
              0.4444444444444444,
              "#bd3786"
             ],
             [
              0.5555555555555556,
              "#d8576b"
             ],
             [
              0.6666666666666666,
              "#ed7953"
             ],
             [
              0.7777777777777778,
              "#fb9f3a"
             ],
             [
              0.8888888888888888,
              "#fdca26"
             ],
             [
              1,
              "#f0f921"
             ]
            ],
            "type": "contour"
           }
          ],
          "contourcarpet": [
           {
            "colorbar": {
             "outlinewidth": 0,
             "ticks": ""
            },
            "type": "contourcarpet"
           }
          ],
          "heatmap": [
           {
            "colorbar": {
             "outlinewidth": 0,
             "ticks": ""
            },
            "colorscale": [
             [
              0,
              "#0d0887"
             ],
             [
              0.1111111111111111,
              "#46039f"
             ],
             [
              0.2222222222222222,
              "#7201a8"
             ],
             [
              0.3333333333333333,
              "#9c179e"
             ],
             [
              0.4444444444444444,
              "#bd3786"
             ],
             [
              0.5555555555555556,
              "#d8576b"
             ],
             [
              0.6666666666666666,
              "#ed7953"
             ],
             [
              0.7777777777777778,
              "#fb9f3a"
             ],
             [
              0.8888888888888888,
              "#fdca26"
             ],
             [
              1,
              "#f0f921"
             ]
            ],
            "type": "heatmap"
           }
          ],
          "heatmapgl": [
           {
            "colorbar": {
             "outlinewidth": 0,
             "ticks": ""
            },
            "colorscale": [
             [
              0,
              "#0d0887"
             ],
             [
              0.1111111111111111,
              "#46039f"
             ],
             [
              0.2222222222222222,
              "#7201a8"
             ],
             [
              0.3333333333333333,
              "#9c179e"
             ],
             [
              0.4444444444444444,
              "#bd3786"
             ],
             [
              0.5555555555555556,
              "#d8576b"
             ],
             [
              0.6666666666666666,
              "#ed7953"
             ],
             [
              0.7777777777777778,
              "#fb9f3a"
             ],
             [
              0.8888888888888888,
              "#fdca26"
             ],
             [
              1,
              "#f0f921"
             ]
            ],
            "type": "heatmapgl"
           }
          ],
          "histogram": [
           {
            "marker": {
             "colorbar": {
              "outlinewidth": 0,
              "ticks": ""
             }
            },
            "type": "histogram"
           }
          ],
          "histogram2d": [
           {
            "colorbar": {
             "outlinewidth": 0,
             "ticks": ""
            },
            "colorscale": [
             [
              0,
              "#0d0887"
             ],
             [
              0.1111111111111111,
              "#46039f"
             ],
             [
              0.2222222222222222,
              "#7201a8"
             ],
             [
              0.3333333333333333,
              "#9c179e"
             ],
             [
              0.4444444444444444,
              "#bd3786"
             ],
             [
              0.5555555555555556,
              "#d8576b"
             ],
             [
              0.6666666666666666,
              "#ed7953"
             ],
             [
              0.7777777777777778,
              "#fb9f3a"
             ],
             [
              0.8888888888888888,
              "#fdca26"
             ],
             [
              1,
              "#f0f921"
             ]
            ],
            "type": "histogram2d"
           }
          ],
          "histogram2dcontour": [
           {
            "colorbar": {
             "outlinewidth": 0,
             "ticks": ""
            },
            "colorscale": [
             [
              0,
              "#0d0887"
             ],
             [
              0.1111111111111111,
              "#46039f"
             ],
             [
              0.2222222222222222,
              "#7201a8"
             ],
             [
              0.3333333333333333,
              "#9c179e"
             ],
             [
              0.4444444444444444,
              "#bd3786"
             ],
             [
              0.5555555555555556,
              "#d8576b"
             ],
             [
              0.6666666666666666,
              "#ed7953"
             ],
             [
              0.7777777777777778,
              "#fb9f3a"
             ],
             [
              0.8888888888888888,
              "#fdca26"
             ],
             [
              1,
              "#f0f921"
             ]
            ],
            "type": "histogram2dcontour"
           }
          ],
          "mesh3d": [
           {
            "colorbar": {
             "outlinewidth": 0,
             "ticks": ""
            },
            "type": "mesh3d"
           }
          ],
          "parcoords": [
           {
            "line": {
             "colorbar": {
              "outlinewidth": 0,
              "ticks": ""
             }
            },
            "type": "parcoords"
           }
          ],
          "scatter": [
           {
            "marker": {
             "colorbar": {
              "outlinewidth": 0,
              "ticks": ""
             }
            },
            "type": "scatter"
           }
          ],
          "scatter3d": [
           {
            "line": {
             "colorbar": {
              "outlinewidth": 0,
              "ticks": ""
             }
            },
            "marker": {
             "colorbar": {
              "outlinewidth": 0,
              "ticks": ""
             }
            },
            "type": "scatter3d"
           }
          ],
          "scattercarpet": [
           {
            "marker": {
             "colorbar": {
              "outlinewidth": 0,
              "ticks": ""
             }
            },
            "type": "scattercarpet"
           }
          ],
          "scattergeo": [
           {
            "marker": {
             "colorbar": {
              "outlinewidth": 0,
              "ticks": ""
             }
            },
            "type": "scattergeo"
           }
          ],
          "scattergl": [
           {
            "marker": {
             "colorbar": {
              "outlinewidth": 0,
              "ticks": ""
             }
            },
            "type": "scattergl"
           }
          ],
          "scattermapbox": [
           {
            "marker": {
             "colorbar": {
              "outlinewidth": 0,
              "ticks": ""
             }
            },
            "type": "scattermapbox"
           }
          ],
          "scatterpolar": [
           {
            "marker": {
             "colorbar": {
              "outlinewidth": 0,
              "ticks": ""
             }
            },
            "type": "scatterpolar"
           }
          ],
          "scatterpolargl": [
           {
            "marker": {
             "colorbar": {
              "outlinewidth": 0,
              "ticks": ""
             }
            },
            "type": "scatterpolargl"
           }
          ],
          "scatterternary": [
           {
            "marker": {
             "colorbar": {
              "outlinewidth": 0,
              "ticks": ""
             }
            },
            "type": "scatterternary"
           }
          ],
          "surface": [
           {
            "colorbar": {
             "outlinewidth": 0,
             "ticks": ""
            },
            "colorscale": [
             [
              0,
              "#0d0887"
             ],
             [
              0.1111111111111111,
              "#46039f"
             ],
             [
              0.2222222222222222,
              "#7201a8"
             ],
             [
              0.3333333333333333,
              "#9c179e"
             ],
             [
              0.4444444444444444,
              "#bd3786"
             ],
             [
              0.5555555555555556,
              "#d8576b"
             ],
             [
              0.6666666666666666,
              "#ed7953"
             ],
             [
              0.7777777777777778,
              "#fb9f3a"
             ],
             [
              0.8888888888888888,
              "#fdca26"
             ],
             [
              1,
              "#f0f921"
             ]
            ],
            "type": "surface"
           }
          ],
          "table": [
           {
            "cells": {
             "fill": {
              "color": "#EBF0F8"
             },
             "line": {
              "color": "white"
             }
            },
            "header": {
             "fill": {
              "color": "#C8D4E3"
             },
             "line": {
              "color": "white"
             }
            },
            "type": "table"
           }
          ]
         },
         "layout": {
          "annotationdefaults": {
           "arrowcolor": "#2a3f5f",
           "arrowhead": 0,
           "arrowwidth": 1
          },
          "colorscale": {
           "diverging": [
            [
             0,
             "#8e0152"
            ],
            [
             0.1,
             "#c51b7d"
            ],
            [
             0.2,
             "#de77ae"
            ],
            [
             0.3,
             "#f1b6da"
            ],
            [
             0.4,
             "#fde0ef"
            ],
            [
             0.5,
             "#f7f7f7"
            ],
            [
             0.6,
             "#e6f5d0"
            ],
            [
             0.7,
             "#b8e186"
            ],
            [
             0.8,
             "#7fbc41"
            ],
            [
             0.9,
             "#4d9221"
            ],
            [
             1,
             "#276419"
            ]
           ],
           "sequential": [
            [
             0,
             "#0d0887"
            ],
            [
             0.1111111111111111,
             "#46039f"
            ],
            [
             0.2222222222222222,
             "#7201a8"
            ],
            [
             0.3333333333333333,
             "#9c179e"
            ],
            [
             0.4444444444444444,
             "#bd3786"
            ],
            [
             0.5555555555555556,
             "#d8576b"
            ],
            [
             0.6666666666666666,
             "#ed7953"
            ],
            [
             0.7777777777777778,
             "#fb9f3a"
            ],
            [
             0.8888888888888888,
             "#fdca26"
            ],
            [
             1,
             "#f0f921"
            ]
           ],
           "sequentialminus": [
            [
             0,
             "#0d0887"
            ],
            [
             0.1111111111111111,
             "#46039f"
            ],
            [
             0.2222222222222222,
             "#7201a8"
            ],
            [
             0.3333333333333333,
             "#9c179e"
            ],
            [
             0.4444444444444444,
             "#bd3786"
            ],
            [
             0.5555555555555556,
             "#d8576b"
            ],
            [
             0.6666666666666666,
             "#ed7953"
            ],
            [
             0.7777777777777778,
             "#fb9f3a"
            ],
            [
             0.8888888888888888,
             "#fdca26"
            ],
            [
             1,
             "#f0f921"
            ]
           ]
          },
          "colorway": [
           "#636efa",
           "#EF553B",
           "#00cc96",
           "#ab63fa",
           "#FFA15A",
           "#19d3f3",
           "#FF6692",
           "#B6E880",
           "#FF97FF",
           "#FECB52"
          ],
          "font": {
           "color": "#2a3f5f"
          },
          "geo": {
           "bgcolor": "white",
           "lakecolor": "white",
           "landcolor": "#E5ECF6",
           "showlakes": true,
           "showland": true,
           "subunitcolor": "white"
          },
          "hoverlabel": {
           "align": "left"
          },
          "hovermode": "closest",
          "mapbox": {
           "style": "light"
          },
          "paper_bgcolor": "white",
          "plot_bgcolor": "#E5ECF6",
          "polar": {
           "angularaxis": {
            "gridcolor": "white",
            "linecolor": "white",
            "ticks": ""
           },
           "bgcolor": "#E5ECF6",
           "radialaxis": {
            "gridcolor": "white",
            "linecolor": "white",
            "ticks": ""
           }
          },
          "scene": {
           "xaxis": {
            "backgroundcolor": "#E5ECF6",
            "gridcolor": "white",
            "gridwidth": 2,
            "linecolor": "white",
            "showbackground": true,
            "ticks": "",
            "zerolinecolor": "white"
           },
           "yaxis": {
            "backgroundcolor": "#E5ECF6",
            "gridcolor": "white",
            "gridwidth": 2,
            "linecolor": "white",
            "showbackground": true,
            "ticks": "",
            "zerolinecolor": "white"
           },
           "zaxis": {
            "backgroundcolor": "#E5ECF6",
            "gridcolor": "white",
            "gridwidth": 2,
            "linecolor": "white",
            "showbackground": true,
            "ticks": "",
            "zerolinecolor": "white"
           }
          },
          "shapedefaults": {
           "line": {
            "color": "#2a3f5f"
           }
          },
          "ternary": {
           "aaxis": {
            "gridcolor": "white",
            "linecolor": "white",
            "ticks": ""
           },
           "baxis": {
            "gridcolor": "white",
            "linecolor": "white",
            "ticks": ""
           },
           "bgcolor": "#E5ECF6",
           "caxis": {
            "gridcolor": "white",
            "linecolor": "white",
            "ticks": ""
           }
          },
          "title": {
           "x": 0.05
          },
          "xaxis": {
           "automargin": true,
           "gridcolor": "white",
           "linecolor": "white",
           "ticks": "",
           "zerolinecolor": "white",
           "zerolinewidth": 2
          },
          "yaxis": {
           "automargin": true,
           "gridcolor": "white",
           "linecolor": "white",
           "ticks": "",
           "zerolinecolor": "white",
           "zerolinewidth": 2
          }
         }
        }
       }
      },
      "text/html": [
       "<div>\n",
       "        \n",
       "        \n",
       "            <div id=\"e2e79565-ace2-4e6d-8ad4-b27d8c71f237\" class=\"plotly-graph-div\" style=\"height:600px; width:100%;\"></div>\n",
       "            <script type=\"text/javascript\">\n",
       "                require([\"plotly\"], function(Plotly) {\n",
       "                    window.PLOTLYENV=window.PLOTLYENV || {};\n",
       "                    \n",
       "                if (document.getElementById(\"e2e79565-ace2-4e6d-8ad4-b27d8c71f237\")) {\n",
       "                    Plotly.newPlot(\n",
       "                        'e2e79565-ace2-4e6d-8ad4-b27d8c71f237',\n",
       "                        [{\"hoverlabel\": {\"namelength\": 0}, \"hovertemplate\": \"Score=baseball<br>x=%{x}<br>y=%{y}<br>z=%{z}\", \"legendgroup\": \"Score=baseball\", \"marker\": {\"color\": \"#636efa\", \"symbol\": \"circle\"}, \"mode\": \"markers\", \"name\": \"Score=baseball\", \"scene\": \"scene\", \"showlegend\": true, \"type\": \"scatter3d\", \"x\": [-211.18629455566406, 211.3543243408203, -5.669851303100586, 115.1004638671875, -73.01152038574219, 84.33438873291016, 104.7892837524414, -105.13690185546875, 45.84648513793945, 18.856325149536133, 42.135292053222656, -172.87249755859375, 36.425628662109375, -58.526309967041016, -81.437255859375, 115.2301025390625, -5.797163009643555, -33.88813400268555, -44.34512710571289, 57.2690544128418, 46.501312255859375, 91.12478637695312, 168.26028442382812, -14.804673194885254, -12.641326904296875, -127.29474639892578, -13.257498741149902, -83.3620834350586, 210.42764282226562, 61.590187072753906, 59.71397018432617, -133.2787628173828, 1.2288986444473267, -28.22417640686035, -108.36487579345703, -213.0950927734375, -128.8480987548828, 5.654056549072266, 30.11127281188965, -57.235408782958984, 66.42610931396484, 102.83965301513672, 87.03118896484375, 52.44514465332031, -112.22187042236328, 90.65320587158203, 54.14984893798828, 66.01126098632812, 143.1126251220703, 74.23123931884766, 40.65383529663086, 145.42813110351562, 105.24098205566406, 106.24523162841797, 93.96272277832031, -15.44699764251709, -172.30809020996094, 189.91998291015625, 21.64377212524414, 287.6274719238281, 155.20867919921875, -36.14993667602539, -142.0059814453125, -2.7620737552642822, 65.20568084716797, -174.0811004638672, 125.6368637084961, 153.87692260742188, 190.13441467285156, -69.43107604980469, -114.09988403320312, -99.64364624023438, -54.53240203857422, -76.7277603149414, -142.65013122558594, -55.784820556640625, 35.945892333984375, -173.95571899414062, 38.64990234375, 129.80665588378906, 150.5460662841797, -34.070865631103516, -39.942867279052734, -67.8034896850586, -128.4916229248047, -9.544903755187988, 43.8409538269043, -172.95484924316406, -9.4734525680542, 172.0355224609375, -88.53948211669922, -218.13580322265625, -25.527591705322266, 184.5294952392578, -72.184326171875, 17.00324821472168], \"y\": [-36.503456115722656, 66.46749877929688, -79.23304748535156, 121.72286224365234, -33.2686653137207, -26.44825553894043, 1.2626932859420776, 144.82302856445312, 172.71591186523438, 73.29215240478516, 109.9831771850586, 143.86785888671875, -22.377511978149414, -16.017642974853516, 107.70092010498047, 150.00343322753906, 64.33419799804688, -187.7425537109375, 153.9035186767578, -119.80317687988281, 69.64769744873047, -49.41621780395508, 17.787899017333984, -93.30252838134766, 174.3474578857422, -105.69169616699219, 2.1246681213378906, -78.76490020751953, -97.7162094116211, 93.38432312011719, -84.36381530761719, -8.21381950378418, 162.09555053710938, 19.507205963134766, -112.72904968261719, -77.87092590332031, -150.76174926757812, -5.67006254196167, 28.795873641967773, 60.94538879394531, -174.29139709472656, -21.249122619628906, -94.04501342773438, 54.4898681640625, 68.65065002441406, 26.261920928955078, -158.0765380859375, -86.83314514160156, -169.2066650390625, 45.35150909423828, -27.363426208496094, -103.8159408569336, 6.54671573638916, -400.1124572753906, 202.4381866455078, -175.16830444335938, 97.9723892211914, -73.62332916259766, -31.966205596923828, 27.157976150512695, 72.28487396240234, -89.37010955810547, -31.444196701049805, 16.376951217651367, 180.99119567871094, -34.575443267822266, 101.79720306396484, 60.5906867980957, -31.134790420532227, -168.04678344726562, 182.93931579589844, 56.6246452331543, 68.5989990234375, -17.00618553161621, -154.231201171875, -141.84849548339844, -237.10067749023438, -39.75714874267578, -105.14952087402344, -97.17379760742188, -22.607995986938477, -33.25094985961914, 82.1317138671875, -96.7105484008789, 34.100643157958984, 111.36300659179688, 123.24131774902344, 57.49303436279297, -91.90179443359375, -15.286863327026367, 151.40428161621094, 46.79135513305664, 168.14569091796875, 154.7087860107422, 48.828617095947266, -192.77398681640625], \"z\": [-57.14572525024414, -58.61452102661133, -65.9995346069336, 73.9854965209961, -113.647216796875, 194.47299194335938, -80.65238952636719, 138.0160675048828, 124.41844177246094, 48.4498405456543, -181.2642822265625, 5.821041107177734, -123.76742553710938, -24.00161361694336, -114.86664581298828, -115.5044937133789, -119.38156127929688, -102.86780548095703, -15.048643112182617, 84.12176513671875, 131.5654296875, 85.24334716796875, 76.3600845336914, -138.09478759765625, -82.70225524902344, 116.93952178955078, 209.59170532226562, 36.418025970458984, -32.16305923461914, -109.09081268310547, 11.09903335571289, 23.327239990234375, 49.43086242675781, 33.13766098022461, -163.54525756835938, 33.631465911865234, -61.73273468017578, 122.7402572631836, -204.7235565185547, 102.34228515625, 10.073101997375488, 2.4322571754455566, -70.50713348388672, -52.411865234375, 34.18685531616211, 84.39989471435547, -115.18627166748047, -196.31626892089844, -46.02469253540039, 13.487051010131836, -30.15155792236328, -129.56234741210938, -165.9141387939453, -345.3110656738281, 26.536827087402344, 33.056331634521484, -90.66150665283203, 99.5535659790039, 55.73847961425781, -90.3773193359375, -137.27877807617188, 111.92030334472656, 91.42735290527344, -56.61621856689453, -57.89923858642578, 158.10809326171875, -44.11113739013672, 17.17456817626953, -145.89894104003906, 97.60969543457031, -70.8231430053711, 195.46510314941406, -205.9807586669922, 144.61073303222656, 36.852169036865234, -28.55721092224121, -45.37283706665039, -142.59217834472656, 179.4573974609375, 23.216144561767578, 10.985280990600586, -207.19143676757812, -20.803627014160156, 201.85528564453125, -166.99200439453125, 179.34117126464844, -7.032626152038574, 114.12225341796875, 11.960443496704102, -58.93461608886719, 53.95323181152344, 4.2115797996521, -165.65353393554688, -2.9091439247131348, -84.88672637939453, 127.91851043701172]}, {\"hoverlabel\": {\"namelength\": 0}, \"hovertemplate\": \"Score=hardware<br>x=%{x}<br>y=%{y}<br>z=%{z}\", \"legendgroup\": \"Score=hardware\", \"marker\": {\"color\": \"#EF553B\", \"symbol\": \"circle\"}, \"mode\": \"markers\", \"name\": \"Score=hardware\", \"scene\": \"scene\", \"showlegend\": true, \"type\": \"scatter3d\", \"x\": [-125.5356674194336], \"y\": [-71.28944396972656], \"z\": [-42.85276412963867]}, {\"hoverlabel\": {\"namelength\": 0}, \"hovertemplate\": \"Score=religion<br>x=%{x}<br>y=%{y}<br>z=%{z}\", \"legendgroup\": \"Score=religion\", \"marker\": {\"color\": \"#00cc96\", \"symbol\": \"circle\"}, \"mode\": \"markers\", \"name\": \"Score=religion\", \"scene\": \"scene\", \"showlegend\": true, \"type\": \"scatter3d\", \"x\": [129.3861541748047, 146.01858520507812], \"y\": [93.27117919921875, 29.6162052154541], \"z\": [172.73622131347656, 159.19068908691406]}, {\"hoverlabel\": {\"namelength\": 0}, \"hovertemplate\": \"Score=space<br>x=%{x}<br>y=%{y}<br>z=%{z}\", \"legendgroup\": \"Score=space\", \"marker\": {\"color\": \"#ab63fa\", \"symbol\": \"circle\"}, \"mode\": \"markers\", \"name\": \"Score=space\", \"scene\": \"scene\", \"showlegend\": true, \"type\": \"scatter3d\", \"x\": [-137.8595733642578], \"y\": [25.337432861328125], \"z\": [-50.49159622192383]}],\n",
       "                        {\"height\": 600, \"legend\": {\"tracegroupgap\": 0}, \"margin\": {\"t\": 60}, \"scene\": {\"domain\": {\"x\": [0.0, 0.98], \"y\": [0.0, 1.0]}, \"xaxis\": {\"title\": {\"text\": \"x\"}}, \"yaxis\": {\"title\": {\"text\": \"y\"}}, \"zaxis\": {\"title\": {\"text\": \"z\"}}}, \"template\": {\"data\": {\"bar\": [{\"error_x\": {\"color\": \"#2a3f5f\"}, \"error_y\": {\"color\": \"#2a3f5f\"}, \"marker\": {\"line\": {\"color\": \"#E5ECF6\", \"width\": 0.5}}, \"type\": \"bar\"}], \"barpolar\": [{\"marker\": {\"line\": {\"color\": \"#E5ECF6\", \"width\": 0.5}}, \"type\": \"barpolar\"}], \"carpet\": [{\"aaxis\": {\"endlinecolor\": \"#2a3f5f\", \"gridcolor\": \"white\", \"linecolor\": \"white\", \"minorgridcolor\": \"white\", \"startlinecolor\": \"#2a3f5f\"}, \"baxis\": {\"endlinecolor\": \"#2a3f5f\", \"gridcolor\": \"white\", \"linecolor\": \"white\", \"minorgridcolor\": \"white\", \"startlinecolor\": \"#2a3f5f\"}, \"type\": \"carpet\"}], \"choropleth\": [{\"colorbar\": {\"outlinewidth\": 0, \"ticks\": \"\"}, \"type\": \"choropleth\"}], \"contour\": [{\"colorbar\": {\"outlinewidth\": 0, \"ticks\": \"\"}, \"colorscale\": [[0.0, \"#0d0887\"], [0.1111111111111111, \"#46039f\"], [0.2222222222222222, \"#7201a8\"], [0.3333333333333333, \"#9c179e\"], [0.4444444444444444, \"#bd3786\"], [0.5555555555555556, \"#d8576b\"], [0.6666666666666666, \"#ed7953\"], [0.7777777777777778, \"#fb9f3a\"], [0.8888888888888888, \"#fdca26\"], [1.0, \"#f0f921\"]], \"type\": \"contour\"}], \"contourcarpet\": [{\"colorbar\": {\"outlinewidth\": 0, \"ticks\": \"\"}, \"type\": \"contourcarpet\"}], \"heatmap\": [{\"colorbar\": {\"outlinewidth\": 0, \"ticks\": \"\"}, \"colorscale\": [[0.0, \"#0d0887\"], [0.1111111111111111, \"#46039f\"], [0.2222222222222222, \"#7201a8\"], [0.3333333333333333, \"#9c179e\"], [0.4444444444444444, \"#bd3786\"], [0.5555555555555556, \"#d8576b\"], [0.6666666666666666, \"#ed7953\"], [0.7777777777777778, \"#fb9f3a\"], [0.8888888888888888, \"#fdca26\"], [1.0, \"#f0f921\"]], \"type\": \"heatmap\"}], \"heatmapgl\": [{\"colorbar\": {\"outlinewidth\": 0, \"ticks\": \"\"}, \"colorscale\": [[0.0, \"#0d0887\"], [0.1111111111111111, \"#46039f\"], [0.2222222222222222, \"#7201a8\"], [0.3333333333333333, \"#9c179e\"], [0.4444444444444444, \"#bd3786\"], [0.5555555555555556, \"#d8576b\"], [0.6666666666666666, \"#ed7953\"], [0.7777777777777778, \"#fb9f3a\"], [0.8888888888888888, \"#fdca26\"], [1.0, \"#f0f921\"]], \"type\": \"heatmapgl\"}], \"histogram\": [{\"marker\": {\"colorbar\": {\"outlinewidth\": 0, \"ticks\": \"\"}}, \"type\": \"histogram\"}], \"histogram2d\": [{\"colorbar\": {\"outlinewidth\": 0, \"ticks\": \"\"}, \"colorscale\": [[0.0, \"#0d0887\"], [0.1111111111111111, \"#46039f\"], [0.2222222222222222, \"#7201a8\"], [0.3333333333333333, \"#9c179e\"], [0.4444444444444444, \"#bd3786\"], [0.5555555555555556, \"#d8576b\"], [0.6666666666666666, \"#ed7953\"], [0.7777777777777778, \"#fb9f3a\"], [0.8888888888888888, \"#fdca26\"], [1.0, \"#f0f921\"]], \"type\": \"histogram2d\"}], \"histogram2dcontour\": [{\"colorbar\": {\"outlinewidth\": 0, \"ticks\": \"\"}, \"colorscale\": [[0.0, \"#0d0887\"], [0.1111111111111111, \"#46039f\"], [0.2222222222222222, \"#7201a8\"], [0.3333333333333333, \"#9c179e\"], [0.4444444444444444, \"#bd3786\"], [0.5555555555555556, \"#d8576b\"], [0.6666666666666666, \"#ed7953\"], [0.7777777777777778, \"#fb9f3a\"], [0.8888888888888888, \"#fdca26\"], [1.0, \"#f0f921\"]], \"type\": \"histogram2dcontour\"}], \"mesh3d\": [{\"colorbar\": {\"outlinewidth\": 0, \"ticks\": \"\"}, \"type\": \"mesh3d\"}], \"parcoords\": [{\"line\": {\"colorbar\": {\"outlinewidth\": 0, \"ticks\": \"\"}}, \"type\": \"parcoords\"}], \"scatter\": [{\"marker\": {\"colorbar\": {\"outlinewidth\": 0, \"ticks\": \"\"}}, \"type\": \"scatter\"}], \"scatter3d\": [{\"line\": {\"colorbar\": {\"outlinewidth\": 0, \"ticks\": \"\"}}, \"marker\": {\"colorbar\": {\"outlinewidth\": 0, \"ticks\": \"\"}}, \"type\": \"scatter3d\"}], \"scattercarpet\": [{\"marker\": {\"colorbar\": {\"outlinewidth\": 0, \"ticks\": \"\"}}, \"type\": \"scattercarpet\"}], \"scattergeo\": [{\"marker\": {\"colorbar\": {\"outlinewidth\": 0, \"ticks\": \"\"}}, \"type\": \"scattergeo\"}], \"scattergl\": [{\"marker\": {\"colorbar\": {\"outlinewidth\": 0, \"ticks\": \"\"}}, \"type\": \"scattergl\"}], \"scattermapbox\": [{\"marker\": {\"colorbar\": {\"outlinewidth\": 0, \"ticks\": \"\"}}, \"type\": \"scattermapbox\"}], \"scatterpolar\": [{\"marker\": {\"colorbar\": {\"outlinewidth\": 0, \"ticks\": \"\"}}, \"type\": \"scatterpolar\"}], \"scatterpolargl\": [{\"marker\": {\"colorbar\": {\"outlinewidth\": 0, \"ticks\": \"\"}}, \"type\": \"scatterpolargl\"}], \"scatterternary\": [{\"marker\": {\"colorbar\": {\"outlinewidth\": 0, \"ticks\": \"\"}}, \"type\": \"scatterternary\"}], \"surface\": [{\"colorbar\": {\"outlinewidth\": 0, \"ticks\": \"\"}, \"colorscale\": [[0.0, \"#0d0887\"], [0.1111111111111111, \"#46039f\"], [0.2222222222222222, \"#7201a8\"], [0.3333333333333333, \"#9c179e\"], [0.4444444444444444, \"#bd3786\"], [0.5555555555555556, \"#d8576b\"], [0.6666666666666666, \"#ed7953\"], [0.7777777777777778, \"#fb9f3a\"], [0.8888888888888888, \"#fdca26\"], [1.0, \"#f0f921\"]], \"type\": \"surface\"}], \"table\": [{\"cells\": {\"fill\": {\"color\": \"#EBF0F8\"}, \"line\": {\"color\": \"white\"}}, \"header\": {\"fill\": {\"color\": \"#C8D4E3\"}, \"line\": {\"color\": \"white\"}}, \"type\": \"table\"}]}, \"layout\": {\"annotationdefaults\": {\"arrowcolor\": \"#2a3f5f\", \"arrowhead\": 0, \"arrowwidth\": 1}, \"colorscale\": {\"diverging\": [[0, \"#8e0152\"], [0.1, \"#c51b7d\"], [0.2, \"#de77ae\"], [0.3, \"#f1b6da\"], [0.4, \"#fde0ef\"], [0.5, \"#f7f7f7\"], [0.6, \"#e6f5d0\"], [0.7, \"#b8e186\"], [0.8, \"#7fbc41\"], [0.9, \"#4d9221\"], [1, \"#276419\"]], \"sequential\": [[0.0, \"#0d0887\"], [0.1111111111111111, \"#46039f\"], [0.2222222222222222, \"#7201a8\"], [0.3333333333333333, \"#9c179e\"], [0.4444444444444444, \"#bd3786\"], [0.5555555555555556, \"#d8576b\"], [0.6666666666666666, \"#ed7953\"], [0.7777777777777778, \"#fb9f3a\"], [0.8888888888888888, \"#fdca26\"], [1.0, \"#f0f921\"]], \"sequentialminus\": [[0.0, \"#0d0887\"], [0.1111111111111111, \"#46039f\"], [0.2222222222222222, \"#7201a8\"], [0.3333333333333333, \"#9c179e\"], [0.4444444444444444, \"#bd3786\"], [0.5555555555555556, \"#d8576b\"], [0.6666666666666666, \"#ed7953\"], [0.7777777777777778, \"#fb9f3a\"], [0.8888888888888888, \"#fdca26\"], [1.0, \"#f0f921\"]]}, \"colorway\": [\"#636efa\", \"#EF553B\", \"#00cc96\", \"#ab63fa\", \"#FFA15A\", \"#19d3f3\", \"#FF6692\", \"#B6E880\", \"#FF97FF\", \"#FECB52\"], \"font\": {\"color\": \"#2a3f5f\"}, \"geo\": {\"bgcolor\": \"white\", \"lakecolor\": \"white\", \"landcolor\": \"#E5ECF6\", \"showlakes\": true, \"showland\": true, \"subunitcolor\": \"white\"}, \"hoverlabel\": {\"align\": \"left\"}, \"hovermode\": \"closest\", \"mapbox\": {\"style\": \"light\"}, \"paper_bgcolor\": \"white\", \"plot_bgcolor\": \"#E5ECF6\", \"polar\": {\"angularaxis\": {\"gridcolor\": \"white\", \"linecolor\": \"white\", \"ticks\": \"\"}, \"bgcolor\": \"#E5ECF6\", \"radialaxis\": {\"gridcolor\": \"white\", \"linecolor\": \"white\", \"ticks\": \"\"}}, \"scene\": {\"xaxis\": {\"backgroundcolor\": \"#E5ECF6\", \"gridcolor\": \"white\", \"gridwidth\": 2, \"linecolor\": \"white\", \"showbackground\": true, \"ticks\": \"\", \"zerolinecolor\": \"white\"}, \"yaxis\": {\"backgroundcolor\": \"#E5ECF6\", \"gridcolor\": \"white\", \"gridwidth\": 2, \"linecolor\": \"white\", \"showbackground\": true, \"ticks\": \"\", \"zerolinecolor\": \"white\"}, \"zaxis\": {\"backgroundcolor\": \"#E5ECF6\", \"gridcolor\": \"white\", \"gridwidth\": 2, \"linecolor\": \"white\", \"showbackground\": true, \"ticks\": \"\", \"zerolinecolor\": \"white\"}}, \"shapedefaults\": {\"line\": {\"color\": \"#2a3f5f\"}}, \"ternary\": {\"aaxis\": {\"gridcolor\": \"white\", \"linecolor\": \"white\", \"ticks\": \"\"}, \"baxis\": {\"gridcolor\": \"white\", \"linecolor\": \"white\", \"ticks\": \"\"}, \"bgcolor\": \"#E5ECF6\", \"caxis\": {\"gridcolor\": \"white\", \"linecolor\": \"white\", \"ticks\": \"\"}}, \"title\": {\"x\": 0.05}, \"xaxis\": {\"automargin\": true, \"gridcolor\": \"white\", \"linecolor\": \"white\", \"ticks\": \"\", \"zerolinecolor\": \"white\", \"zerolinewidth\": 2}, \"yaxis\": {\"automargin\": true, \"gridcolor\": \"white\", \"linecolor\": \"white\", \"ticks\": \"\", \"zerolinecolor\": \"white\", \"zerolinewidth\": 2}}}},\n",
       "                        {\"responsive\": true}\n",
       "                    ).then(function(){\n",
       "                            \n",
       "var gd = document.getElementById('e2e79565-ace2-4e6d-8ad4-b27d8c71f237');\n",
       "var x = new MutationObserver(function (mutations, observer) {{\n",
       "        var display = window.getComputedStyle(gd).display;\n",
       "        if (!display || display === 'none') {{\n",
       "            console.log([gd, 'removed!']);\n",
       "            Plotly.purge(gd);\n",
       "            observer.disconnect();\n",
       "        }}\n",
       "}});\n",
       "\n",
       "// Listen for the removal of the full notebook cells\n",
       "var notebookContainer = gd.closest('#notebook-container');\n",
       "if (notebookContainer) {{\n",
       "    x.observe(notebookContainer, {childList: true});\n",
       "}}\n",
       "\n",
       "// Listen for the clearing of the current output cell\n",
       "var outputEl = gd.closest('.output');\n",
       "if (outputEl) {{\n",
       "    x.observe(outputEl, {childList: true});\n",
       "}}\n",
       "\n",
       "                        })\n",
       "                };\n",
       "                });\n",
       "            </script>\n",
       "        </div>"
      ]
     },
     "metadata": {},
     "output_type": "display_data"
    }
   ],
   "source": [
    "fig = px.scatter_3d(df, x=\"x\", y=\"y\", z=\"z\",color=\"Score\")\n",
    "fig.show()"
   ]
  },
  {
   "cell_type": "markdown",
   "metadata": {},
   "source": [
    "### kullback"
   ]
  },
  {
   "cell_type": "code",
   "execution_count": 39,
   "metadata": {},
   "outputs": [
    {
     "name": "stdout",
     "output_type": "stream",
     "text": [
      "Applying multiplicative updates on the input matrix...\n",
      "---------------------------------------------------------------------\n",
      "Frobenius norm ||X - WH||_F\n",
      "\n"
     ]
    },
    {
     "ename": "ValueError",
     "evalue": "setting an array element with a sequence.",
     "output_type": "error",
     "traceback": [
      "\u001b[0;31m---------------------------------------------------------------------------\u001b[0m",
      "\u001b[0;31mValueError\u001b[0m                                Traceback (most recent call last)",
      "\u001b[0;32m<ipython-input-39-dc1447c3ac65>\u001b[0m in \u001b[0;36m<module>\u001b[0;34m\u001b[0m\n\u001b[0;32m----> 1\u001b[0;31m \u001b[0mW\u001b[0m\u001b[0;34m,\u001b[0m\u001b[0mH\u001b[0m \u001b[0;34m=\u001b[0m \u001b[0mnmf2\u001b[0m\u001b[0;34m(\u001b[0m\u001b[0mtext_vectors_T\u001b[0m\u001b[0;34m,\u001b[0m\u001b[0;36m4\u001b[0m\u001b[0;34m,\u001b[0m\u001b[0;36m1000\u001b[0m\u001b[0;34m,\u001b[0m\u001b[0mprint_enabled\u001b[0m\u001b[0;34m=\u001b[0m\u001b[0;32mTrue\u001b[0m\u001b[0;34m)\u001b[0m\u001b[0;34m\u001b[0m\u001b[0;34m\u001b[0m\u001b[0m\n\u001b[0m",
      "\u001b[0;32m~/Google Drive/folders/Universidade/PUC/Doutorado/2019.2/ML Helio (INF2979)/Apresentação 01/matrix-factorization-clustering-methods/NMF.py\u001b[0m in \u001b[0;36mnmf2\u001b[0;34m(X, k, num_iter, init_W, init_H, print_enabled)\u001b[0m\n\u001b[1;32m    123\u001b[0m         \u001b[0;32mfor\u001b[0m \u001b[0ma\u001b[0m \u001b[0;32min\u001b[0m \u001b[0mrange\u001b[0m\u001b[0;34m(\u001b[0m\u001b[0mnp\u001b[0m\u001b[0;34m.\u001b[0m\u001b[0msize\u001b[0m\u001b[0;34m(\u001b[0m\u001b[0mH\u001b[0m\u001b[0;34m,\u001b[0m \u001b[0;36m0\u001b[0m\u001b[0;34m)\u001b[0m\u001b[0;34m)\u001b[0m\u001b[0;34m:\u001b[0m\u001b[0;34m\u001b[0m\u001b[0;34m\u001b[0m\u001b[0m\n\u001b[1;32m    124\u001b[0m             \u001b[0;32mfor\u001b[0m \u001b[0mj\u001b[0m \u001b[0;32min\u001b[0m \u001b[0mrange\u001b[0m\u001b[0;34m(\u001b[0m\u001b[0mnp\u001b[0m\u001b[0;34m.\u001b[0m\u001b[0msize\u001b[0m\u001b[0;34m(\u001b[0m\u001b[0mH\u001b[0m\u001b[0;34m,\u001b[0m \u001b[0;36m1\u001b[0m\u001b[0;34m)\u001b[0m\u001b[0;34m)\u001b[0m\u001b[0;34m:\u001b[0m\u001b[0;34m\u001b[0m\u001b[0;34m\u001b[0m\u001b[0m\n\u001b[0;32m--> 125\u001b[0;31m                 \u001b[0mH\u001b[0m\u001b[0;34m[\u001b[0m\u001b[0ma\u001b[0m\u001b[0;34m,\u001b[0m \u001b[0mj\u001b[0m\u001b[0;34m]\u001b[0m \u001b[0;34m=\u001b[0m \u001b[0mH\u001b[0m\u001b[0;34m[\u001b[0m\u001b[0ma\u001b[0m\u001b[0;34m,\u001b[0m \u001b[0mj\u001b[0m\u001b[0;34m]\u001b[0m \u001b[0;34m*\u001b[0m \u001b[0;34m(\u001b[0m\u001b[0mW\u001b[0m\u001b[0;34m.\u001b[0m\u001b[0mT\u001b[0m\u001b[0;34m[\u001b[0m\u001b[0ma\u001b[0m\u001b[0;34m,\u001b[0m\u001b[0;34m:\u001b[0m\u001b[0;34m]\u001b[0m \u001b[0;34m*\u001b[0m \u001b[0mX\u001b[0m\u001b[0;34m[\u001b[0m\u001b[0;34m:\u001b[0m\u001b[0;34m,\u001b[0m\u001b[0mj\u001b[0m\u001b[0;34m]\u001b[0m\u001b[0;34m/\u001b[0m\u001b[0mWH\u001b[0m\u001b[0;34m[\u001b[0m\u001b[0;34m:\u001b[0m\u001b[0;34m,\u001b[0m\u001b[0mj\u001b[0m\u001b[0;34m]\u001b[0m\u001b[0;34m)\u001b[0m\u001b[0;34m\u001b[0m\u001b[0;34m\u001b[0m\u001b[0m\n\u001b[0m\u001b[1;32m    126\u001b[0m \u001b[0;34m\u001b[0m\u001b[0m\n\u001b[1;32m    127\u001b[0m         \u001b[0;31m# Update W\u001b[0m\u001b[0;34m\u001b[0m\u001b[0;34m\u001b[0m\u001b[0;34m\u001b[0m\u001b[0m\n",
      "\u001b[0;31mValueError\u001b[0m: setting an array element with a sequence."
     ]
    }
   ],
   "source": [
    "W,H = nmf2(text_vectors_T,4,1000,print_enabled=True)"
   ]
  },
  {
   "cell_type": "code",
   "execution_count": null,
   "metadata": {},
   "outputs": [],
   "source": [
    "labels_NMF = clustering_NMF(H)"
   ]
  },
  {
   "cell_type": "code",
   "execution_count": null,
   "metadata": {},
   "outputs": [],
   "source": [
    "labels_NMF_cat = [ map_tags[lab] for lab in labels_NMF ]"
   ]
  },
  {
   "cell_type": "code",
   "execution_count": null,
   "metadata": {},
   "outputs": [],
   "source": [
    "d = {'x':X_transform[:,0],'y':X_transform[:,1], 'z': X_transform[:,2],'Score':labels_NMF_cat}\n",
    "df = pd.DataFrame(d)"
   ]
  },
  {
   "cell_type": "code",
   "execution_count": null,
   "metadata": {},
   "outputs": [],
   "source": [
    "homogeneity_score(data_class,labels_NMF)"
   ]
  },
  {
   "cell_type": "code",
   "execution_count": null,
   "metadata": {},
   "outputs": [],
   "source": [
    "fig = px.scatter_3d(df, x=\"x\", y=\"y\", z=\"z\",color=\"Score\")\n",
    "fig.show()"
   ]
  },
  {
   "cell_type": "code",
   "execution_count": null,
   "metadata": {},
   "outputs": [],
   "source": []
  }
 ],
 "metadata": {
  "kernelspec": {
   "display_name": "Python 3",
   "language": "python",
   "name": "python3"
  },
  "language_info": {
   "codemirror_mode": {
    "name": "ipython",
    "version": 3
   },
   "file_extension": ".py",
   "mimetype": "text/x-python",
   "name": "python",
   "nbconvert_exporter": "python",
   "pygments_lexer": "ipython3",
   "version": "3.7.4"
  }
 },
 "nbformat": 4,
 "nbformat_minor": 4
}
